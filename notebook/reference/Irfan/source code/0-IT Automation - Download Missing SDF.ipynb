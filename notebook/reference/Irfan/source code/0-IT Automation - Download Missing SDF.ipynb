{
 "cells": [
  {
   "cell_type": "code",
   "execution_count": 8,
   "metadata": {},
   "outputs": [],
   "source": [
    "import requests\n",
    "import pandas as pd\n",
    "from tqdm import tqdm"
   ]
  },
  {
   "cell_type": "code",
   "execution_count": 13,
   "metadata": {},
   "outputs": [],
   "source": [
    "missing_train = pd.read_csv('../data/missing-train.csv')"
   ]
  },
  {
   "cell_type": "code",
   "execution_count": 19,
   "metadata": {},
   "outputs": [
    {
     "name": "stdout",
     "output_type": "stream",
     "text": [
      "268\n",
      "263\n"
     ]
    }
   ],
   "source": [
    "pubchem_id = missing_train['pubchemID']\n",
    "print(len(pubchem_id))\n",
    "pubchem_id = pubchem_id.unique()\n",
    "print(len(pubchem_id))"
   ]
  },
  {
   "cell_type": "code",
   "execution_count": 39,
   "metadata": {},
   "outputs": [
    {
     "name": "stderr",
     "output_type": "stream",
     "text": [
      "100%|████████████████████████████████████████████████████████████████████████████████| 263/263 [05:27<00:00,  1.24s/it]\n"
     ]
    }
   ],
   "source": [
    "with open('../data/missing-train.sdf', 'wb+') as f:\n",
    "    for i in tqdm(pubchem_id):\n",
    "        url = 'https://pubchem.ncbi.nlm.nih.gov/rest/pug/compound/CID/' + str(i) + '/record/SDF/?record_type=2d&response_type=save&response_basename=Structure2D_CID_' + str(i)\n",
    "        r = requests.get(url, allow_redirects=True)\n",
    "        f.write(r.content)\n",
    "\n",
    "    f.close()"
   ]
  }
 ],
 "metadata": {
  "kernelspec": {
   "display_name": "Python 3 (ipykernel)",
   "language": "python",
   "name": "python3"
  },
  "language_info": {
   "codemirror_mode": {
    "name": "ipython",
    "version": 3
   },
   "file_extension": ".py",
   "mimetype": "text/x-python",
   "name": "python",
   "nbconvert_exporter": "python",
   "pygments_lexer": "ipython3",
   "version": "3.9.12"
  }
 },
 "nbformat": 4,
 "nbformat_minor": 4
}
