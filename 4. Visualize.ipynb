{
 "cells": [
  {
   "cell_type": "code",
   "execution_count": null,
   "id": "5f373d67",
   "metadata": {},
   "outputs": [],
   "source": []
  },
  {
   "cell_type": "markdown",
   "id": "53d08047",
   "metadata": {},
   "source": [
    "# Visualisasi Senyawa-Protein"
   ]
  },
  {
   "cell_type": "code",
   "execution_count": 1,
   "id": "cdafb322",
   "metadata": {},
   "outputs": [],
   "source": [
    "import matplotlib.pyplot as plt\n",
    "import seaborn as sns\n",
    "import pandas as pd"
   ]
  },
  {
   "cell_type": "code",
   "execution_count": 2,
   "id": "99c99a0f",
   "metadata": {},
   "outputs": [],
   "source": [
    "#load df_merge\n",
    "df = pd.read_csv('dataset/df_final.csv')\n",
    "df_vis = pd.read_csv('dataset/final/kelas_data.csv')"
   ]
  },
  {
   "cell_type": "code",
   "execution_count": 3,
   "id": "82a2e86a",
   "metadata": {},
   "outputs": [],
   "source": [
    "PubChem_CID = df['PubChem CID']"
   ]
  },
  {
   "cell_type": "code",
   "execution_count": 7,
   "id": "4b99a842",
   "metadata": {},
   "outputs": [
    {
     "data": {
      "text/html": [
       "<div>\n",
       "<style scoped>\n",
       "    .dataframe tbody tr th:only-of-type {\n",
       "        vertical-align: middle;\n",
       "    }\n",
       "\n",
       "    .dataframe tbody tr th {\n",
       "        vertical-align: top;\n",
       "    }\n",
       "\n",
       "    .dataframe thead th {\n",
       "        text-align: right;\n",
       "    }\n",
       "</style>\n",
       "<table border=\"1\" class=\"dataframe\">\n",
       "  <thead>\n",
       "    <tr style=\"text-align: right;\">\n",
       "      <th></th>\n",
       "      <th>CID_senyawa</th>\n",
       "      <th>PPARGC1A</th>\n",
       "      <th>INS</th>\n",
       "      <th>LEP</th>\n",
       "      <th>B3GNTL1</th>\n",
       "      <th>PPARG</th>\n",
       "      <th>EP300</th>\n",
       "      <th>LPL</th>\n",
       "    </tr>\n",
       "  </thead>\n",
       "  <tbody>\n",
       "    <tr>\n",
       "      <th>0</th>\n",
       "      <td>261</td>\n",
       "      <td>1</td>\n",
       "      <td>0</td>\n",
       "      <td>0</td>\n",
       "      <td>0</td>\n",
       "      <td>0</td>\n",
       "      <td>1</td>\n",
       "      <td>0</td>\n",
       "    </tr>\n",
       "    <tr>\n",
       "      <th>1</th>\n",
       "      <td>263</td>\n",
       "      <td>1</td>\n",
       "      <td>0</td>\n",
       "      <td>0</td>\n",
       "      <td>0</td>\n",
       "      <td>0</td>\n",
       "      <td>0</td>\n",
       "      <td>0</td>\n",
       "    </tr>\n",
       "    <tr>\n",
       "      <th>2</th>\n",
       "      <td>305</td>\n",
       "      <td>1</td>\n",
       "      <td>0</td>\n",
       "      <td>0</td>\n",
       "      <td>0</td>\n",
       "      <td>0</td>\n",
       "      <td>0</td>\n",
       "      <td>0</td>\n",
       "    </tr>\n",
       "    <tr>\n",
       "      <th>3</th>\n",
       "      <td>525</td>\n",
       "      <td>1</td>\n",
       "      <td>0</td>\n",
       "      <td>0</td>\n",
       "      <td>0</td>\n",
       "      <td>0</td>\n",
       "      <td>0</td>\n",
       "      <td>0</td>\n",
       "    </tr>\n",
       "    <tr>\n",
       "      <th>4</th>\n",
       "      <td>586</td>\n",
       "      <td>1</td>\n",
       "      <td>0</td>\n",
       "      <td>0</td>\n",
       "      <td>0</td>\n",
       "      <td>0</td>\n",
       "      <td>0</td>\n",
       "      <td>0</td>\n",
       "    </tr>\n",
       "    <tr>\n",
       "      <th>...</th>\n",
       "      <td>...</td>\n",
       "      <td>...</td>\n",
       "      <td>...</td>\n",
       "      <td>...</td>\n",
       "      <td>...</td>\n",
       "      <td>...</td>\n",
       "      <td>...</td>\n",
       "      <td>...</td>\n",
       "    </tr>\n",
       "    <tr>\n",
       "      <th>5645</th>\n",
       "      <td>17760032</td>\n",
       "      <td>0</td>\n",
       "      <td>0</td>\n",
       "      <td>0</td>\n",
       "      <td>0</td>\n",
       "      <td>0</td>\n",
       "      <td>0</td>\n",
       "      <td>1</td>\n",
       "    </tr>\n",
       "    <tr>\n",
       "      <th>5646</th>\n",
       "      <td>1367211</td>\n",
       "      <td>0</td>\n",
       "      <td>0</td>\n",
       "      <td>0</td>\n",
       "      <td>0</td>\n",
       "      <td>0</td>\n",
       "      <td>0</td>\n",
       "      <td>1</td>\n",
       "    </tr>\n",
       "    <tr>\n",
       "      <th>5647</th>\n",
       "      <td>2133789</td>\n",
       "      <td>0</td>\n",
       "      <td>0</td>\n",
       "      <td>0</td>\n",
       "      <td>0</td>\n",
       "      <td>0</td>\n",
       "      <td>0</td>\n",
       "      <td>1</td>\n",
       "    </tr>\n",
       "    <tr>\n",
       "      <th>5648</th>\n",
       "      <td>992586</td>\n",
       "      <td>0</td>\n",
       "      <td>0</td>\n",
       "      <td>0</td>\n",
       "      <td>0</td>\n",
       "      <td>0</td>\n",
       "      <td>0</td>\n",
       "      <td>1</td>\n",
       "    </tr>\n",
       "    <tr>\n",
       "      <th>5649</th>\n",
       "      <td>122042</td>\n",
       "      <td>0</td>\n",
       "      <td>0</td>\n",
       "      <td>0</td>\n",
       "      <td>0</td>\n",
       "      <td>0</td>\n",
       "      <td>0</td>\n",
       "      <td>1</td>\n",
       "    </tr>\n",
       "  </tbody>\n",
       "</table>\n",
       "<p>5650 rows × 8 columns</p>\n",
       "</div>"
      ],
      "text/plain": [
       "      CID_senyawa  PPARGC1A  INS  LEP  B3GNTL1  PPARG  EP300  LPL\n",
       "0             261         1    0    0        0      0      1    0\n",
       "1             263         1    0    0        0      0      0    0\n",
       "2             305         1    0    0        0      0      0    0\n",
       "3             525         1    0    0        0      0      0    0\n",
       "4             586         1    0    0        0      0      0    0\n",
       "...           ...       ...  ...  ...      ...    ...    ...  ...\n",
       "5645     17760032         0    0    0        0      0      0    1\n",
       "5646      1367211         0    0    0        0      0      0    1\n",
       "5647      2133789         0    0    0        0      0      0    1\n",
       "5648       992586         0    0    0        0      0      0    1\n",
       "5649       122042         0    0    0        0      0      0    1\n",
       "\n",
       "[5650 rows x 8 columns]"
      ]
     },
     "execution_count": 7,
     "metadata": {},
     "output_type": "execute_result"
    }
   ],
   "source": [
    "df_vis['CID_senyawa'] = PubChem_CID\n",
    "first_column = df_vis.pop('CID_senyawa')\n",
    "df_vis.insert(0, 'CID_senyawa', first_column)\n",
    "df_vis"
   ]
  },
  {
   "cell_type": "code",
   "execution_count": 8,
   "id": "303e2457",
   "metadata": {},
   "outputs": [
    {
     "name": "stdout",
     "output_type": "stream",
     "text": [
      "['PPARGC1A', 'INS', 'LEP', 'B3GNTL1', 'PPARG', 'EP300', 'LPL']\n"
     ]
    }
   ],
   "source": [
    "categories = list(df_vis.columns.values)\n",
    "categories = categories[1:]\n",
    "print(categories)"
   ]
  },
  {
   "cell_type": "code",
   "execution_count": 9,
   "id": "c987e14a",
   "metadata": {},
   "outputs": [
    {
     "data": {
      "text/html": [
       "<div>\n",
       "<style scoped>\n",
       "    .dataframe tbody tr th:only-of-type {\n",
       "        vertical-align: middle;\n",
       "    }\n",
       "\n",
       "    .dataframe tbody tr th {\n",
       "        vertical-align: top;\n",
       "    }\n",
       "\n",
       "    .dataframe thead th {\n",
       "        text-align: right;\n",
       "    }\n",
       "</style>\n",
       "<table border=\"1\" class=\"dataframe\">\n",
       "  <thead>\n",
       "    <tr style=\"text-align: right;\">\n",
       "      <th></th>\n",
       "      <th>category</th>\n",
       "      <th>CID_senyawa</th>\n",
       "    </tr>\n",
       "  </thead>\n",
       "  <tbody>\n",
       "    <tr>\n",
       "      <th>0</th>\n",
       "      <td>PPARGC1A</td>\n",
       "      <td>186</td>\n",
       "    </tr>\n",
       "    <tr>\n",
       "      <th>1</th>\n",
       "      <td>INS</td>\n",
       "      <td>244</td>\n",
       "    </tr>\n",
       "    <tr>\n",
       "      <th>2</th>\n",
       "      <td>LEP</td>\n",
       "      <td>121</td>\n",
       "    </tr>\n",
       "    <tr>\n",
       "      <th>3</th>\n",
       "      <td>B3GNTL1</td>\n",
       "      <td>20</td>\n",
       "    </tr>\n",
       "    <tr>\n",
       "      <th>4</th>\n",
       "      <td>PPARG</td>\n",
       "      <td>4942</td>\n",
       "    </tr>\n",
       "    <tr>\n",
       "      <th>5</th>\n",
       "      <td>EP300</td>\n",
       "      <td>428</td>\n",
       "    </tr>\n",
       "    <tr>\n",
       "      <th>6</th>\n",
       "      <td>LPL</td>\n",
       "      <td>151</td>\n",
       "    </tr>\n",
       "  </tbody>\n",
       "</table>\n",
       "</div>"
      ],
      "text/plain": [
       "   category  CID_senyawa\n",
       "0  PPARGC1A          186\n",
       "1       INS          244\n",
       "2       LEP          121\n",
       "3   B3GNTL1           20\n",
       "4     PPARG         4942\n",
       "5     EP300          428\n",
       "6       LPL          151"
      ]
     },
     "execution_count": 9,
     "metadata": {},
     "output_type": "execute_result"
    }
   ],
   "source": [
    "# Calculating number of comments in each category\n",
    "\n",
    "counts = []\n",
    "for category in categories:\n",
    "    counts.append((category, df_vis[category].sum()))\n",
    "df_stats = pd.DataFrame(counts, columns=['category', 'CID_senyawa'])\n",
    "df_stats"
   ]
  },
  {
   "cell_type": "code",
   "execution_count": 10,
   "id": "8d1f5bbe",
   "metadata": {},
   "outputs": [
    {
     "data": {
      "text/plain": [
       "6092"
      ]
     },
     "execution_count": 10,
     "metadata": {},
     "output_type": "execute_result"
    }
   ],
   "source": [
    "df_stats['CID_senyawa'].sum()"
   ]
  },
  {
   "cell_type": "code",
   "execution_count": 11,
   "id": "cac1aeb4",
   "metadata": {},
   "outputs": [
    {
     "data": {
      "text/plain": [
       "['PPARGC1A', 'INS', 'LEP', 'B3GNTL1', 'PPARG', 'EP300', 'LPL']"
      ]
     },
     "execution_count": 11,
     "metadata": {},
     "output_type": "execute_result"
    }
   ],
   "source": [
    "categories"
   ]
  },
  {
   "cell_type": "code",
   "execution_count": 12,
   "id": "f64f246f",
   "metadata": {},
   "outputs": [
    {
     "data": {
      "text/plain": [
       "array([ 186,  244,  121,   20, 4942,  428,  151])"
      ]
     },
     "execution_count": 12,
     "metadata": {},
     "output_type": "execute_result"
    }
   ],
   "source": [
    "df_vis.iloc[:,1:].sum().values"
   ]
  },
  {
   "cell_type": "code",
   "execution_count": 13,
   "id": "10f49a85",
   "metadata": {},
   "outputs": [
    {
     "name": "stderr",
     "output_type": "stream",
     "text": [
      "/home/fadilrisdian/anaconda3/lib/python3.9/site-packages/seaborn/_decorators.py:36: FutureWarning: Pass the following variables as keyword args: x, y. From version 0.12, the only valid positional argument will be `data`, and passing other arguments without an explicit keyword will result in an error or misinterpretation.\n",
      "  warnings.warn(\n"
     ]
    },
    {
     "data": {
      "image/png": "[encoded data removed]",
      "text/plain": [
       "<Figure size 1080x576 with 1 Axes>"
      ]
     },
     "metadata": {},
     "output_type": "display_data"
    }
   ],
   "source": [
    "sns.set(font_scale = 2)\n",
    "plt.figure(figsize=(15,8))\n",
    "\n",
    "ax= sns.barplot(categories, df_vis.iloc[:,1:].sum().values)\n",
    "\n",
    "plt.title(\"Jumlah senyawa yang berinteraksi setiap protein\", fontsize=24)\n",
    "plt.ylabel('Jumlah Senyawa', fontsize=18)\n",
    "plt.xlabel('Jenis Protein', fontsize=18)\n",
    "\n",
    "#adding the text labels\n",
    "rects = ax.patches\n",
    "labels = df_vis.iloc[:,1:].sum().values\n",
    "for rect, label in zip(rects, labels):\n",
    "    height = rect.get_height()\n",
    "    ax.text(rect.get_x() + rect.get_width()/2, height + 5, label, ha='center', va='bottom', fontsize=18)\n",
    "\n",
    "plt.show()"
   ]
  },
  {
   "cell_type": "markdown",
   "id": "d394eec1",
   "metadata": {},
   "source": [
    "# Visualisasi Senyawa Banyak Protein"
   ]
  },
  {
   "cell_type": "code",
   "execution_count": 14,
   "id": "7afe2c60",
   "metadata": {},
   "outputs": [
    {
     "ename": "NameError",
     "evalue": "name 'multiLabel_counts' is not defined",
     "output_type": "error",
     "traceback": [
      "\u001b[0;31m---------------------------------------------------------------------------\u001b[0m",
      "\u001b[0;31mNameError\u001b[0m                                 Traceback (most recent call last)",
      "Input \u001b[0;32mIn [14]\u001b[0m, in \u001b[0;36m<cell line: 1>\u001b[0;34m()\u001b[0m\n\u001b[0;32m----> 1\u001b[0m values \u001b[38;5;241m=\u001b[39m \u001b[43mmultiLabel_counts\u001b[49m   \n\u001b[1;32m      2\u001b[0m idx \u001b[38;5;241m=\u001b[39m categories\n\u001b[1;32m      3\u001b[0m clrs \u001b[38;5;241m=\u001b[39m [\u001b[38;5;124m'\u001b[39m\u001b[38;5;124mgrey\u001b[39m\u001b[38;5;124m'\u001b[39m \u001b[38;5;28;01mif\u001b[39;00m (x \u001b[38;5;241m<\u001b[39m \u001b[38;5;28mmax\u001b[39m(values)) \u001b[38;5;28;01melse\u001b[39;00m \u001b[38;5;124m'\u001b[39m\u001b[38;5;124mpink\u001b[39m\u001b[38;5;124m'\u001b[39m \u001b[38;5;28;01mfor\u001b[39;00m x \u001b[38;5;129;01min\u001b[39;00m values ]\n",
      "\u001b[0;31mNameError\u001b[0m: name 'multiLabel_counts' is not defined"
     ]
    }
   ],
   "source": [
    "values = multiLabel_counts   \n",
    "idx = categories\n",
    "clrs = ['grey' if (x < max(values)) else 'pink' for x in values ]\n",
    "# sb.barplot(x=idx, y=values, palette=clrs) # color=clrs)"
   ]
  },
  {
   "cell_type": "code",
   "execution_count": 22,
   "id": "67a94840",
   "metadata": {},
   "outputs": [],
   "source": []
  },
  {
   "cell_type": "code",
   "execution_count": 24,
   "id": "b58b4d67",
   "metadata": {},
   "outputs": [
    {
     "name": "stderr",
     "output_type": "stream",
     "text": [
      "/home/fadilrisdian/anaconda3/lib/python3.9/site-packages/seaborn/_decorators.py:36: FutureWarning: Pass the following variables as keyword args: x, y. From version 0.12, the only valid positional argument will be `data`, and passing other arguments without an explicit keyword will result in an error or misinterpretation.\n",
      "  warnings.warn(\n"
     ]
    },
    {
     "data": {
      "image/png": "[encoded data removed]",
      "text/plain": [
       "<Figure size 1080x576 with 1 Axes>"
      ]
     },
     "metadata": {},
     "output_type": "display_data"
    }
   ],
   "source": [
    "rowSums = df_vis.iloc[:,1:].sum(axis=1)\n",
    "multiLabel_counts = rowSums.value_counts()\n",
    "multiLabel_counts = multiLabel_counts.iloc[0:]\n",
    "\n",
    "values = multiLabel_counts   \n",
    "idx = categories\n",
    "clrs = ['grey' if (x < max(values)) else 'pink' for x in values ]\n",
    "# sb.barplot(x=idx, y=values, palette=clrs) # color=clrs)\n",
    "\n",
    "sns.set(font_scale = 2)\n",
    "plt.figure(figsize=(15,8))\n",
    "\n",
    "ax = sns.barplot(multiLabel_counts.index, multiLabel_counts.values, palette=clrs)\n",
    "\n",
    "plt.title(\"Senyawa berinteraksi dengan banyak protein \", fontsize=22)\n",
    "plt.ylabel('Jumlah Senyawa', fontsize=18)\n",
    "plt.xlabel('Jumlah Protein', fontsize=18)\n",
    "\n",
    "#adding the text labels\n",
    "rects = ax.patches\n",
    "labels = multiLabel_counts.values\n",
    "for rect, label in zip(rects, labels):\n",
    "    height = rect.get_height()\n",
    "    ax.text(rect.get_x() + rect.get_width()/2, height + 5, label, ha='center', va='bottom')\n",
    "\n",
    "plt.show()"
   ]
  },
  {
   "cell_type": "code",
   "execution_count": null,
   "id": "ccdf6724",
   "metadata": {},
   "outputs": [],
   "source": []
  },
  {
   "cell_type": "code",
   "execution_count": null,
   "id": "e305e71b",
   "metadata": {},
   "outputs": [],
   "source": []
  },
  {
   "cell_type": "code",
   "execution_count": null,
   "id": "77f7a15b",
   "metadata": {},
   "outputs": [],
   "source": []
  },
  {
   "cell_type": "code",
   "execution_count": null,
   "id": "192ef452",
   "metadata": {},
   "outputs": [],
   "source": []
  },
  {
   "cell_type": "markdown",
   "id": "8f322ccd",
   "metadata": {},
   "source": [
    "# Visualisasi Metric"
   ]
  },
  {
   "cell_type": "code",
   "execution_count": null,
   "id": "7e09b86b",
   "metadata": {},
   "outputs": [],
   "source": [
    "lst = [['sae-dnn', 0.88408, 0.90447, 0.91494, 0.90390], ['dnn', 0.88376, 0.90395, 0.91454, 0.90254]]"
   ]
  },
  {
   "cell_type": "code",
   "execution_count": 16,
   "id": "3934534a",
   "metadata": {},
   "outputs": [],
   "source": [
    "sae_dnn = {\n",
    "    'acc' : 0.88408,\n",
    "    'f1': 0.90447,\n",
    "    'prec': 0.91494,\n",
    "    'rec': 0.90390\n",
    "}\n",
    "\n",
    "dnn = {\n",
    "    'acc' : 0.88376,\n",
    "    'f1': 0.90395,\n",
    "    'prec': 0.91454,\n",
    "    'rec': 0.90254\n",
    "}"
   ]
  },
  {
   "cell_type": "code",
   "execution_count": 115,
   "id": "be5be73c",
   "metadata": {},
   "outputs": [
    {
     "data": {
      "image/png": "[encoded data removed]",
      "text/plain": [
       "<Figure size 1008x504 with 2 Axes>"
      ]
     },
     "metadata": {},
     "output_type": "display_data"
    }
   ],
   "source": [
    "# Intitialize figure with two plots\n",
    "fig, (ax1, ax2) = plt.subplots(1, 2)\n",
    "fig.suptitle('Model Comparison', fontsize=16, fontweight='bold')\n",
    "fig.set_figheight(7)\n",
    "fig.set_figwidth(14)\n",
    "fig.set_facecolor('white')\n",
    "\n",
    "## set bar size\n",
    "barWidth = 0.4\n",
    "sae_dnn_score = [sae_dnn['acc'], sae_dnn['f1'], sae_dnn['prec'], sae_dnn['rec']]\n",
    "dnn_score = [dnn['acc'], dnn['f1'], dnn['prec'], dnn['rec']]\n",
    "\n",
    "## Make the plotRandom Forest\n",
    "ax1.bar(r1, sae_dnn_score, width=barWidth, edgecolor='white', label='SAE-DNN')\n",
    "ax1.bar(r2, dnn_score, width=barWidth, edgecolor='white', label='DNN')\n",
    "\n",
    "## Set position of bar on X axis\n",
    "r1 = np.arange(len(sae_dnn_score))\n",
    "r2 = [x + barWidth for x in r1]\n",
    "\n",
    "## Configure x and y axis\n",
    "ax1.set_xlabel('Metrics', fontweight='bold')\n",
    "labels = ['Accuracy', 'F1', 'Precision', 'Recall']\n",
    "ax1.set_xticks([r + (barWidth * 1) for r in range(len(sae_dnn_score))], )\n",
    "ax1.set_xticklabels(labels)\n",
    "ax1.set_ylabel('Score', fontweight='bold')\n",
    "ax1.set_ylim(0, 1)\n",
    "\n",
    "## Create legend & title\n",
    "ax1.set_title('Evaluation Metrics', fontsize=14, fontweight='bold')\n",
    "ax1.legend()\n",
    "\n",
    "plt.show()"
   ]
  },
  {
   "cell_type": "code",
   "execution_count": null,
   "id": "b95c72c0",
   "metadata": {},
   "outputs": [],
   "source": []
  },
  {
   "cell_type": "code",
   "execution_count": null,
   "id": "7bf13968",
   "metadata": {},
   "outputs": [],
   "source": []
  }
 ],
 "metadata": {
  "kernelspec": {
   "display_name": "Python 3 (ipykernel)",
   "language": "python",
   "name": "python3"
  },
  "language_info": {
   "codemirror_mode": {
    "name": "ipython",
    "version": 3
   },
   "file_extension": ".py",
   "mimetype": "text/x-python",
   "name": "python",
   "nbconvert_exporter": "python",
   "pygments_lexer": "ipython3",
   "version": "3.9.12"
  }
 },
 "nbformat": 4,
 "nbformat_minor": 5
}
