{
 "cells": [
  {
   "cell_type": "markdown",
   "metadata": {
    "id": "cLokOfxdox-F"
   },
   "source": [
    "# Library"
   ]
  },
  {
   "cell_type": "code",
   "execution_count": null,
   "metadata": {
    "colab": {
     "base_uri": "https://localhost:8080/"
    },
    "id": "re7gRBQFbrYB",
    "outputId": "f1fdea89-1262-4e47-8d64-e98f7a6e3155"
   },
   "outputs": [],
   "source": [
    "# Numpy, pandas, time\n",
    "import numpy as np\n",
    "import pandas as pd\n",
    "import time\n",
    "\n",
    "# Iterative Stratification untuk cross validation multilabel\n",
    "from skmultilearn.model_selection import IterativeStratification\n",
    "\n",
    "from sklearn.metrics import accuracy_score, f1_score, precision_score, recall_score\n",
    "from sklearn.model_selection import train_test_split\n",
    "\n",
    "#Import Tensorflow dan extension\n",
    "import tensorflow as tf\n",
    "from tensorflow import keras\n",
    "\n",
    "from tensorflow.keras.models import Sequential, Model, load_model\n",
    "from tensorflow.keras.layers import Input, Dense, Dropout, BatchNormalization, Activation\n",
    "from tensorflow.keras.callbacks import  EarlyStopping\n",
    "from tensorflow.keras import backend as K\n",
    "from tensorflow.keras.backend import sigmoid\n",
    "from tensorflow.keras.optimizers import Adam, Nadam, Adagrad, SGD, RMSprop, Adadelta\n",
    "\n",
    "#Import keras tuner dan metrics untuk tuning parameter\n",
    "import kerastuner as kt\n",
    "from kerastuner.tuners import RandomSearch, BayesianOptimization, Sklearn\n",
    "from sklearn import metrics\n",
    "import tensorflow_addons as tfa"
   ]
  },
  {
   "cell_type": "markdown",
   "metadata": {
    "id": "UxyJfsFLLLUV"
   },
   "source": [
    "# Function"
   ]
  },
  {
   "cell_type": "code",
   "execution_count": null,
   "metadata": {
    "id": "iZOC-u0Ge63Y"
   },
   "outputs": [],
   "source": [
    "#Modifikasi IterativeStratification agar hasil random data tetap sama\n",
    "\n",
    "def new_init(self, n_splits=3, order=1, sample_distribution_per_fold = None, random_state=None):\n",
    "\n",
    "                  self.order = order\n",
    "                  if random_state is not None:\n",
    "                      do_shuffle = True\n",
    "                  else:\n",
    "                      do_shuffle = False\n",
    "                  super(\n",
    "                      IterativeStratification,\n",
    "                      self).__init__(n_splits,\n",
    "                                     shuffle=do_shuffle,\n",
    "                                     random_state=random_state)\n",
    "                  if sample_distribution_per_fold:\n",
    "                      self.percentage_per_fold = sample_distribution_per_fold\n",
    "                  else:\n",
    "                      self.percentage_per_fold = [1 / float(self.n_splits) for _ in range(self.n_splits)]\n",
    "    \n",
    "IterativeStratification.__init__ = new_init\n",
    "# cv = IterativeStratification(n_splits=5, random_state = 123)"
   ]
  },
  {
   "cell_type": "code",
   "execution_count": null,
   "metadata": {
    "id": "W4zOaUsBe8-_"
   },
   "outputs": [],
   "source": [
    "#Fungsi model SAE\n",
    "def sae_model(xt, xv= None, EPOCHS= 100,BATCH_SIZE= 32, opt= \"adam\",\n",
    "              hl_node= 1024, lr= 0.01, af= \"relu\", num_layers= 3, do= 0.5, fr_node= 0.5,\n",
    "              verbose = 0,return_fe = False):\n",
    "  #Setting result placeholders\n",
    "  xt_ae = [] ;xv_ae = [] ; w_ae = []\n",
    "  #If validation set is not present, use train set as validation set\n",
    "  if xv is None :\n",
    "    xv = xt.copy()\n",
    "  opt = tf.keras.optimizers.get(opt) #Set optimizer\n",
    "  K.set_value(opt.learning_rate, lr) #Set learning rate\n",
    "\n",
    "  #Stacked Autoencoder architecture\n",
    "  for n_layers in range(num_layers):\n",
    "    #Autoencoder\n",
    "    inp = Input(shape=(xt.shape[1],))\n",
    "    #Apply Dropout\n",
    "    hidden_layer = Dropout(do)(inp)\n",
    "    #Layer encoder (jumlah layer sesuai dengan n_layers)\n",
    "    enc = Dense(int(hl_node*(fr_node**n_layers)), activation = af)(hidden_layer)  \n",
    "    #Layer Decoder\n",
    "    dec = Dense(xt.shape[1],activation=\"linear\")(enc)\n",
    "    ae = Model(inp, dec)\n",
    "    #Compile model\n",
    "    ae.compile(optimizer=opt, loss='mean_squared_error')\n",
    "    #EarlyStop jika sudah konvergen \n",
    "    es = EarlyStopping(monitor='val_loss', patience=15, verbose=verbose)\n",
    "    #Latih model\n",
    "    ae.fit(xt, xt, \n",
    "           epochs=EPOCHS,batch_size=BATCH_SIZE, \n",
    "           shuffle=True, callbacks = [es] , verbose = verbose,\n",
    "           validation_data = (xv,xv))\n",
    "    #Ekstrak Feature extraction\n",
    "    fe = Model(ae.input, enc)\n",
    "    #Simpan data hasil latih\n",
    "    xt = fe.predict(xt) ; xt_ae.append(xt)\n",
    "    xv = fe.predict(xv) ; xv_ae.append(xv)\n",
    "    #Simpan bobot hasil latih SAE\n",
    "    w_ae.append([layer_name for layer_name in ae.layers if \"dense\" in layer_name.name][0].get_weights())\n",
    "    if verbose:\n",
    "      print(\"Layer {} trained\".format(n_layers+1))\n",
    "\n",
    "  return (w_ae,xv) if return_fe else w_ae"
   ]
  },
  {
   "cell_type": "code",
   "execution_count": null,
   "metadata": {
    "id": "EXD_z6HGe9CD"
   },
   "outputs": [],
   "source": [
    "#Fungsi DNN\n",
    "\n",
    "# kelas output 7\n",
    "# n_outputs = 7\n",
    "\n",
    "def dnn_model(xt, n_outputs= 7, sae_weights= None, EPOCHS= 100,BATCH_SIZE= 32, opt= \"adam\",\n",
    "              hl_node= 1024, lr= 0.01, af= \"relu\", num_layers= 3, do= 0.5, fr_node= 0.5):\n",
    "  opt = tf.keras.optimizers.get(opt) #Set optimizer\n",
    "  K.set_value(opt.learning_rate, lr) #Set learning rate\n",
    "  \n",
    "  #Model architecture\n",
    "  input_layer = Input(shape=(xt.shape[1],))\n",
    "  hidden_layer = BatchNormalization()(input_layer)\n",
    "  hidden_layer = Dropout(do)(hidden_layer)\n",
    "\n",
    "#Set jumlah hidden layer\n",
    "  for n_layers in range(num_layers):\n",
    "    hidden_layer = Dense(int(hl_node*(fr_node**n_layers)), activation = af)(hidden_layer)\n",
    "    hidden_layer = BatchNormalization()(hidden_layer)\n",
    "    hidden_layer = Dropout(do)(hidden_layer)\n",
    "  output_layer = Dense(n_outputs, activation = 'sigmoid')(hidden_layer)\n",
    "\n",
    "#latih model\n",
    "  dnn = Model(input_layer, output_layer)\n",
    "\n",
    "  #Latih model DNN dengan bobot SAE (jika bobot ada)\n",
    "  if sae_weights is not None:\n",
    "    weights = sae_weights\n",
    "    dnn_dense = [layer_name for layer_name in dnn.layers if \"dense\" in layer_name.name]\n",
    "    for weight_from,weight_to in list(zip(weights,dnn_dense)):\n",
    "      weight_to.set_weights(weight_from)\n",
    "\n",
    "#Compile model\n",
    "  dnn.compile(optimizer=opt, loss='binary_crossentropy', metrics = [tf.keras.metrics.BinaryAccuracy(),\n",
    "               tf.keras.metrics.Precision(),\n",
    "               tf.keras.metrics.Recall()],\n",
    "               )\n",
    "  return dnn"
   ]
  },
  {
   "cell_type": "code",
   "execution_count": null,
   "metadata": {
    "id": "gQFKwH0YtNBF"
   },
   "outputs": [],
   "source": [
    "#Fungsi model untuk tuning\n",
    "def build_model(hp):\n",
    "    #Isi parameter yang akan dituning\n",
    "    params = {\n",
    "              'hl_node' : hp.Choice('units',values= para_hl_node),\n",
    "              'af' : hp.Choice('activation',values= para_af),\n",
    "              'lr' : hp.Choice('learning_rate',values= para_lr),\n",
    "              'opt' : hp.Choice('optimizer',values= para_opt),\n",
    "              'num_layers' : hp.Choice('num_layers',values= para_num_layers),\n",
    "              'do' : hp.Choice('dropout_rate',values= para_do),\n",
    "              'fr_node' : hp.Choice('fraction_node',values= para_fr_node)\n",
    "              }\n",
    "    #Latih model SAE\n",
    "    sae_weights = sae_model(xt = X, xv = X_train, EPOCHS= 100,**params)\n",
    "    #Latih model DNN dengan bobot SAE\n",
    "    sae_dnn = dnn_model(X_train, sae_weights=sae_weights, EPOCHS= 100,**params)\n",
    "    return sae_dnn"
   ]
  },
  {
   "cell_type": "markdown",
   "metadata": {
    "id": "PRKA14JcCt8P"
   },
   "source": [
    "# SAE-DNN & DNN FUNCTION\n"
   ]
  },
  {
   "cell_type": "code",
   "execution_count": null,
   "metadata": {
    "id": "0XadN8TQf9mN"
   },
   "outputs": [],
   "source": [
    "def res_sae_dnn(X, hl_node, lr, opt, num_layers, do, fr_node):\n",
    "  \n",
    "  acc_results_tuned = list()\n",
    "  f1_results_tuned = list()\n",
    "  prec_results_tuned = list()\n",
    "  rec_results_tuned = list()\n",
    "  n_inputs, n_outputs = X.shape[1], 7\n",
    "  \n",
    "  print(\"finding sae weights....\")\n",
    "  ti0 = time.time()\n",
    "\n",
    "  sae_weigths_tuned = sae_model(xt = X, hl_node = hl_node, af = \"relu\", lr = lr, opt= opt, num_layers = num_layers,\n",
    "                                do = do, fr_node= fr_node)\n",
    "\n",
    "  ti1 = time.time()\n",
    "  print('done, processing time:', ti1-ti0)\n",
    "  \n",
    "  i=0\n",
    "  t0 = time.time()\n",
    "  # enumerate folds\n",
    "  np.random.seed(123)\n",
    "\n",
    "  for train_ix, test_ix in cv.split(X,Y):\n",
    "    X_train, X_test = X.iloc[train_ix,:], X.iloc[test_ix,:]\n",
    "    y_train, y_test = Y[train_ix], Y[test_ix]\n",
    "    # define model\n",
    "    model_tuned = dnn_model(xt = X_train, sae_weights = sae_weigths_tuned, hl_node = hl_node, af = \"relu\", lr = lr, opt= opt, num_layers = num_layers,\n",
    "                              do = do, fr_node= fr_node)\n",
    "    # fit model\n",
    "    model_tuned.fit(X_train, y_train, verbose=False, epochs=100)\n",
    "    # make a prediction on the test set\n",
    "    yhat = model_tuned.predict(X_test)\n",
    "    # round probabilities to class labels\n",
    "    yhat = yhat.round()\n",
    "    # calculate metrics\n",
    "    acc = accuracy_score(y_test, yhat)\n",
    "    f1 = f1_score(y_test, yhat, average='samples')\n",
    "    prec = precision_score(y_test, yhat, average='samples')\n",
    "    rec = recall_score(y_test, yhat, average='samples')\n",
    "    \n",
    "    # store result\n",
    "    print(\"CV number: \", i)\n",
    "    print('accuracy of :>%.3f' % acc)\n",
    "    print('F1 of :>%.3f' % f1)\n",
    "    print('Precision of :>%.3f' % prec)\n",
    "    print('Recall of :>%.3f' % rec)\n",
    "    acc_results_tuned.append(acc)\n",
    "    f1_results_tuned.append(f1)\n",
    "    prec_results_tuned.append(prec)\n",
    "    rec_results_tuned.append(rec)\n",
    "    i=i+1\n",
    "  \n",
    "  t1 = time.time()\n",
    "  total_waktu = t1-t0\n",
    "\n",
    "  print(\"waktu proses: \", total_waktu)\n",
    "  print(\"Accuracy array:\", acc_results_tuned)\n",
    "  print(\"F1 array:\", f1_results_tuned)\n",
    "  print(\"Precision array:\", prec_results_tuned)\n",
    "  print(\"Recall array:\", rec_results_tuned)\n",
    "\n",
    "  return [acc_results_tuned, f1_results_tuned, prec_results_tuned, rec_results_tuned, model_tuned, total_waktu]"
   ]
  },
  {
   "cell_type": "code",
   "execution_count": null,
   "metadata": {
    "id": "lr_UY1WSrAUV"
   },
   "outputs": [],
   "source": [
    "def dnn_saja(X, hl_node, lr, opt, num_layers, do, fr_node):\n",
    "  acc_results2 = list()\n",
    "  f1_results2 = list()\n",
    "  prec_results2 = list()\n",
    "  rec_results2 = list()\n",
    "  n_inputs, n_outputs = X.shape[1], 7\n",
    "  # define evaluation procedure\n",
    "  # cv = IterativeStratification(n_splits=5, random_state = 123)\n",
    "  i=0\n",
    "  # enumerate folds\n",
    "  t0 = time.time()\n",
    "\n",
    "  for train_ix, test_ix in cv.split(X,Y):\n",
    "    X_train, X_test = X.iloc[train_ix,:], X.iloc[test_ix,:]\n",
    "    y_train, y_test = Y[train_ix], Y[test_ix]\n",
    "    # define model tanpa bobot SAE\n",
    "    model = dnn_model(xt= X_train, sae_weights= None, hl_node= hl_node, af= \"relu\", lr= lr, opt= opt, num_layers= num_layers,\n",
    "                              do= do, fr_node= fr_node)\n",
    "    # fit model\n",
    "    model.fit(X_train, y_train, verbose=False, epochs=100)\n",
    "    # make a prediction on the test set\n",
    "    yhat = model.predict(X_test)\n",
    "    # round probabilities to class labels\n",
    "    yhat = yhat.round()\n",
    "    # calculate metrics\n",
    "    acc = accuracy_score(y_test, yhat)\n",
    "    f1 = f1_score(y_test, yhat, average='samples')\n",
    "    prec = precision_score(y_test, yhat, average='samples')\n",
    "    rec = recall_score(y_test, yhat, average='samples')\n",
    "    # store result\n",
    "    print(\"CV number: \", i)\n",
    "    print('accuracy of :>%.3f' % acc)\n",
    "    print('F1 of :>%.3f' % f1)\n",
    "    print('Precision of :>%.3f' % prec)\n",
    "    print('Recall of :>%.3f' % rec)\n",
    "    acc_results2.append(acc)\n",
    "    f1_results2.append(f1)\n",
    "    prec_results2.append(prec)\n",
    "    rec_results2.append(rec)\n",
    "    i=i+1\n",
    "  \n",
    "  t1 = time.time()\n",
    "  total_waktu = t1-t0\n",
    "  print(\"waktu proses\", total_waktu)\n",
    "  print(\"Accuracy array:\", acc_results2)\n",
    "  print(\"F1 array:\", f1_results2)\n",
    "  print(\"Precision array:\", prec_results2)\n",
    "  print(\"Recall array:\", rec_results2)\n",
    "\n",
    "  return [acc_results2, f1_results2, prec_results2, rec_results2, model, total_waktu]\n",
    "\n",
    "        "
   ]
  },
  {
   "cell_type": "markdown",
   "metadata": {
    "id": "mJulbCiPsVOL"
   },
   "source": [
    "# MAIN"
   ]
  },
  {
   "cell_type": "code",
   "execution_count": null,
   "metadata": {
    "colab": {
     "base_uri": "https://localhost:8080/"
    },
    "id": "_FWw5XS75Kxa",
    "outputId": "4467c7cf-bef2-47bd-ea4f-0a96d0847098"
   },
   "outputs": [
    {
     "name": "stdout",
     "output_type": "stream",
     "text": [
      "Mounted at /content/drive\n"
     ]
    }
   ],
   "source": [
    "from google.colab import drive\n",
    "drive.mount('/content/drive')"
   ]
  },
  {
   "cell_type": "code",
   "execution_count": null,
   "metadata": {
    "id": "D-LIOKnNcO_u"
   },
   "outputs": [],
   "source": [
    "#load dataset\n",
    "df_pubchem = pd.read_csv('/content/drive/MyDrive/skripsi/df_pubchem_rapi.csv')\n",
    "df_maccs = pd.read_csv('/content/drive/MyDrive/skripsi/df_maccs_rapi.csv')\n",
    "df_klekota = pd.read_csv('/content/drive/MyDrive/skripsi/df_klekota_rapi.csv')\n",
    "\n",
    "#drop CID_senyawa\n",
    "X_pubchem = df_pubchem.drop(['CID_senyawa'], axis=1)\n",
    "X_maccs = df_maccs.drop(['CID_senyawa'], axis=1)\n",
    "X_klekota = df_klekota.drop(['CID_senyawa'], axis=1)\n",
    "\n",
    "Y = pd.read_csv('/content/drive/MyDrive/skripsi/kelas_data.csv')\n",
    "Y = np.array(Y)"
   ]
  },
  {
   "cell_type": "code",
   "execution_count": null,
   "metadata": {
    "id": "WPggEeGHt0zM"
   },
   "outputs": [],
   "source": [
    "# define evaluation procedure\n",
    "np.random.seed(123)\n",
    "#Inisialisasi CV\n",
    "cv = IterativeStratification(n_splits=5, random_state = 123)"
   ]
  },
  {
   "cell_type": "code",
   "execution_count": null,
   "metadata": {
    "id": "bX_i-sqy7iBK"
   },
   "outputs": [],
   "source": [
    "X = X_maccs"
   ]
  },
  {
   "cell_type": "code",
   "execution_count": null,
   "metadata": {
    "id": "zdJgj5OozbaV"
   },
   "outputs": [],
   "source": [
    "para_hl_node = [320, 640, 1280, 1500, 1600, 1700, 1800]\n",
    "para_af = [\"relu\"]\n",
    "para_lr = [x for x in np.linspace(0.01,0.1)]\n",
    "para_opt = [\"adam\", \"adagrad\"]\n",
    "para_num_layers = [2,3,4,5]\n",
    "para_do = [0.5,0.6,0.7,0.8]\n",
    "para_fr_node = [0.5,0.66,0.75]"
   ]
  },
  {
   "cell_type": "code",
   "execution_count": null,
   "metadata": {
    "colab": {
     "base_uri": "https://localhost:8080/"
    },
    "id": "IrYeltxlDKZk",
    "outputId": "7a3267e0-33f4-4885-ef88-120d7283d09d"
   },
   "outputs": [
    {
     "name": "stdout",
     "output_type": "stream",
     "text": [
      "Trial 20 Complete [00h 02m 56s]\n",
      "val_recall: 0.8700819611549377\n",
      "\n",
      "Best val_recall So Far: 0.9409835934638977\n",
      "Total elapsed time: 01h 12m 43s\n",
      "INFO:tensorflow:Oracle triggered exit\n",
      "Results summary\n",
      "Results in /home/fadilrisdian/skripsi-fadil/sae_dnn_tuning_bayesFiltered40k\n",
      "Showing 10 best trials\n",
      "<keras_tuner.engine.objective.Objective object at 0x7f5a00661610>\n",
      "Trial summary\n",
      "Hyperparameters:\n",
      "units: 1280\n",
      "activation: relu\n",
      "learning_rate: 0.1\n",
      "optimizer: adam\n",
      "num_layers: 2\n",
      "dropout_rate: 0.5\n",
      "fraction_node: 0.66\n",
      "Score: 0.9409835934638977\n",
      "Trial summary\n",
      "Hyperparameters:\n",
      "units: 1280\n",
      "activation: relu\n",
      "learning_rate: 0.1\n",
      "optimizer: adam\n",
      "num_layers: 2\n",
      "dropout_rate: 0.5\n",
      "fraction_node: 0.5\n",
      "Score: 0.9000000059604645\n",
      "Trial summary\n",
      "Hyperparameters:\n",
      "units: 1280\n",
      "activation: relu\n",
      "learning_rate: 0.1\n",
      "optimizer: adam\n",
      "num_layers: 2\n",
      "dropout_rate: 0.5\n",
      "fraction_node: 0.66\n",
      "Score: 0.8913934230804443\n",
      "Trial summary\n",
      "Hyperparameters:\n",
      "units: 1280\n",
      "activation: relu\n",
      "learning_rate: 0.1\n",
      "optimizer: adam\n",
      "num_layers: 2\n",
      "dropout_rate: 0.5\n",
      "fraction_node: 0.5\n",
      "Score: 0.8860655725002289\n",
      "Trial summary\n",
      "Hyperparameters:\n",
      "units: 1280\n",
      "activation: relu\n",
      "learning_rate: 0.1\n",
      "optimizer: adam\n",
      "num_layers: 2\n",
      "dropout_rate: 0.5\n",
      "fraction_node: 0.5\n",
      "Score: 0.8823770582675934\n",
      "Trial summary\n",
      "Hyperparameters:\n",
      "units: 1280\n",
      "activation: relu\n",
      "learning_rate: 0.1\n",
      "optimizer: adam\n",
      "num_layers: 2\n",
      "dropout_rate: 0.5\n",
      "fraction_node: 0.5\n",
      "Score: 0.8786885142326355\n",
      "Trial summary\n",
      "Hyperparameters:\n",
      "units: 1280\n",
      "activation: relu\n",
      "learning_rate: 0.1\n",
      "optimizer: adam\n",
      "num_layers: 2\n",
      "dropout_rate: 0.5\n",
      "fraction_node: 0.5\n",
      "Score: 0.8754098415374756\n",
      "Trial summary\n",
      "Hyperparameters:\n",
      "units: 1280\n",
      "activation: relu\n",
      "learning_rate: 0.1\n",
      "optimizer: adam\n",
      "num_layers: 2\n",
      "dropout_rate: 0.5\n",
      "fraction_node: 0.5\n",
      "Score: 0.8745901584625244\n",
      "Trial summary\n",
      "Hyperparameters:\n",
      "units: 1280\n",
      "activation: relu\n",
      "learning_rate: 0.1\n",
      "optimizer: adam\n",
      "num_layers: 2\n",
      "dropout_rate: 0.5\n",
      "fraction_node: 0.5\n",
      "Score: 0.8741803169250488\n",
      "Trial summary\n",
      "Hyperparameters:\n",
      "units: 1280\n",
      "activation: relu\n",
      "learning_rate: 0.1\n",
      "optimizer: adam\n",
      "num_layers: 2\n",
      "dropout_rate: 0.5\n",
      "fraction_node: 0.75\n",
      "Score: 0.8725409805774689\n"
     ]
    }
   ],
   "source": [
    "X_train, X_test, y_train, y_test = train_test_split(X,Y, test_size = 0.2)\n",
    "#hypterparameter tuning\n",
    "stop_early = tf.keras.callbacks.EarlyStopping(monitor='val_recall',patience = 25)\n",
    "# Fungsi Bayesian Optimization di Keras Tuner.\n",
    "tuner = BayesianOptimization(build_model,\n",
    "    # Metrik yang dicari optimalnya\n",
    "    objective= kt.Objective(\"val_recall\", direction=\"max\"), \n",
    "    # Jumlah percobaan\n",
    "    max_trials=20,\n",
    "    executions_per_trial=2,\n",
    "    # Folder simpan hasil tuning\n",
    "    directory='/home/fadilrisdian/skripsi-fadil',\n",
    "    project_name='sae_dnn_tuning_bayesFiltered40k', overwrite = True)\n",
    "#Jalankan Keras Tuner u\n",
    "tuner.search(X_train, y_train, epochs=100, validation_data=(X_test, y_test),callbacks=[stop_early])\n",
    "#Tampilkan hasil terbaik\n",
    "tuner.results_summary()"
   ]
  },
  {
   "cell_type": "code",
   "execution_count": null,
   "metadata": {
    "id": "MoFySvec9OEG"
   },
   "outputs": [],
   "source": []
  },
  {
   "cell_type": "code",
   "execution_count": null,
   "metadata": {
    "id": "I549msDigXlb"
   },
   "outputs": [],
   "source": [
    "#Parameter\n",
    "X = X_maccs\n",
    "hl_node = 1800\n",
    "fr_node = 0.66\n",
    "num_layers = 2\n",
    "opt = \"adam\"\n",
    "lr = 0.1\n",
    "do = 0.5\n"
   ]
  },
  {
   "cell_type": "code",
   "execution_count": null,
   "metadata": {
    "colab": {
     "base_uri": "https://localhost:8080/"
    },
    "id": "ve75E1IPW-cn",
    "outputId": "4923b5ac-a2fe-4a0c-ae3a-06b783d8a5ca"
   },
   "outputs": [
    {
     "name": "stdout",
     "output_type": "stream",
     "text": [
      "finding sae weights....\n",
      "done, processing time: 41.210047245025635\n"
     ]
    },
    {
     "name": "stderr",
     "output_type": "stream",
     "text": [
      "/usr/local/lib/python3.7/dist-packages/sklearn/metrics/_classification.py:1318: UndefinedMetricWarning: Precision is ill-defined and being set to 0.0 in samples with no predicted labels. Use `zero_division` parameter to control this behavior.\n",
      "  _warn_prf(average, modifier, msg_start, len(result))\n"
     ]
    },
    {
     "name": "stdout",
     "output_type": "stream",
     "text": [
      "CV number:  0\n",
      "accuracy of :>0.704\n",
      "F1 of :>0.707\n",
      "Precision of :>0.709\n",
      "Recall of :>0.707\n"
     ]
    },
    {
     "name": "stderr",
     "output_type": "stream",
     "text": [
      "/usr/local/lib/python3.7/dist-packages/sklearn/metrics/_classification.py:1318: UndefinedMetricWarning: Precision is ill-defined and being set to 0.0 in samples with no predicted labels. Use `zero_division` parameter to control this behavior.\n",
      "  _warn_prf(average, modifier, msg_start, len(result))\n"
     ]
    },
    {
     "name": "stdout",
     "output_type": "stream",
     "text": [
      "CV number:  1\n",
      "accuracy of :>0.839\n",
      "F1 of :>0.860\n",
      "Precision of :>0.872\n",
      "Recall of :>0.858\n"
     ]
    },
    {
     "name": "stderr",
     "output_type": "stream",
     "text": [
      "/usr/local/lib/python3.7/dist-packages/sklearn/metrics/_classification.py:1318: UndefinedMetricWarning: Precision is ill-defined and being set to 0.0 in samples with no predicted labels. Use `zero_division` parameter to control this behavior.\n",
      "  _warn_prf(average, modifier, msg_start, len(result))\n"
     ]
    },
    {
     "name": "stdout",
     "output_type": "stream",
     "text": [
      "CV number:  2\n",
      "accuracy of :>0.842\n",
      "F1 of :>0.857\n",
      "Precision of :>0.870\n",
      "Recall of :>0.853\n",
      "CV number:  3\n",
      "accuracy of :>0.689\n",
      "F1 of :>0.847\n",
      "Precision of :>0.819\n",
      "Recall of :>0.917\n",
      "CV number:  4\n",
      "accuracy of :>0.812\n",
      "F1 of :>0.883\n",
      "Precision of :>0.878\n",
      "Recall of :>0.908\n",
      "waktu proses:  371.9011871814728\n",
      "Accuracy array: [0.7037037037037037, 0.8390501319261213, 0.8415929203539823, 0.6892857142857143, 0.812223206377325]\n",
      "F1 array: [0.7071428571428572, 0.8597646270469489, 0.8571849978929624, 0.8465745464852606, 0.883447214138091]\n",
      "Precision array: [0.708994708994709, 0.8720316622691293, 0.8699115044247787, 0.8186011904761904, 0.8782108060230293]\n",
      "Recall array: [0.7070399764844209, 0.8577543242450894, 0.8526401179941003, 0.9173086734693876, 0.9076616474756422]\n",
      "CV number:  0\n",
      "accuracy of :>0.828\n",
      "F1 of :>0.891\n",
      "Precision of :>0.891\n",
      "Recall of :>0.913\n",
      "CV number:  1\n",
      "accuracy of :>0.771\n",
      "F1 of :>0.851\n",
      "Precision of :>0.838\n",
      "Recall of :>0.890\n",
      "CV number:  2\n",
      "accuracy of :>0.795\n",
      "F1 of :>0.884\n",
      "Precision of :>0.871\n",
      "Recall of :>0.927\n",
      "CV number:  3\n",
      "accuracy of :>0.840\n",
      "F1 of :>0.862\n",
      "Precision of :>0.878\n",
      "Recall of :>0.857\n",
      "CV number:  4\n",
      "accuracy of :>0.775\n",
      "F1 of :>0.787\n",
      "Precision of :>0.790\n",
      "Recall of :>0.789\n",
      "waktu proses 337.76606917381287\n",
      "Accuracy array: [0.8278615794143744, 0.7706093189964157, 0.7950963222416813, 0.839572192513369, 0.7751531058617673]\n",
      "F1 array: [0.8905649216208223, 0.8505710587699835, 0.8841631223417564, 0.8616564807741278, 0.7868683081281507]\n",
      "Precision array: [0.8911564625850339, 0.8382616487455197, 0.8706946876824284, 0.8781937017231134, 0.7903324584426947]\n",
      "Recall array: [0.9128364389233954, 0.8897401433691756, 0.9267659077641566, 0.856796961208726, 0.7892096821230679]\n"
     ]
    },
    {
     "name": "stderr",
     "output_type": "stream",
     "text": [
      "/usr/local/lib/python3.7/dist-packages/sklearn/metrics/_classification.py:1318: UndefinedMetricWarning: Precision is ill-defined and being set to 0.0 in samples with no predicted labels. Use `zero_division` parameter to control this behavior.\n",
      "  _warn_prf(average, modifier, msg_start, len(result))\n"
     ]
    }
   ],
   "source": [
    "hasil_saednn = res_sae_dnn(X, hl_node, lr, opt, num_layers, do, fr_node)\n",
    "dnn_aja = dnn_saja(X, hl_node, lr, opt, num_layers, do, fr_node)"
   ]
  },
  {
   "cell_type": "code",
   "execution_count": null,
   "metadata": {
    "colab": {
     "base_uri": "https://localhost:8080/"
    },
    "id": "bKkIkh7PXHm6",
    "outputId": "86e7f053-8a56-4a33-80b5-a314877787b4"
   },
   "outputs": [
    {
     "name": "stdout",
     "output_type": "stream",
     "text": [
      "===================================\n",
      "===================================\n",
      "SAE-DNN TUNED PERFORMANCE\n",
      "Accuracy    : 0.77717±0.067\n",
      "F1 Score    : 0.83082±0.063\n",
      "Precision   : 0.82955±0.064\n",
      "Recall      : 0.84848±0.075\n",
      "===================================\n",
      "===================================\n",
      "DNN ONLY PERFORMANCE\n",
      "Accuracy    : 0.80166±0.028\n",
      "F1 Score    : 0.85476±0.037\n",
      "Precision   : 0.85373±0.036\n",
      "Recall       : 0.87507±0.049\n"
     ]
    }
   ],
   "source": [
    "\n",
    "print('===================================')\n",
    "print('===================================')\n",
    "print('SAE-DNN TUNED PERFORMANCE')\n",
    "print('Accuracy    : {0:.5f}±{1:.3f}'.format(np.mean(hasil_saednn[0]), np.std(hasil_saednn[0])))\n",
    "print('F1 Score    : {0:.5f}±{1:.3f}'.format(np.mean(hasil_saednn[1]), np.std(hasil_saednn[1])))\n",
    "print('Precision   : {0:.5f}±{1:.3f}'.format(np.mean(hasil_saednn[2]), np.std(hasil_saednn[2])))\n",
    "print('Recall      : {0:.5f}±{1:.3f}'.format(np.mean(hasil_saednn[3]), np.std(hasil_saednn[3])))\n",
    "print('===================================')\n",
    "print('===================================')\n",
    "print('DNN ONLY PERFORMANCE')\n",
    "print('Accuracy    : {0:.5f}±{1:.3f}'.format(np.mean(dnn_aja[0]), np.std(dnn_aja[0])))\n",
    "print('F1 Score    : {0:.5f}±{1:.3f}'.format(np.mean(dnn_aja[1]), np.std(dnn_aja[1])))\n",
    "print('Precision   : {0:.5f}±{1:.3f}'.format(np.mean(dnn_aja[2]), np.std(dnn_aja[2])))\n",
    "print('Recall       : {0:.5f}±{1:.3f}'.format(np.mean(dnn_aja[3]), np.std(dnn_aja[3])))\n"
   ]
  },
  {
   "cell_type": "code",
   "execution_count": null,
   "metadata": {
    "id": "8FQzhtbuaf4j"
   },
   "outputs": [],
   "source": [
    "sae_dnn_maccs_tuned = hasil_saednn[4]\n",
    "dnn_maccs_tuned = dnn_aja[4]\n",
    "\n",
    "sae_dnn_maccs_tuned.save(\"sae_dnn_maccs_tuned.h5\")\n",
    "dnn_maccs_tuned.save(\"dnn_maccs_tuned.h5\")"
   ]
  },
  {
   "cell_type": "code",
   "execution_count": null,
   "metadata": {
    "id": "RUwRYLBoRmwk"
   },
   "outputs": [],
   "source": [
    "SD_ACC = []\n",
    "SD_F1 = []\n",
    "SD_PRE = []\n",
    "SD_RE = []\n",
    "\n",
    "S_ACC = []\n",
    "S_F1 = []\n",
    "S_PRE = []\n",
    "S_RE = []"
   ]
  },
  {
   "cell_type": "code",
   "execution_count": null,
   "metadata": {
    "colab": {
     "base_uri": "https://localhost:8080/"
    },
    "id": "bYCA689_m10S",
    "outputId": "71f92b09-7a8f-4ea6-ae81-81e35a8f8e96"
   },
   "outputs": [
    {
     "name": "stdout",
     "output_type": "stream",
     "text": [
      "finding sae weights....\n",
      "done, processing time: 88.39249634742737\n"
     ]
    },
    {
     "name": "stderr",
     "output_type": "stream",
     "text": [
      "/usr/local/lib/python3.7/dist-packages/sklearn/metrics/_classification.py:1318: UndefinedMetricWarning: Precision is ill-defined and being set to 0.0 in samples with no predicted labels. Use `zero_division` parameter to control this behavior.\n",
      "  _warn_prf(average, modifier, msg_start, len(result))\n"
     ]
    },
    {
     "name": "stdout",
     "output_type": "stream",
     "text": [
      "CV number:  0\n",
      "accuracy of :>0.434\n",
      "F1 of :>0.751\n",
      "Precision of :>0.680\n",
      "Recall of :>0.901\n"
     ]
    },
    {
     "name": "stderr",
     "output_type": "stream",
     "text": [
      "/usr/local/lib/python3.7/dist-packages/sklearn/metrics/_classification.py:1318: UndefinedMetricWarning: Precision is ill-defined and being set to 0.0 in samples with no predicted labels. Use `zero_division` parameter to control this behavior.\n",
      "  _warn_prf(average, modifier, msg_start, len(result))\n"
     ]
    },
    {
     "name": "stdout",
     "output_type": "stream",
     "text": [
      "CV number:  1\n",
      "accuracy of :>0.674\n",
      "F1 of :>0.809\n",
      "Precision of :>0.776\n",
      "Recall of :>0.910\n"
     ]
    },
    {
     "name": "stderr",
     "output_type": "stream",
     "text": [
      "/usr/local/lib/python3.7/dist-packages/sklearn/metrics/_classification.py:1318: UndefinedMetricWarning: Precision is ill-defined and being set to 0.0 in samples with no predicted labels. Use `zero_division` parameter to control this behavior.\n",
      "  _warn_prf(average, modifier, msg_start, len(result))\n"
     ]
    },
    {
     "name": "stdout",
     "output_type": "stream",
     "text": [
      "CV number:  2\n",
      "accuracy of :>0.846\n",
      "F1 of :>0.876\n",
      "Precision of :>0.885\n",
      "Recall of :>0.882\n"
     ]
    },
    {
     "name": "stderr",
     "output_type": "stream",
     "text": [
      "/usr/local/lib/python3.7/dist-packages/sklearn/metrics/_classification.py:1318: UndefinedMetricWarning: Precision is ill-defined and being set to 0.0 in samples with no predicted labels. Use `zero_division` parameter to control this behavior.\n",
      "  _warn_prf(average, modifier, msg_start, len(result))\n"
     ]
    },
    {
     "name": "stdout",
     "output_type": "stream",
     "text": [
      "CV number:  3\n",
      "accuracy of :>0.741\n",
      "F1 of :>0.752\n",
      "Precision of :>0.756\n",
      "Recall of :>0.755\n"
     ]
    },
    {
     "name": "stderr",
     "output_type": "stream",
     "text": [
      "/usr/local/lib/python3.7/dist-packages/sklearn/metrics/_classification.py:1318: UndefinedMetricWarning: Precision is ill-defined and being set to 0.0 in samples with no predicted labels. Use `zero_division` parameter to control this behavior.\n",
      "  _warn_prf(average, modifier, msg_start, len(result))\n"
     ]
    },
    {
     "name": "stdout",
     "output_type": "stream",
     "text": [
      "CV number:  4\n",
      "accuracy of :>0.815\n",
      "F1 of :>0.854\n",
      "Precision of :>0.856\n",
      "Recall of :>0.868\n",
      "waktu proses:  373.58583092689514\n",
      "Accuracy array: [0.43386243386243384, 0.673702726473175, 0.8460176991150442, 0.7410714285714286, 0.8148804251550045]\n",
      "F1 array: [0.7505416981607458, 0.8093011405676312, 0.8756300042140751, 0.7521230158730159, 0.8539077987262221]\n",
      "Precision array: [0.6796296296296297, 0.775784227499267, 0.8847935103244837, 0.7563392857142858, 0.8558754059639799]\n",
      "Recall array: [0.9013815402704293, 0.9096892406918792, 0.8820206489675517, 0.7554464285714286, 0.8683348095659876]\n"
     ]
    },
    {
     "name": "stderr",
     "output_type": "stream",
     "text": [
      "/usr/local/lib/python3.7/dist-packages/sklearn/metrics/_classification.py:1318: UndefinedMetricWarning: Precision is ill-defined and being set to 0.0 in samples with no predicted labels. Use `zero_division` parameter to control this behavior.\n",
      "  _warn_prf(average, modifier, msg_start, len(result))\n"
     ]
    },
    {
     "name": "stdout",
     "output_type": "stream",
     "text": [
      "CV number:  0\n",
      "accuracy of :>0.857\n",
      "F1 of :>0.880\n",
      "Precision of :>0.891\n",
      "Recall of :>0.882\n"
     ]
    },
    {
     "name": "stderr",
     "output_type": "stream",
     "text": [
      "/usr/local/lib/python3.7/dist-packages/sklearn/metrics/_classification.py:1318: UndefinedMetricWarning: Precision is ill-defined and being set to 0.0 in samples with no predicted labels. Use `zero_division` parameter to control this behavior.\n",
      "  _warn_prf(average, modifier, msg_start, len(result))\n"
     ]
    },
    {
     "name": "stdout",
     "output_type": "stream",
     "text": [
      "CV number:  1\n",
      "accuracy of :>0.811\n",
      "F1 of :>0.826\n",
      "Precision of :>0.828\n",
      "Recall of :>0.836\n"
     ]
    },
    {
     "name": "stderr",
     "output_type": "stream",
     "text": [
      "/usr/local/lib/python3.7/dist-packages/sklearn/metrics/_classification.py:1318: UndefinedMetricWarning: Precision is ill-defined and being set to 0.0 in samples with no predicted labels. Use `zero_division` parameter to control this behavior.\n",
      "  _warn_prf(average, modifier, msg_start, len(result))\n"
     ]
    },
    {
     "name": "stdout",
     "output_type": "stream",
     "text": [
      "CV number:  2\n",
      "accuracy of :>0.821\n",
      "F1 of :>0.861\n",
      "Precision of :>0.862\n",
      "Recall of :>0.881\n"
     ]
    },
    {
     "name": "stderr",
     "output_type": "stream",
     "text": [
      "/usr/local/lib/python3.7/dist-packages/sklearn/metrics/_classification.py:1318: UndefinedMetricWarning: Precision is ill-defined and being set to 0.0 in samples with no predicted labels. Use `zero_division` parameter to control this behavior.\n",
      "  _warn_prf(average, modifier, msg_start, len(result))\n"
     ]
    },
    {
     "name": "stdout",
     "output_type": "stream",
     "text": [
      "CV number:  3\n",
      "accuracy of :>0.829\n",
      "F1 of :>0.854\n",
      "Precision of :>0.858\n",
      "Recall of :>0.863\n"
     ]
    },
    {
     "name": "stderr",
     "output_type": "stream",
     "text": [
      "/usr/local/lib/python3.7/dist-packages/sklearn/metrics/_classification.py:1318: UndefinedMetricWarning: Precision is ill-defined and being set to 0.0 in samples with no predicted labels. Use `zero_division` parameter to control this behavior.\n",
      "  _warn_prf(average, modifier, msg_start, len(result))\n"
     ]
    },
    {
     "name": "stdout",
     "output_type": "stream",
     "text": [
      "CV number:  4\n",
      "accuracy of :>0.772\n",
      "F1 of :>0.791\n",
      "Precision of :>0.791\n",
      "Recall of :>0.803\n",
      "waktu proses 356.7619755268097\n",
      "Accuracy array: [0.8571428571428571, 0.8109318996415771, 0.8213660245183888, 0.8288770053475936, 0.7716535433070866]\n",
      "F1 array: [0.8799721130688299, 0.826137139443591, 0.8610249353681929, 0.8543969102792632, 0.790851143607049]\n",
      "Precision array: [0.8914374445430345, 0.82807859703021, 0.8622300058377117, 0.8579322638146166, 0.7911490230387868]\n",
      "Recall array: [0.8824460218870157, 0.8359468339307049, 0.8810128429655575, 0.8626559714795009, 0.8031787693205016]\n",
      "finding sae weights....\n",
      "done, processing time: 55.448458194732666\n"
     ]
    },
    {
     "name": "stderr",
     "output_type": "stream",
     "text": [
      "/usr/local/lib/python3.7/dist-packages/sklearn/metrics/_classification.py:1318: UndefinedMetricWarning: Precision is ill-defined and being set to 0.0 in samples with no predicted labels. Use `zero_division` parameter to control this behavior.\n",
      "  _warn_prf(average, modifier, msg_start, len(result))\n"
     ]
    },
    {
     "name": "stdout",
     "output_type": "stream",
     "text": [
      "CV number:  0\n",
      "accuracy of :>0.828\n",
      "F1 of :>0.882\n",
      "Precision of :>0.880\n",
      "Recall of :>0.905\n"
     ]
    },
    {
     "name": "stderr",
     "output_type": "stream",
     "text": [
      "/usr/local/lib/python3.7/dist-packages/sklearn/metrics/_classification.py:1318: UndefinedMetricWarning: Precision is ill-defined and being set to 0.0 in samples with no predicted labels. Use `zero_division` parameter to control this behavior.\n",
      "  _warn_prf(average, modifier, msg_start, len(result))\n"
     ]
    },
    {
     "name": "stdout",
     "output_type": "stream",
     "text": [
      "CV number:  1\n",
      "accuracy of :>0.776\n",
      "F1 of :>0.818\n",
      "Precision of :>0.814\n",
      "Recall of :>0.837\n"
     ]
    },
    {
     "name": "stderr",
     "output_type": "stream",
     "text": [
      "/usr/local/lib/python3.7/dist-packages/sklearn/metrics/_classification.py:1318: UndefinedMetricWarning: Precision is ill-defined and being set to 0.0 in samples with no predicted labels. Use `zero_division` parameter to control this behavior.\n",
      "  _warn_prf(average, modifier, msg_start, len(result))\n"
     ]
    },
    {
     "name": "stdout",
     "output_type": "stream",
     "text": [
      "CV number:  2\n",
      "accuracy of :>0.757\n",
      "F1 of :>0.776\n",
      "Precision of :>0.778\n",
      "Recall of :>0.784\n"
     ]
    },
    {
     "name": "stderr",
     "output_type": "stream",
     "text": [
      "/usr/local/lib/python3.7/dist-packages/sklearn/metrics/_classification.py:1318: UndefinedMetricWarning: Precision is ill-defined and being set to 0.0 in samples with no predicted labels. Use `zero_division` parameter to control this behavior.\n",
      "  _warn_prf(average, modifier, msg_start, len(result))\n"
     ]
    },
    {
     "name": "stdout",
     "output_type": "stream",
     "text": [
      "CV number:  3\n",
      "accuracy of :>0.787\n",
      "F1 of :>0.802\n",
      "Precision of :>0.808\n",
      "Recall of :>0.806\n"
     ]
    },
    {
     "name": "stderr",
     "output_type": "stream",
     "text": [
      "/usr/local/lib/python3.7/dist-packages/sklearn/metrics/_classification.py:1318: UndefinedMetricWarning: Precision is ill-defined and being set to 0.0 in samples with no predicted labels. Use `zero_division` parameter to control this behavior.\n",
      "  _warn_prf(average, modifier, msg_start, len(result))\n"
     ]
    },
    {
     "name": "stdout",
     "output_type": "stream",
     "text": [
      "CV number:  4\n",
      "accuracy of :>0.705\n",
      "F1 of :>0.829\n",
      "Precision of :>0.808\n",
      "Recall of :>0.883\n",
      "waktu proses:  356.4778447151184\n",
      "Accuracy array: [0.828042328042328, 0.7757255936675461, 0.7566371681415929, 0.7866071428571428, 0.7050487156775908]\n",
      "F1 array: [0.8822373393801964, 0.8177451103572475, 0.7763492063492063, 0.8020195578231293, 0.829140832595217]\n",
      "Precision array: [0.8795414462081128, 0.8143066549399002, 0.7782153392330383, 0.8079761904761905, 0.8077945084145262]\n",
      "Recall array: [0.9048206937095825, 0.8374963353855175, 0.7844690265486726, 0.8060416666666667, 0.8831118984351933]\n"
     ]
    },
    {
     "name": "stderr",
     "output_type": "stream",
     "text": [
      "/usr/local/lib/python3.7/dist-packages/sklearn/metrics/_classification.py:1318: UndefinedMetricWarning: Precision is ill-defined and being set to 0.0 in samples with no predicted labels. Use `zero_division` parameter to control this behavior.\n",
      "  _warn_prf(average, modifier, msg_start, len(result))\n"
     ]
    },
    {
     "name": "stdout",
     "output_type": "stream",
     "text": [
      "CV number:  0\n",
      "accuracy of :>0.846\n",
      "F1 of :>0.870\n",
      "Precision of :>0.881\n",
      "Recall of :>0.877\n"
     ]
    },
    {
     "name": "stderr",
     "output_type": "stream",
     "text": [
      "/usr/local/lib/python3.7/dist-packages/sklearn/metrics/_classification.py:1318: UndefinedMetricWarning: Precision is ill-defined and being set to 0.0 in samples with no predicted labels. Use `zero_division` parameter to control this behavior.\n",
      "  _warn_prf(average, modifier, msg_start, len(result))\n"
     ]
    },
    {
     "name": "stdout",
     "output_type": "stream",
     "text": [
      "CV number:  1\n",
      "accuracy of :>0.744\n",
      "F1 of :>0.792\n",
      "Precision of :>0.789\n",
      "Recall of :>0.817\n"
     ]
    },
    {
     "name": "stderr",
     "output_type": "stream",
     "text": [
      "/usr/local/lib/python3.7/dist-packages/sklearn/metrics/_classification.py:1318: UndefinedMetricWarning: Precision is ill-defined and being set to 0.0 in samples with no predicted labels. Use `zero_division` parameter to control this behavior.\n",
      "  _warn_prf(average, modifier, msg_start, len(result))\n"
     ]
    },
    {
     "name": "stdout",
     "output_type": "stream",
     "text": [
      "CV number:  2\n",
      "accuracy of :>0.675\n",
      "F1 of :>0.816\n",
      "Precision of :>0.786\n",
      "Recall of :>0.885\n"
     ]
    },
    {
     "name": "stderr",
     "output_type": "stream",
     "text": [
      "/usr/local/lib/python3.7/dist-packages/sklearn/metrics/_classification.py:1318: UndefinedMetricWarning: Precision is ill-defined and being set to 0.0 in samples with no predicted labels. Use `zero_division` parameter to control this behavior.\n",
      "  _warn_prf(average, modifier, msg_start, len(result))\n"
     ]
    },
    {
     "name": "stdout",
     "output_type": "stream",
     "text": [
      "CV number:  3\n",
      "accuracy of :>0.848\n",
      "F1 of :>0.887\n",
      "Precision of :>0.895\n",
      "Recall of :>0.895\n",
      "CV number:  4\n",
      "accuracy of :>0.831\n",
      "F1 of :>0.862\n",
      "Precision of :>0.869\n",
      "Recall of :>0.873\n",
      "waktu proses 337.66386461257935\n",
      "Accuracy array: [0.8456078083407276, 0.7437275985663082, 0.6751313485113836, 0.8484848484848485, 0.8311461067366579]\n",
      "F1 array: [0.8699729581273503, 0.7918757467144564, 0.8162663664414977, 0.8867901706137, 0.8624380285797608]\n",
      "Precision array: [0.8807833692483205, 0.7887246117084827, 0.7864711033274956, 0.8952614379084968, 0.8690455359746698]\n",
      "Recall array: [0.8771221532091097, 0.8172341696535245, 0.884748978400467, 0.8954481792717086, 0.8726013414989793]\n",
      "finding sae weights....\n",
      "done, processing time: 64.54549169540405\n"
     ]
    },
    {
     "name": "stderr",
     "output_type": "stream",
     "text": [
      "/usr/local/lib/python3.7/dist-packages/sklearn/metrics/_classification.py:1318: UndefinedMetricWarning: Precision is ill-defined and being set to 0.0 in samples with no predicted labels. Use `zero_division` parameter to control this behavior.\n",
      "  _warn_prf(average, modifier, msg_start, len(result))\n"
     ]
    },
    {
     "name": "stdout",
     "output_type": "stream",
     "text": [
      "CV number:  0\n",
      "accuracy of :>0.766\n",
      "F1 of :>0.792\n",
      "Precision of :>0.791\n",
      "Recall of :>0.806\n"
     ]
    },
    {
     "name": "stderr",
     "output_type": "stream",
     "text": [
      "/usr/local/lib/python3.7/dist-packages/sklearn/metrics/_classification.py:1318: UndefinedMetricWarning: Precision is ill-defined and being set to 0.0 in samples with no predicted labels. Use `zero_division` parameter to control this behavior.\n",
      "  _warn_prf(average, modifier, msg_start, len(result))\n"
     ]
    },
    {
     "name": "stdout",
     "output_type": "stream",
     "text": [
      "CV number:  1\n",
      "accuracy of :>0.741\n",
      "F1 of :>0.844\n",
      "Precision of :>0.826\n",
      "Recall of :>0.893\n"
     ]
    },
    {
     "name": "stderr",
     "output_type": "stream",
     "text": [
      "/usr/local/lib/python3.7/dist-packages/sklearn/metrics/_classification.py:1318: UndefinedMetricWarning: Precision is ill-defined and being set to 0.0 in samples with no predicted labels. Use `zero_division` parameter to control this behavior.\n",
      "  _warn_prf(average, modifier, msg_start, len(result))\n"
     ]
    },
    {
     "name": "stdout",
     "output_type": "stream",
     "text": [
      "CV number:  2\n",
      "accuracy of :>0.852\n",
      "F1 of :>0.883\n",
      "Precision of :>0.892\n",
      "Recall of :>0.891\n"
     ]
    },
    {
     "name": "stderr",
     "output_type": "stream",
     "text": [
      "/usr/local/lib/python3.7/dist-packages/sklearn/metrics/_classification.py:1318: UndefinedMetricWarning: Precision is ill-defined and being set to 0.0 in samples with no predicted labels. Use `zero_division` parameter to control this behavior.\n",
      "  _warn_prf(average, modifier, msg_start, len(result))\n"
     ]
    },
    {
     "name": "stdout",
     "output_type": "stream",
     "text": [
      "CV number:  3\n",
      "accuracy of :>0.856\n",
      "F1 of :>0.890\n",
      "Precision of :>0.898\n",
      "Recall of :>0.897\n"
     ]
    },
    {
     "name": "stderr",
     "output_type": "stream",
     "text": [
      "/usr/local/lib/python3.7/dist-packages/sklearn/metrics/_classification.py:1318: UndefinedMetricWarning: Precision is ill-defined and being set to 0.0 in samples with no predicted labels. Use `zero_division` parameter to control this behavior.\n",
      "  _warn_prf(average, modifier, msg_start, len(result))\n"
     ]
    },
    {
     "name": "stdout",
     "output_type": "stream",
     "text": [
      "CV number:  4\n",
      "accuracy of :>0.843\n",
      "F1 of :>0.872\n",
      "Precision of :>0.883\n",
      "Recall of :>0.877\n",
      "waktu proses:  340.03900480270386\n",
      "Accuracy array: [0.7663139329805997, 0.7405452946350044, 0.852212389380531, 0.85625, 0.8432240921169176]\n",
      "F1 array: [0.7918850256151844, 0.8440361016878167, 0.8829667088074168, 0.890376275510204, 0.8720612425661141]\n",
      "Precision array: [0.7905496766607878, 0.8262470159567785, 0.8918289085545723, 0.8984970238095239, 0.8834071449660466]\n",
      "Recall array: [0.8062316284538507, 0.8931398416886543, 0.8914011799410029, 0.8974638605442177, 0.8771183938588721]\n"
     ]
    },
    {
     "name": "stderr",
     "output_type": "stream",
     "text": [
      "/usr/local/lib/python3.7/dist-packages/sklearn/metrics/_classification.py:1318: UndefinedMetricWarning: Precision is ill-defined and being set to 0.0 in samples with no predicted labels. Use `zero_division` parameter to control this behavior.\n",
      "  _warn_prf(average, modifier, msg_start, len(result))\n"
     ]
    },
    {
     "name": "stdout",
     "output_type": "stream",
     "text": [
      "CV number:  0\n",
      "accuracy of :>0.783\n",
      "F1 of :>0.798\n",
      "Precision of :>0.803\n",
      "Recall of :>0.802\n"
     ]
    },
    {
     "name": "stderr",
     "output_type": "stream",
     "text": [
      "/usr/local/lib/python3.7/dist-packages/sklearn/metrics/_classification.py:1318: UndefinedMetricWarning: Precision is ill-defined and being set to 0.0 in samples with no predicted labels. Use `zero_division` parameter to control this behavior.\n",
      "  _warn_prf(average, modifier, msg_start, len(result))\n"
     ]
    },
    {
     "name": "stdout",
     "output_type": "stream",
     "text": [
      "CV number:  1\n",
      "accuracy of :>0.830\n",
      "F1 of :>0.853\n",
      "Precision of :>0.861\n",
      "Recall of :>0.863\n"
     ]
    },
    {
     "name": "stderr",
     "output_type": "stream",
     "text": [
      "/usr/local/lib/python3.7/dist-packages/sklearn/metrics/_classification.py:1318: UndefinedMetricWarning: Precision is ill-defined and being set to 0.0 in samples with no predicted labels. Use `zero_division` parameter to control this behavior.\n",
      "  _warn_prf(average, modifier, msg_start, len(result))\n"
     ]
    },
    {
     "name": "stdout",
     "output_type": "stream",
     "text": [
      "CV number:  2\n",
      "accuracy of :>0.827\n",
      "F1 of :>0.854\n",
      "Precision of :>0.858\n",
      "Recall of :>0.868\n"
     ]
    },
    {
     "name": "stderr",
     "output_type": "stream",
     "text": [
      "/usr/local/lib/python3.7/dist-packages/sklearn/metrics/_classification.py:1318: UndefinedMetricWarning: Precision is ill-defined and being set to 0.0 in samples with no predicted labels. Use `zero_division` parameter to control this behavior.\n",
      "  _warn_prf(average, modifier, msg_start, len(result))\n"
     ]
    },
    {
     "name": "stdout",
     "output_type": "stream",
     "text": [
      "CV number:  3\n",
      "accuracy of :>0.779\n",
      "F1 of :>0.810\n",
      "Precision of :>0.810\n",
      "Recall of :>0.821\n"
     ]
    },
    {
     "name": "stderr",
     "output_type": "stream",
     "text": [
      "/usr/local/lib/python3.7/dist-packages/sklearn/metrics/_classification.py:1318: UndefinedMetricWarning: Precision is ill-defined and being set to 0.0 in samples with no predicted labels. Use `zero_division` parameter to control this behavior.\n",
      "  _warn_prf(average, modifier, msg_start, len(result))\n"
     ]
    },
    {
     "name": "stdout",
     "output_type": "stream",
     "text": [
      "CV number:  4\n",
      "accuracy of :>0.821\n",
      "F1 of :>0.848\n",
      "Precision of :>0.852\n",
      "Recall of :>0.858\n",
      "waktu proses 342.50080370903015\n",
      "Accuracy array: [0.7834960070984915, 0.8297491039426523, 0.8266199649737302, 0.7789661319073083, 0.820647419072616]\n",
      "F1 array: [0.7979732679821411, 0.8533851055356432, 0.8542281711283463, 0.809899414311179, 0.8478148564762739]\n",
      "Precision array: [0.8032091097308488, 0.8614695340501792, 0.8578371278458843, 0.809863339275104, 0.8515456401283172]\n",
      "Recall array: [0.802159124519373, 0.8631571087216249, 0.8681260945709282, 0.8213988625753331, 0.8579615048118985]\n",
      "finding sae weights....\n",
      "done, processing time: 67.71778225898743\n"
     ]
    },
    {
     "name": "stderr",
     "output_type": "stream",
     "text": [
      "/usr/local/lib/python3.7/dist-packages/sklearn/metrics/_classification.py:1318: UndefinedMetricWarning: Precision is ill-defined and being set to 0.0 in samples with no predicted labels. Use `zero_division` parameter to control this behavior.\n",
      "  _warn_prf(average, modifier, msg_start, len(result))\n"
     ]
    },
    {
     "name": "stdout",
     "output_type": "stream",
     "text": [
      "CV number:  0\n",
      "accuracy of :>0.767\n",
      "F1 of :>0.856\n",
      "Precision of :>0.843\n",
      "Recall of :>0.894\n"
     ]
    },
    {
     "name": "stderr",
     "output_type": "stream",
     "text": [
      "/usr/local/lib/python3.7/dist-packages/sklearn/metrics/_classification.py:1318: UndefinedMetricWarning: Precision is ill-defined and being set to 0.0 in samples with no predicted labels. Use `zero_division` parameter to control this behavior.\n",
      "  _warn_prf(average, modifier, msg_start, len(result))\n"
     ]
    },
    {
     "name": "stdout",
     "output_type": "stream",
     "text": [
      "CV number:  1\n",
      "accuracy of :>0.840\n",
      "F1 of :>0.866\n",
      "Precision of :>0.873\n",
      "Recall of :>0.872\n"
     ]
    },
    {
     "name": "stderr",
     "output_type": "stream",
     "text": [
      "/usr/local/lib/python3.7/dist-packages/sklearn/metrics/_classification.py:1318: UndefinedMetricWarning: Precision is ill-defined and being set to 0.0 in samples with no predicted labels. Use `zero_division` parameter to control this behavior.\n",
      "  _warn_prf(average, modifier, msg_start, len(result))\n"
     ]
    },
    {
     "name": "stdout",
     "output_type": "stream",
     "text": [
      "CV number:  2\n",
      "accuracy of :>0.842\n",
      "F1 of :>0.866\n",
      "Precision of :>0.878\n",
      "Recall of :>0.870\n",
      "CV number:  3\n",
      "accuracy of :>0.838\n",
      "F1 of :>0.878\n",
      "Precision of :>0.884\n",
      "Recall of :>0.891\n"
     ]
    },
    {
     "name": "stderr",
     "output_type": "stream",
     "text": [
      "/usr/local/lib/python3.7/dist-packages/sklearn/metrics/_classification.py:1318: UndefinedMetricWarning: Precision is ill-defined and being set to 0.0 in samples with no predicted labels. Use `zero_division` parameter to control this behavior.\n",
      "  _warn_prf(average, modifier, msg_start, len(result))\n"
     ]
    },
    {
     "name": "stdout",
     "output_type": "stream",
     "text": [
      "CV number:  4\n",
      "accuracy of :>0.846\n",
      "F1 of :>0.870\n",
      "Precision of :>0.882\n",
      "Recall of :>0.875\n",
      "waktu proses:  358.9281961917877\n",
      "Accuracy array: [0.7671957671957672, 0.8399296394019349, 0.8424778761061947, 0.8383928571428572, 0.845881310894597]\n",
      "F1 array: [0.8562778197698833, 0.8657955354525276, 0.8664201432785502, 0.8783985260770975, 0.8703635750137079]\n",
      "Precision array: [0.8432539682539683, 0.8733216065669891, 0.8775811209439528, 0.8838988095238095, 0.881724239740183]\n",
      "Recall array: [0.894429747207525, 0.8717824684843155, 0.8700442477876106, 0.8907461734693877, 0.8753469146737526]\n",
      "CV number:  0\n",
      "accuracy of :>0.834\n",
      "F1 of :>0.876\n",
      "Precision of :>0.883\n",
      "Recall of :>0.891\n"
     ]
    },
    {
     "name": "stderr",
     "output_type": "stream",
     "text": [
      "/usr/local/lib/python3.7/dist-packages/sklearn/metrics/_classification.py:1318: UndefinedMetricWarning: Precision is ill-defined and being set to 0.0 in samples with no predicted labels. Use `zero_division` parameter to control this behavior.\n",
      "  _warn_prf(average, modifier, msg_start, len(result))\n"
     ]
    },
    {
     "name": "stdout",
     "output_type": "stream",
     "text": [
      "CV number:  1\n",
      "accuracy of :>0.863\n",
      "F1 of :>0.885\n",
      "Precision of :>0.894\n",
      "Recall of :>0.891\n",
      "CV number:  2\n",
      "accuracy of :>0.820\n",
      "F1 of :>0.865\n",
      "Precision of :>0.869\n",
      "Recall of :>0.888\n"
     ]
    },
    {
     "name": "stderr",
     "output_type": "stream",
     "text": [
      "/usr/local/lib/python3.7/dist-packages/sklearn/metrics/_classification.py:1318: UndefinedMetricWarning: Precision is ill-defined and being set to 0.0 in samples with no predicted labels. Use `zero_division` parameter to control this behavior.\n",
      "  _warn_prf(average, modifier, msg_start, len(result))\n"
     ]
    },
    {
     "name": "stdout",
     "output_type": "stream",
     "text": [
      "CV number:  3\n",
      "accuracy of :>0.814\n",
      "F1 of :>0.827\n",
      "Precision of :>0.831\n",
      "Recall of :>0.832\n"
     ]
    },
    {
     "name": "stderr",
     "output_type": "stream",
     "text": [
      "/usr/local/lib/python3.7/dist-packages/sklearn/metrics/_classification.py:1318: UndefinedMetricWarning: Precision is ill-defined and being set to 0.0 in samples with no predicted labels. Use `zero_division` parameter to control this behavior.\n",
      "  _warn_prf(average, modifier, msg_start, len(result))\n"
     ]
    },
    {
     "name": "stdout",
     "output_type": "stream",
     "text": [
      "CV number:  4\n",
      "accuracy of :>0.795\n",
      "F1 of :>0.829\n",
      "Precision of :>0.831\n",
      "Recall of :>0.845\n",
      "waktu proses 374.1422555446625\n",
      "Accuracy array: [0.834072759538598, 0.8629032258064516, 0.8204903677758318, 0.8137254901960784, 0.7952755905511811]\n",
      "F1 array: [0.8762982211518148, 0.885347328895716, 0.8654428321240931, 0.8270944741532977, 0.8286339207599049]\n",
      "Precision array: [0.8827713694173323, 0.8939217443249702, 0.8689954966224668, 0.8305407011289364, 0.8307669874599007]\n",
      "Recall array: [0.8908015380065069, 0.8911589008363202, 0.8876970227670753, 0.8322786690433749, 0.8453047535724701]\n",
      "finding sae weights....\n",
      "done, processing time: 65.6452374458313\n"
     ]
    },
    {
     "name": "stderr",
     "output_type": "stream",
     "text": [
      "/usr/local/lib/python3.7/dist-packages/sklearn/metrics/_classification.py:1318: UndefinedMetricWarning: Precision is ill-defined and being set to 0.0 in samples with no predicted labels. Use `zero_division` parameter to control this behavior.\n",
      "  _warn_prf(average, modifier, msg_start, len(result))\n"
     ]
    },
    {
     "name": "stdout",
     "output_type": "stream",
     "text": [
      "CV number:  0\n",
      "accuracy of :>0.738\n",
      "F1 of :>0.749\n",
      "Precision of :>0.752\n",
      "Recall of :>0.755\n"
     ]
    },
    {
     "name": "stderr",
     "output_type": "stream",
     "text": [
      "/usr/local/lib/python3.7/dist-packages/sklearn/metrics/_classification.py:1318: UndefinedMetricWarning: Precision is ill-defined and being set to 0.0 in samples with no predicted labels. Use `zero_division` parameter to control this behavior.\n",
      "  _warn_prf(average, modifier, msg_start, len(result))\n"
     ]
    },
    {
     "name": "stdout",
     "output_type": "stream",
     "text": [
      "CV number:  1\n",
      "accuracy of :>0.847\n",
      "F1 of :>0.875\n",
      "Precision of :>0.882\n",
      "Recall of :>0.884\n"
     ]
    },
    {
     "name": "stderr",
     "output_type": "stream",
     "text": [
      "/usr/local/lib/python3.7/dist-packages/sklearn/metrics/_classification.py:1318: UndefinedMetricWarning: Precision is ill-defined and being set to 0.0 in samples with no predicted labels. Use `zero_division` parameter to control this behavior.\n",
      "  _warn_prf(average, modifier, msg_start, len(result))\n"
     ]
    },
    {
     "name": "stdout",
     "output_type": "stream",
     "text": [
      "CV number:  2\n",
      "accuracy of :>0.852\n",
      "F1 of :>0.878\n",
      "Precision of :>0.885\n",
      "Recall of :>0.886\n"
     ]
    },
    {
     "name": "stderr",
     "output_type": "stream",
     "text": [
      "/usr/local/lib/python3.7/dist-packages/sklearn/metrics/_classification.py:1318: UndefinedMetricWarning: Precision is ill-defined and being set to 0.0 in samples with no predicted labels. Use `zero_division` parameter to control this behavior.\n",
      "  _warn_prf(average, modifier, msg_start, len(result))\n"
     ]
    },
    {
     "name": "stdout",
     "output_type": "stream",
     "text": [
      "CV number:  3\n",
      "accuracy of :>0.860\n",
      "F1 of :>0.878\n",
      "Precision of :>0.890\n",
      "Recall of :>0.879\n"
     ]
    },
    {
     "name": "stderr",
     "output_type": "stream",
     "text": [
      "/usr/local/lib/python3.7/dist-packages/sklearn/metrics/_classification.py:1318: UndefinedMetricWarning: Precision is ill-defined and being set to 0.0 in samples with no predicted labels. Use `zero_division` parameter to control this behavior.\n",
      "  _warn_prf(average, modifier, msg_start, len(result))\n"
     ]
    },
    {
     "name": "stdout",
     "output_type": "stream",
     "text": [
      "CV number:  4\n",
      "accuracy of :>0.278\n",
      "F1 of :>0.299\n",
      "Precision of :>0.300\n",
      "Recall of :>0.308\n",
      "waktu proses:  343.64476919174194\n",
      "Accuracy array: [0.7380952380952381, 0.8469656992084432, 0.852212389380531, 0.8598214285714286, 0.27812223206377323]\n",
      "F1 array: [0.7493743176282859, 0.8752942161913138, 0.8780200870908835, 0.877999574829932, 0.29933569530558013]\n",
      "Precision array: [0.75163139329806, 0.8822925828202873, 0.8852886641382216, 0.8899553571428571, 0.3001180986123413]\n",
      "Recall array: [0.754673721340388, 0.8838463793608913, 0.8855752212389381, 0.8789370748299319, 0.30776498376144085]\n"
     ]
    },
    {
     "name": "stderr",
     "output_type": "stream",
     "text": [
      "/usr/local/lib/python3.7/dist-packages/sklearn/metrics/_classification.py:1318: UndefinedMetricWarning: Precision is ill-defined and being set to 0.0 in samples with no predicted labels. Use `zero_division` parameter to control this behavior.\n",
      "  _warn_prf(average, modifier, msg_start, len(result))\n"
     ]
    },
    {
     "name": "stdout",
     "output_type": "stream",
     "text": [
      "CV number:  0\n",
      "accuracy of :>0.744\n",
      "F1 of :>0.847\n",
      "Precision of :>0.828\n",
      "Recall of :>0.900\n"
     ]
    },
    {
     "name": "stderr",
     "output_type": "stream",
     "text": [
      "/usr/local/lib/python3.7/dist-packages/sklearn/metrics/_classification.py:1318: UndefinedMetricWarning: Precision is ill-defined and being set to 0.0 in samples with no predicted labels. Use `zero_division` parameter to control this behavior.\n",
      "  _warn_prf(average, modifier, msg_start, len(result))\n"
     ]
    },
    {
     "name": "stdout",
     "output_type": "stream",
     "text": [
      "CV number:  1\n",
      "accuracy of :>0.757\n",
      "F1 of :>0.780\n",
      "Precision of :>0.784\n",
      "Recall of :>0.793\n"
     ]
    },
    {
     "name": "stderr",
     "output_type": "stream",
     "text": [
      "/usr/local/lib/python3.7/dist-packages/sklearn/metrics/_classification.py:1318: UndefinedMetricWarning: Precision is ill-defined and being set to 0.0 in samples with no predicted labels. Use `zero_division` parameter to control this behavior.\n",
      "  _warn_prf(average, modifier, msg_start, len(result))\n"
     ]
    },
    {
     "name": "stdout",
     "output_type": "stream",
     "text": [
      "CV number:  2\n",
      "accuracy of :>0.822\n",
      "F1 of :>0.843\n",
      "Precision of :>0.849\n",
      "Recall of :>0.847\n"
     ]
    },
    {
     "name": "stderr",
     "output_type": "stream",
     "text": [
      "/usr/local/lib/python3.7/dist-packages/sklearn/metrics/_classification.py:1318: UndefinedMetricWarning: Precision is ill-defined and being set to 0.0 in samples with no predicted labels. Use `zero_division` parameter to control this behavior.\n",
      "  _warn_prf(average, modifier, msg_start, len(result))\n"
     ]
    },
    {
     "name": "stdout",
     "output_type": "stream",
     "text": [
      "CV number:  3\n",
      "accuracy of :>0.846\n",
      "F1 of :>0.880\n",
      "Precision of :>0.890\n",
      "Recall of :>0.889\n"
     ]
    },
    {
     "name": "stderr",
     "output_type": "stream",
     "text": [
      "/usr/local/lib/python3.7/dist-packages/sklearn/metrics/_classification.py:1318: UndefinedMetricWarning: Precision is ill-defined and being set to 0.0 in samples with no predicted labels. Use `zero_division` parameter to control this behavior.\n",
      "  _warn_prf(average, modifier, msg_start, len(result))\n"
     ]
    },
    {
     "name": "stdout",
     "output_type": "stream",
     "text": [
      "CV number:  4\n",
      "accuracy of :>0.844\n",
      "F1 of :>0.866\n",
      "Precision of :>0.873\n",
      "Recall of :>0.870\n",
      "waktu proses 340.20745635032654\n",
      "Accuracy array: [0.743566992014197, 0.757168458781362, 0.8222416812609457, 0.8458110516934046, 0.8442694663167104]\n",
      "F1 array: [0.8471345474007408, 0.7802540251464983, 0.8426674172295889, 0.879860934272699, 0.8655334749822938]\n",
      "Precision array: [0.8279207335107955, 0.783621351766513, 0.8492556917688266, 0.8903446226975639, 0.8730387868183143]\n",
      "Recall array: [0.8997338065661047, 0.793384109916368, 0.8469497956800934, 0.8892687377981495, 0.8698600174978127]\n",
      "finding sae weights....\n",
      "done, processing time: 63.458539962768555\n"
     ]
    },
    {
     "name": "stderr",
     "output_type": "stream",
     "text": [
      "/usr/local/lib/python3.7/dist-packages/sklearn/metrics/_classification.py:1318: UndefinedMetricWarning: Precision is ill-defined and being set to 0.0 in samples with no predicted labels. Use `zero_division` parameter to control this behavior.\n",
      "  _warn_prf(average, modifier, msg_start, len(result))\n"
     ]
    },
    {
     "name": "stdout",
     "output_type": "stream",
     "text": [
      "CV number:  0\n",
      "accuracy of :>0.841\n",
      "F1 of :>0.868\n",
      "Precision of :>0.878\n",
      "Recall of :>0.872\n",
      "CV number:  1\n",
      "accuracy of :>0.771\n",
      "F1 of :>0.840\n",
      "Precision of :>0.830\n",
      "Recall of :>0.872\n"
     ]
    },
    {
     "name": "stderr",
     "output_type": "stream",
     "text": [
      "/usr/local/lib/python3.7/dist-packages/sklearn/metrics/_classification.py:1318: UndefinedMetricWarning: Precision is ill-defined and being set to 0.0 in samples with no predicted labels. Use `zero_division` parameter to control this behavior.\n",
      "  _warn_prf(average, modifier, msg_start, len(result))\n"
     ]
    },
    {
     "name": "stdout",
     "output_type": "stream",
     "text": [
      "CV number:  2\n",
      "accuracy of :>0.760\n",
      "F1 of :>0.800\n",
      "Precision of :>0.797\n",
      "Recall of :>0.816\n",
      "CV number:  3\n",
      "accuracy of :>0.868\n",
      "F1 of :>0.894\n",
      "Precision of :>0.906\n",
      "Recall of :>0.896\n"
     ]
    },
    {
     "name": "stderr",
     "output_type": "stream",
     "text": [
      "/usr/local/lib/python3.7/dist-packages/sklearn/metrics/_classification.py:1318: UndefinedMetricWarning: Precision is ill-defined and being set to 0.0 in samples with no predicted labels. Use `zero_division` parameter to control this behavior.\n",
      "  _warn_prf(average, modifier, msg_start, len(result))\n"
     ]
    },
    {
     "name": "stdout",
     "output_type": "stream",
     "text": [
      "CV number:  4\n",
      "accuracy of :>0.828\n",
      "F1 of :>0.859\n",
      "Precision of :>0.863\n",
      "Recall of :>0.864\n",
      "waktu proses:  342.18513798713684\n",
      "Accuracy array: [0.8412698412698413, 0.7713280562884784, 0.7601769911504425, 0.8678571428571429, 0.8281665190434012]\n",
      "F1 array: [0.867909632988998, 0.8399798969719814, 0.7996642786908273, 0.8935735544217687, 0.8588257623687207]\n",
      "Precision array: [0.8777042915931805, 0.8299032541776604, 0.7969026548672566, 0.90625, 0.8634484794803661]\n",
      "Recall array: [0.8715167548500882, 0.8723834652594546, 0.8162536873156342, 0.8956781462585034, 0.8642308827871272]\n"
     ]
    },
    {
     "name": "stderr",
     "output_type": "stream",
     "text": [
      "/usr/local/lib/python3.7/dist-packages/sklearn/metrics/_classification.py:1318: UndefinedMetricWarning: Precision is ill-defined and being set to 0.0 in samples with no predicted labels. Use `zero_division` parameter to control this behavior.\n",
      "  _warn_prf(average, modifier, msg_start, len(result))\n"
     ]
    },
    {
     "name": "stdout",
     "output_type": "stream",
     "text": [
      "CV number:  0\n",
      "accuracy of :>0.851\n",
      "F1 of :>0.871\n",
      "Precision of :>0.883\n",
      "Recall of :>0.872\n"
     ]
    },
    {
     "name": "stderr",
     "output_type": "stream",
     "text": [
      "/usr/local/lib/python3.7/dist-packages/sklearn/metrics/_classification.py:1318: UndefinedMetricWarning: Precision is ill-defined and being set to 0.0 in samples with no predicted labels. Use `zero_division` parameter to control this behavior.\n",
      "  _warn_prf(average, modifier, msg_start, len(result))\n"
     ]
    },
    {
     "name": "stdout",
     "output_type": "stream",
     "text": [
      "CV number:  1\n",
      "accuracy of :>0.777\n",
      "F1 of :>0.796\n",
      "Precision of :>0.801\n",
      "Recall of :>0.802\n"
     ]
    },
    {
     "name": "stderr",
     "output_type": "stream",
     "text": [
      "/usr/local/lib/python3.7/dist-packages/sklearn/metrics/_classification.py:1318: UndefinedMetricWarning: Precision is ill-defined and being set to 0.0 in samples with no predicted labels. Use `zero_division` parameter to control this behavior.\n",
      "  _warn_prf(average, modifier, msg_start, len(result))\n"
     ]
    },
    {
     "name": "stdout",
     "output_type": "stream",
     "text": [
      "CV number:  2\n",
      "accuracy of :>0.795\n",
      "F1 of :>0.839\n",
      "Precision of :>0.837\n",
      "Recall of :>0.854\n"
     ]
    },
    {
     "name": "stderr",
     "output_type": "stream",
     "text": [
      "/usr/local/lib/python3.7/dist-packages/sklearn/metrics/_classification.py:1318: UndefinedMetricWarning: Precision is ill-defined and being set to 0.0 in samples with no predicted labels. Use `zero_division` parameter to control this behavior.\n",
      "  _warn_prf(average, modifier, msg_start, len(result))\n"
     ]
    },
    {
     "name": "stdout",
     "output_type": "stream",
     "text": [
      "CV number:  3\n",
      "accuracy of :>0.832\n",
      "F1 of :>0.862\n",
      "Precision of :>0.868\n",
      "Recall of :>0.871\n"
     ]
    },
    {
     "name": "stderr",
     "output_type": "stream",
     "text": [
      "/usr/local/lib/python3.7/dist-packages/sklearn/metrics/_classification.py:1318: UndefinedMetricWarning: Precision is ill-defined and being set to 0.0 in samples with no predicted labels. Use `zero_division` parameter to control this behavior.\n",
      "  _warn_prf(average, modifier, msg_start, len(result))\n"
     ]
    },
    {
     "name": "stdout",
     "output_type": "stream",
     "text": [
      "CV number:  4\n",
      "accuracy of :>0.774\n",
      "F1 of :>0.844\n",
      "Precision of :>0.835\n",
      "Recall of :>0.875\n",
      "waktu proses 340.19295358657837\n",
      "Accuracy array: [0.8509316770186336, 0.7768817204301075, 0.7950963222416813, 0.8315508021390374, 0.7742782152230971]\n",
      "F1 array: [0.8713482908691427, 0.7956007851169141, 0.8385288966725044, 0.861531279178338, 0.8440986543348749]\n",
      "Precision array: [0.882860100561964, 0.8011947431302271, 0.8370548744892002, 0.8678698752228164, 0.8349810440361621]\n",
      "Recall array: [0.8724637681159421, 0.8018219832735962, 0.8540280210157618, 0.8711824123588829, 0.8749781277340333]\n",
      "finding sae weights....\n",
      "done, processing time: 65.66404271125793\n"
     ]
    },
    {
     "name": "stderr",
     "output_type": "stream",
     "text": [
      "/usr/local/lib/python3.7/dist-packages/sklearn/metrics/_classification.py:1318: UndefinedMetricWarning: Precision is ill-defined and being set to 0.0 in samples with no predicted labels. Use `zero_division` parameter to control this behavior.\n",
      "  _warn_prf(average, modifier, msg_start, len(result))\n"
     ]
    },
    {
     "name": "stdout",
     "output_type": "stream",
     "text": [
      "CV number:  0\n",
      "accuracy of :>0.764\n",
      "F1 of :>0.781\n",
      "Precision of :>0.781\n",
      "Recall of :>0.797\n"
     ]
    },
    {
     "name": "stderr",
     "output_type": "stream",
     "text": [
      "/usr/local/lib/python3.7/dist-packages/sklearn/metrics/_classification.py:1318: UndefinedMetricWarning: Precision is ill-defined and being set to 0.0 in samples with no predicted labels. Use `zero_division` parameter to control this behavior.\n",
      "  _warn_prf(average, modifier, msg_start, len(result))\n"
     ]
    },
    {
     "name": "stdout",
     "output_type": "stream",
     "text": [
      "CV number:  1\n",
      "accuracy of :>0.813\n",
      "F1 of :>0.865\n",
      "Precision of :>0.862\n",
      "Recall of :>0.886\n"
     ]
    },
    {
     "name": "stderr",
     "output_type": "stream",
     "text": [
      "/usr/local/lib/python3.7/dist-packages/sklearn/metrics/_classification.py:1318: UndefinedMetricWarning: Precision is ill-defined and being set to 0.0 in samples with no predicted labels. Use `zero_division` parameter to control this behavior.\n",
      "  _warn_prf(average, modifier, msg_start, len(result))\n"
     ]
    },
    {
     "name": "stdout",
     "output_type": "stream",
     "text": [
      "CV number:  2\n",
      "accuracy of :>0.851\n",
      "F1 of :>0.877\n",
      "Precision of :>0.886\n",
      "Recall of :>0.881\n"
     ]
    },
    {
     "name": "stderr",
     "output_type": "stream",
     "text": [
      "/usr/local/lib/python3.7/dist-packages/sklearn/metrics/_classification.py:1318: UndefinedMetricWarning: Precision is ill-defined and being set to 0.0 in samples with no predicted labels. Use `zero_division` parameter to control this behavior.\n",
      "  _warn_prf(average, modifier, msg_start, len(result))\n"
     ]
    },
    {
     "name": "stdout",
     "output_type": "stream",
     "text": [
      "CV number:  3\n",
      "accuracy of :>0.870\n",
      "F1 of :>0.891\n",
      "Precision of :>0.902\n",
      "Recall of :>0.894\n"
     ]
    },
    {
     "name": "stderr",
     "output_type": "stream",
     "text": [
      "/usr/local/lib/python3.7/dist-packages/sklearn/metrics/_classification.py:1318: UndefinedMetricWarning: Precision is ill-defined and being set to 0.0 in samples with no predicted labels. Use `zero_division` parameter to control this behavior.\n",
      "  _warn_prf(average, modifier, msg_start, len(result))\n"
     ]
    },
    {
     "name": "stdout",
     "output_type": "stream",
     "text": [
      "CV number:  4\n",
      "accuracy of :>0.848\n",
      "F1 of :>0.872\n",
      "Precision of :>0.885\n",
      "Recall of :>0.874\n",
      "waktu proses:  356.5378873348236\n",
      "Accuracy array: [0.763668430335097, 0.8126649076517151, 0.8513274336283185, 0.8696428571428572, 0.8476527900797166]\n",
      "F1 array: [0.7812225301643291, 0.8645809775097374, 0.8771344289928361, 0.8911429988662132, 0.871941035049981]\n",
      "Precision array: [0.780912488452171, 0.8621811785400175, 0.8864159292035397, 0.9019515306122449, 0.8850014762326543]\n",
      "Recall array: [0.7973838918283362, 0.8862943418352389, 0.8813716814159293, 0.8940858843537415, 0.8741659285503396]\n"
     ]
    },
    {
     "name": "stderr",
     "output_type": "stream",
     "text": [
      "/usr/local/lib/python3.7/dist-packages/sklearn/metrics/_classification.py:1318: UndefinedMetricWarning: Precision is ill-defined and being set to 0.0 in samples with no predicted labels. Use `zero_division` parameter to control this behavior.\n",
      "  _warn_prf(average, modifier, msg_start, len(result))\n"
     ]
    },
    {
     "name": "stdout",
     "output_type": "stream",
     "text": [
      "CV number:  0\n",
      "accuracy of :>0.834\n",
      "F1 of :>0.863\n",
      "Precision of :>0.871\n",
      "Recall of :>0.869\n"
     ]
    },
    {
     "name": "stderr",
     "output_type": "stream",
     "text": [
      "/usr/local/lib/python3.7/dist-packages/sklearn/metrics/_classification.py:1318: UndefinedMetricWarning: Precision is ill-defined and being set to 0.0 in samples with no predicted labels. Use `zero_division` parameter to control this behavior.\n",
      "  _warn_prf(average, modifier, msg_start, len(result))\n"
     ]
    },
    {
     "name": "stdout",
     "output_type": "stream",
     "text": [
      "CV number:  1\n",
      "accuracy of :>0.849\n",
      "F1 of :>0.875\n",
      "Precision of :>0.881\n",
      "Recall of :>0.888\n"
     ]
    },
    {
     "name": "stderr",
     "output_type": "stream",
     "text": [
      "/usr/local/lib/python3.7/dist-packages/sklearn/metrics/_classification.py:1318: UndefinedMetricWarning: Precision is ill-defined and being set to 0.0 in samples with no predicted labels. Use `zero_division` parameter to control this behavior.\n",
      "  _warn_prf(average, modifier, msg_start, len(result))\n"
     ]
    },
    {
     "name": "stdout",
     "output_type": "stream",
     "text": [
      "CV number:  2\n",
      "accuracy of :>0.850\n",
      "F1 of :>0.869\n",
      "Precision of :>0.877\n",
      "Recall of :>0.872\n"
     ]
    },
    {
     "name": "stderr",
     "output_type": "stream",
     "text": [
      "/usr/local/lib/python3.7/dist-packages/sklearn/metrics/_classification.py:1318: UndefinedMetricWarning: Precision is ill-defined and being set to 0.0 in samples with no predicted labels. Use `zero_division` parameter to control this behavior.\n",
      "  _warn_prf(average, modifier, msg_start, len(result))\n"
     ]
    },
    {
     "name": "stdout",
     "output_type": "stream",
     "text": [
      "CV number:  3\n",
      "accuracy of :>0.766\n",
      "F1 of :>0.819\n",
      "Precision of :>0.815\n",
      "Recall of :>0.844\n"
     ]
    },
    {
     "name": "stderr",
     "output_type": "stream",
     "text": [
      "/usr/local/lib/python3.7/dist-packages/sklearn/metrics/_classification.py:1318: UndefinedMetricWarning: Precision is ill-defined and being set to 0.0 in samples with no predicted labels. Use `zero_division` parameter to control this behavior.\n",
      "  _warn_prf(average, modifier, msg_start, len(result))\n"
     ]
    },
    {
     "name": "stdout",
     "output_type": "stream",
     "text": [
      "CV number:  4\n",
      "accuracy of :>0.821\n",
      "F1 of :>0.868\n",
      "Precision of :>0.866\n",
      "Recall of :>0.890\n",
      "waktu proses 342.90056920051575\n",
      "Accuracy array: [0.834072759538598, 0.8485663082437276, 0.850262697022767, 0.7655971479500892, 0.820647419072616]\n",
      "F1 array: [0.8628892550809144, 0.8748783922171018, 0.869118505545826, 0.8190617661205896, 0.8680789901262342]\n",
      "Precision array: [0.871413782904466, 0.881400409626216, 0.87689725627554, 0.8151069518716577, 0.8658292713410823]\n",
      "Recall array: [0.8687666370896183, 0.8881720430107527, 0.872343841214244, 0.8440009337068161, 0.8902887139107611]\n",
      "finding sae weights....\n",
      "done, processing time: 59.11115860939026\n"
     ]
    },
    {
     "name": "stderr",
     "output_type": "stream",
     "text": [
      "/usr/local/lib/python3.7/dist-packages/sklearn/metrics/_classification.py:1318: UndefinedMetricWarning: Precision is ill-defined and being set to 0.0 in samples with no predicted labels. Use `zero_division` parameter to control this behavior.\n",
      "  _warn_prf(average, modifier, msg_start, len(result))\n"
     ]
    },
    {
     "name": "stdout",
     "output_type": "stream",
     "text": [
      "CV number:  0\n",
      "accuracy of :>0.844\n",
      "F1 of :>0.867\n",
      "Precision of :>0.878\n",
      "Recall of :>0.871\n"
     ]
    },
    {
     "name": "stderr",
     "output_type": "stream",
     "text": [
      "/usr/local/lib/python3.7/dist-packages/sklearn/metrics/_classification.py:1318: UndefinedMetricWarning: Precision is ill-defined and being set to 0.0 in samples with no predicted labels. Use `zero_division` parameter to control this behavior.\n",
      "  _warn_prf(average, modifier, msg_start, len(result))\n"
     ]
    },
    {
     "name": "stdout",
     "output_type": "stream",
     "text": [
      "CV number:  1\n",
      "accuracy of :>0.742\n",
      "F1 of :>0.845\n",
      "Precision of :>0.826\n",
      "Recall of :>0.903\n"
     ]
    },
    {
     "name": "stderr",
     "output_type": "stream",
     "text": [
      "/usr/local/lib/python3.7/dist-packages/sklearn/metrics/_classification.py:1318: UndefinedMetricWarning: Precision is ill-defined and being set to 0.0 in samples with no predicted labels. Use `zero_division` parameter to control this behavior.\n",
      "  _warn_prf(average, modifier, msg_start, len(result))\n"
     ]
    },
    {
     "name": "stdout",
     "output_type": "stream",
     "text": [
      "CV number:  2\n",
      "accuracy of :>0.834\n",
      "F1 of :>0.854\n",
      "Precision of :>0.860\n",
      "Recall of :>0.862\n"
     ]
    },
    {
     "name": "stderr",
     "output_type": "stream",
     "text": [
      "/usr/local/lib/python3.7/dist-packages/sklearn/metrics/_classification.py:1318: UndefinedMetricWarning: Precision is ill-defined and being set to 0.0 in samples with no predicted labels. Use `zero_division` parameter to control this behavior.\n",
      "  _warn_prf(average, modifier, msg_start, len(result))\n"
     ]
    },
    {
     "name": "stdout",
     "output_type": "stream",
     "text": [
      "CV number:  3\n",
      "accuracy of :>0.846\n",
      "F1 of :>0.873\n",
      "Precision of :>0.885\n",
      "Recall of :>0.881\n"
     ]
    },
    {
     "name": "stderr",
     "output_type": "stream",
     "text": [
      "/usr/local/lib/python3.7/dist-packages/sklearn/metrics/_classification.py:1318: UndefinedMetricWarning: Precision is ill-defined and being set to 0.0 in samples with no predicted labels. Use `zero_division` parameter to control this behavior.\n",
      "  _warn_prf(average, modifier, msg_start, len(result))\n"
     ]
    },
    {
     "name": "stdout",
     "output_type": "stream",
     "text": [
      "CV number:  4\n",
      "accuracy of :>0.778\n",
      "F1 of :>0.802\n",
      "Precision of :>0.809\n",
      "Recall of :>0.809\n",
      "waktu proses:  344.7183675765991\n",
      "Accuracy array: [0.843915343915344, 0.7423043095866315, 0.8336283185840708, 0.8455357142857143, 0.7776793622674933]\n",
      "F1 array: [0.8672629545645417, 0.8447397076684675, 0.8542941424357354, 0.8733949829931973, 0.801733518916867]\n",
      "Precision array: [0.8779247501469724, 0.8259308120785692, 0.8595132743362832, 0.8852529761904762, 0.8091969294360791]\n",
      "Recall array: [0.8706202233980012, 0.9026238639695103, 0.8615339233038348, 0.8807971938775511, 0.8085621493947446]\n",
      "CV number:  0\n",
      "accuracy of :>0.754\n",
      "F1 of :>0.850\n",
      "Precision of :>0.830\n",
      "Recall of :>0.917\n"
     ]
    },
    {
     "name": "stderr",
     "output_type": "stream",
     "text": [
      "/usr/local/lib/python3.7/dist-packages/sklearn/metrics/_classification.py:1318: UndefinedMetricWarning: Precision is ill-defined and being set to 0.0 in samples with no predicted labels. Use `zero_division` parameter to control this behavior.\n",
      "  _warn_prf(average, modifier, msg_start, len(result))\n"
     ]
    },
    {
     "name": "stdout",
     "output_type": "stream",
     "text": [
      "CV number:  1\n",
      "accuracy of :>0.805\n",
      "F1 of :>0.853\n",
      "Precision of :>0.855\n",
      "Recall of :>0.870\n"
     ]
    },
    {
     "name": "stderr",
     "output_type": "stream",
     "text": [
      "/usr/local/lib/python3.7/dist-packages/sklearn/metrics/_classification.py:1318: UndefinedMetricWarning: Precision is ill-defined and being set to 0.0 in samples with no predicted labels. Use `zero_division` parameter to control this behavior.\n",
      "  _warn_prf(average, modifier, msg_start, len(result))\n"
     ]
    },
    {
     "name": "stdout",
     "output_type": "stream",
     "text": [
      "CV number:  2\n",
      "accuracy of :>0.751\n",
      "F1 of :>0.766\n",
      "Precision of :>0.767\n",
      "Recall of :>0.776\n"
     ]
    },
    {
     "name": "stderr",
     "output_type": "stream",
     "text": [
      "/usr/local/lib/python3.7/dist-packages/sklearn/metrics/_classification.py:1318: UndefinedMetricWarning: Precision is ill-defined and being set to 0.0 in samples with no predicted labels. Use `zero_division` parameter to control this behavior.\n",
      "  _warn_prf(average, modifier, msg_start, len(result))\n"
     ]
    },
    {
     "name": "stdout",
     "output_type": "stream",
     "text": [
      "CV number:  3\n",
      "accuracy of :>0.775\n",
      "F1 of :>0.791\n",
      "Precision of :>0.792\n",
      "Recall of :>0.804\n",
      "CV number:  4\n",
      "accuracy of :>0.777\n",
      "F1 of :>0.791\n",
      "Precision of :>0.795\n",
      "Recall of :>0.796\n",
      "waktu proses 346.57118797302246\n",
      "Accuracy array: [0.7542147293700089, 0.8046594982078853, 0.7513134851138353, 0.7745098039215687, 0.7769028871391076]\n",
      "F1 array: [0.8501499978873538, 0.8531874039938556, 0.7656054540905679, 0.7906692980222392, 0.7914489855434738]\n",
      "Precision array: [0.8298728186926945, 0.8545101553166068, 0.7667688266199649, 0.7922650878533232, 0.7954359871682706]\n",
      "Recall array: [0.9168884945282461, 0.8698775388291518, 0.7758464681844717, 0.8039894745777099, 0.7961213181685622]\n",
      "total waktu adalah6127.071844339371\n"
     ]
    },
    {
     "name": "stderr",
     "output_type": "stream",
     "text": [
      "/usr/local/lib/python3.7/dist-packages/sklearn/metrics/_classification.py:1318: UndefinedMetricWarning: Precision is ill-defined and being set to 0.0 in samples with no predicted labels. Use `zero_division` parameter to control this behavior.\n",
      "  _warn_prf(average, modifier, msg_start, len(result))\n"
     ]
    }
   ],
   "source": [
    "t_awal = time.time()\n",
    "for i in range(8):\n",
    "  hasil_saednn = res_sae_dnn(X, hl_node, lr, opt, num_layers, do, fr_node)\n",
    "  dnn_aja = dnn_saja(X, hl_node, lr, opt, num_layers, do, fr_node)\n",
    "  \n",
    "  SD_ACC.append(hasil_saednn[0])\n",
    "  SD_F1.append(hasil_saednn[1])\n",
    "  SD_PRE.append(hasil_saednn[2])\n",
    "  SD_RE.append(hasil_saednn[3])\n",
    "\n",
    "  S_ACC.append(dnn_aja[0])\n",
    "  S_F1.append(dnn_aja[1])\n",
    "  S_PRE.append(dnn_aja[2])\n",
    "  S_RE.append(dnn_aja[3])\n",
    "  \n",
    "t_akhir = time.time()\n",
    "total_waktu = t_akhir - t_awal\n",
    "print(\"total waktu adalah\" + str(total_waktu))"
   ]
  },
  {
   "cell_type": "code",
   "execution_count": null,
   "metadata": {
    "colab": {
     "base_uri": "https://localhost:8080/"
    },
    "id": "7_D0W8Eux-hq",
    "outputId": "4160a50a-f12f-4e1c-c0ff-28d7d4db17f0"
   },
   "outputs": [
    {
     "name": "stdout",
     "output_type": "stream",
     "text": [
      "===================================\n",
      "===================================\n",
      "SAE-DNN TUNED PERFORMANCE\n",
      "Accuracy    : 0.83898±0.019\n",
      "F1 Score    : 0.87019±0.016\n",
      "Precision   : 0.87679±0.018\n",
      "Recall      : 0.87866±0.015\n",
      "===================================\n",
      "===================================\n",
      "DNN ONLY PERFORMANCE\n",
      "Accuracy    : 0.81722±0.029\n",
      "F1 Score    : 0.84732±0.033\n",
      "Precision   : 0.85317±0.036\n",
      "Recall       : 0.85633±0.033\n"
     ]
    }
   ],
   "source": [
    "\n",
    "print('===================================')\n",
    "print('===================================')\n",
    "print('SAE-DNN TUNED PERFORMANCE')\n",
    "print('Accuracy    : {0:.5f}±{1:.3f}'.format(np.mean(hasil_saednn[0]), np.std(hasil_saednn[0])))\n",
    "print('F1 Score    : {0:.5f}±{1:.3f}'.format(np.mean(hasil_saednn[1]), np.std(hasil_saednn[1])))\n",
    "print('Precision   : {0:.5f}±{1:.3f}'.format(np.mean(hasil_saednn[2]), np.std(hasil_saednn[2])))\n",
    "print('Recall      : {0:.5f}±{1:.3f}'.format(np.mean(hasil_saednn[3]), np.std(hasil_saednn[3])))\n",
    "print('===================================')\n",
    "print('===================================')\n",
    "print('DNN ONLY PERFORMANCE')\n",
    "print('Accuracy    : {0:.5f}±{1:.3f}'.format(np.mean(dnn_aja[0]), np.std(dnn_aja[0])))\n",
    "print('F1 Score    : {0:.5f}±{1:.3f}'.format(np.mean(dnn_aja[1]), np.std(dnn_aja[1])))\n",
    "print('Precision   : {0:.5f}±{1:.3f}'.format(np.mean(dnn_aja[2]), np.std(dnn_aja[2])))\n",
    "print('Recall       : {0:.5f}±{1:.3f}'.format(np.mean(dnn_aja[3]), np.std(dnn_aja[3])))\n"
   ]
  },
  {
   "cell_type": "code",
   "execution_count": null,
   "metadata": {
    "id": "BVqo7SBRNoFP"
   },
   "outputs": [],
   "source": [
    "SD_ACC = []\n",
    "SD_F1 = []\n",
    "SD_PRE = []\n",
    "SD_RE = []\n",
    "\n",
    "S_ACC = []\n",
    "S_F1 = []\n",
    "S_PRE = []\n",
    "S_RE = []"
   ]
  },
  {
   "cell_type": "code",
   "execution_count": null,
   "metadata": {
    "id": "hzS-_RReOYtv"
   },
   "outputs": [],
   "source": [
    "import csv"
   ]
  },
  {
   "cell_type": "code",
   "execution_count": null,
   "metadata": {
    "id": "rhAzv-lsOZq6"
   },
   "outputs": [],
   "source": [
    "fields = ['Name', 'Branch', 'Year', 'CGPA'] "
   ]
  },
  {
   "cell_type": "code",
   "execution_count": null,
   "metadata": {
    "colab": {
     "base_uri": "https://localhost:8080/"
    },
    "id": "Jph5O5I1UZ5T",
    "outputId": "cef28206-f864-4d89-b992-17f0ddffe53e"
   },
   "outputs": [
    {
     "name": "stdout",
     "output_type": "stream",
     "text": [
      "0\n",
      "1\n",
      "2\n",
      "3\n",
      "4\n",
      "5\n",
      "6\n",
      "7\n"
     ]
    }
   ],
   "source": [
    "for i in range(8):\n",
    "  print(i)"
   ]
  },
  {
   "cell_type": "code",
   "execution_count": null,
   "metadata": {
    "id": "Gi7tUg6SOBi4"
   },
   "outputs": [],
   "source": [
    "#percobaan 10 kali\n",
    "akurasi = []\n",
    "f1_score = []\n",
    "precision = []\n",
    "recall = []\n",
    "\n",
    "akurasi_std = []\n",
    "f1_score_std = []\n",
    "precision_std = []\n",
    "recall_std = []\n",
    "\n",
    "akur_std = []\n",
    "for i in range(10):\n",
    "  akurasi.append(np.mean(S_ACC[i]))\n",
    "  f1_score.append(np.mean(S_F1[i]))\n",
    "  precision.append(np.mean(S_PRE[i]))\n",
    "  recall.append(np.mean(S_RE[i]))\n",
    "  \n",
    "  akurasi_std.append(np.std(S_ACC[i]))\n",
    "  f1_score_std.append(np.std(S_F1[i]))\n",
    "  precision_std.append(np.std(S_PRE[i]))\n",
    "  recall_std.append(np.std(S_RE[i]))\n",
    "\n",
    "akhir_saednn = [akurasi, f1_score, precision, recall, akurasi_std, f1_score_std, precision_std, recall_std]"
   ]
  },
  {
   "cell_type": "code",
   "execution_count": null,
   "metadata": {
    "id": "Yq367E3kXGaV"
   },
   "outputs": [],
   "source": [
    "import pandas as pd\n"
   ]
  },
  {
   "cell_type": "code",
   "execution_count": null,
   "metadata": {
    "id": "p8Z9N-yOXGiU"
   },
   "outputs": [],
   "source": [
    "df = pd.DataFrame(akurasi, columns=['Accuracy'])"
   ]
  },
  {
   "cell_type": "code",
   "execution_count": null,
   "metadata": {
    "colab": {
     "base_uri": "https://localhost:8080/",
     "height": 300
    },
    "id": "wBHxpIiJXPPd",
    "outputId": "360abb06-e8a4-4800-d897-78d44f56e29e",
    "scrolled": true
   },
   "outputs": [],
   "source": [
    "df['f1_score'] = f1_score\n",
    "df['precision'] = precision\n",
    "df['recall'] = recall\n",
    "df['akurasi_std'] = akurasi_std\n",
    "df['f1_score_std'] = f1_score_std\n",
    "df['precision_std'] = precision_std\n",
    "df['recall_std'] = recall_std\n",
    "\n",
    "df"
   ]
  },
  {
   "cell_type": "code",
   "execution_count": null,
   "metadata": {
    "id": "KmjiA1F3ZMZy"
   },
   "outputs": [],
   "source": [
    "df.to_csv('Pubchem_1-7_DNN.csv', index=False)"
   ]
  },
  {
   "cell_type": "code",
   "execution_count": null,
   "metadata": {
    "colab": {
     "base_uri": "https://localhost:8080/",
     "height": 183
    },
    "id": "t5BrmSv-De6w",
    "outputId": "ef241c0c-7b26-4bce-c79b-e259d8595122"
   },
   "outputs": [],
   "source": [
    "model_tuned.save(\"sae_dnn_maccs_final.h5\")\n",
    "model.save(\"dnn_maccs_final.h5\")"
   ]
  }
 ],
 "metadata": {
  "accelerator": "GPU",
  "colab": {
   "collapsed_sections": [],
   "name": "Merapikan_Model_3_paling_final_(1).ipynb",
   "provenance": []
  },
  "gpuClass": "standard",
  "kernelspec": {
   "display_name": "Python 3 (ipykernel)",
   "language": "python",
   "name": "python3"
  },
  "language_info": {
   "codemirror_mode": {
    "name": "ipython",
    "version": 3
   },
   "file_extension": ".py",
   "mimetype": "text/x-python",
   "name": "python",
   "nbconvert_exporter": "python",
   "pygments_lexer": "ipython3",
   "version": "3.10.4"
  }
 },
 "nbformat": 4,
 "nbformat_minor": 4
}
