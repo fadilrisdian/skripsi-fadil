{
 "cells": [
  {
   "cell_type": "code",
   "execution_count": 1,
   "id": "ce486076",
   "metadata": {},
   "outputs": [],
   "source": [
    "from bs4 import BeautifulSoup\n",
    "import requests\n",
    "import pandas as pd"
   ]
  },
  {
   "cell_type": "code",
   "execution_count": 18,
   "id": "4329e65b",
   "metadata": {},
   "outputs": [],
   "source": [
    "import re"
   ]
  },
  {
   "cell_type": "code",
   "execution_count": null,
   "id": "c5666341",
   "metadata": {},
   "outputs": [],
   "source": [
    "x \n",
    "url = \"https://go.drugbank.com/unearth/q?query=\" + x + \"&button=&searcher=bio_entities\"\n",
    "data = requests.get(url).text"
   ]
  },
  {
   "cell_type": "code",
   "execution_count": null,
   "id": "8d7a9bc2",
   "metadata": {},
   "outputs": [],
   "source": [
    "da"
   ]
  },
  {
   "cell_type": "code",
   "execution_count": 2,
   "id": "1f947a3e",
   "metadata": {},
   "outputs": [],
   "source": [
    "url = \"https://go.drugbank.com/bio_entities/BE0000215\"\n",
    "data = requests.get(url).text"
   ]
  },
  {
   "cell_type": "code",
   "execution_count": 14,
   "id": "14f5831b",
   "metadata": {},
   "outputs": [],
   "source": [
    "soup = BeautifulSoup(data,\"lxml\")"
   ]
  },
  {
   "cell_type": "code",
   "execution_count": null,
   "id": "c2cd8a2e",
   "metadata": {
    "scrolled": true
   },
   "outputs": [],
   "source": [
    "soup"
   ]
  },
  {
   "cell_type": "code",
   "execution_count": null,
   "id": "5c6feb33",
   "metadata": {
    "scrolled": true
   },
   "outputs": [],
   "source": [
    "soup.find_all(\"a\")"
   ]
  },
  {
   "cell_type": "code",
   "execution_count": 31,
   "id": "a5abeffb",
   "metadata": {},
   "outputs": [],
   "source": [
    "test = soup.find_all(href=re.compile(\"/drugs/DB\"))"
   ]
  },
  {
   "cell_type": "code",
   "execution_count": 35,
   "id": "dad599da",
   "metadata": {},
   "outputs": [
    {
     "data": {
      "text/plain": [
       "148"
      ]
     },
     "execution_count": 35,
     "metadata": {},
     "output_type": "execute_result"
    }
   ],
   "source": [
    "len(test)"
   ]
  },
  {
   "cell_type": "code",
   "execution_count": 36,
   "id": "22dfa1fa",
   "metadata": {},
   "outputs": [],
   "source": [
    "test_baru = test[::2]"
   ]
  },
  {
   "cell_type": "code",
   "execution_count": null,
   "id": "1e43ea55",
   "metadata": {},
   "outputs": [],
   "source": [
    "test_baru"
   ]
  },
  {
   "cell_type": "code",
   "execution_count": 38,
   "id": "a1d5e4e3",
   "metadata": {},
   "outputs": [],
   "source": [
    "coba = []\n",
    "\n",
    "for i in test_baru:\n",
    "    coba.append(i.string)"
   ]
  },
  {
   "cell_type": "code",
   "execution_count": null,
   "id": "2b7bd253",
   "metadata": {
    "scrolled": true
   },
   "outputs": [],
   "source": [
    "coba"
   ]
  },
  {
   "cell_type": "code",
   "execution_count": 59,
   "id": "b065d6e7",
   "metadata": {},
   "outputs": [
    {
     "name": "stdout",
     "output_type": "stream",
     "text": [
      "[]\n"
     ]
    }
   ],
   "source": [
    "url_baru = \"https://go.drugbank.com/drugs/DB00132\"\n",
    "data_baru = requests.get(url).text\n",
    "soup_baru = BeautifulSoup(data_baru,\"lxml\")\n",
    "a = soup_baru.find_all(href=re.compile(\"https://pubchem.ncbi.nlm.nih.gov/summary/summary\"))\n",
    "print(a)"
   ]
  },
  {
   "cell_type": "code",
   "execution_count": 58,
   "id": "3e67bcde",
   "metadata": {
    "scrolled": false
   },
   "outputs": [
    {
     "data": {
      "text/plain": [
       "<!DOCTYPE html>\n",
       "<html><head><meta content=\"width=device-width, initial-scale=1, shrink-to-fit=no\" name=\"viewport\"/><meta content=\"text/html; charset=utf-8\" http-equiv=\"Content-Type\"/><meta content=\"fdhmwDBTGwNPe0lKcJVly7AToLfZYvJ-mtjFAPTMZGs\" name=\"google-site-verification\"/><meta content=\"296E0FF6379AE64A0D18C39BB40ECD6E\" name=\"msvalidate.01\"/><title>Peroxisome proliferator-activated receptor gamma | DrugBank Online</title><link href=\"/favicons/apple-touch-icon-57x57-precomposed.png\" rel=\"apple-touch-icon\" sizes=\"57x57\" type=\"image/x-icon\"/><link href=\"/favicons/apple-touch-icon-60x60-precomposed.png\" rel=\"apple-touch-icon\" sizes=\"60x60\" type=\"image/x-icon\"/><link href=\"/favicons/apple-touch-icon-72x72-precomposed.png\" rel=\"apple-touch-icon\" sizes=\"72x72\" type=\"image/x-icon\"/><link href=\"/favicons/apple-touch-icon-76x76-precomposed.png\" rel=\"apple-touch-icon\" sizes=\"76x76\" type=\"image/x-icon\"/><link href=\"/favicons/apple-touch-icon-114x114-precomposed.png\" rel=\"apple-touch-icon\" sizes=\"114x114\" type=\"image/x-icon\"/><link href=\"/favicons/apple-touch-icon-120x120-precomposed.png\" rel=\"apple-touch-icon\" sizes=\"120x120\" type=\"image/x-icon\"/><link href=\"/favicons/apple-touch-icon-144x144-precomposed.png\" rel=\"apple-touch-icon\" sizes=\"144x144\" type=\"image/x-icon\"/><link href=\"/favicons/apple-touch-icon-152x152-precomposed.png\" rel=\"apple-touch-icon\" sizes=\"152x152\" type=\"image/x-icon\"/><link href=\"/favicons/apple-touch-icon-180x180-precomposed.png\" rel=\"apple-touch-icon\" sizes=\"180x180\" type=\"image/x-icon\"/><link href=\"/favicons/apple-touch-icon-precomposed.png\" rel=\"apple-touch-icon\" sizes=\"57x57\" type=\"image/x-icon\"/><link href=\"/favicons/apple-touch-icon.png\" rel=\"apple-touch-icon\" sizes=\"57x57\" type=\"image/x-icon\"/><link href=\"/favicons/favicon-96x96.png\" rel=\"icon\" sizes=\"96x96\" type=\"image/png\"/><link href=\"/favicons/favicon-32x32.png\" rel=\"icon\" sizes=\"32x32\" type=\"image/png\"/><link href=\"/favicons/favicon-16x16.png\" rel=\"icon\" sizes=\"16x16\" type=\"image/png\"/><link href=\"/favicons/favicon.png\" rel=\"icon\" sizes=\"16x16\" type=\"image/png\"/><link href=\"/favicons/favicon.ico\" rel=\"shortcut icon\" type=\"image/x-icon\"/><meta content=\"#da532c\" name=\"msapplication-TileColor\"/><meta content=\"/favicons/mstile-144x144.png\" name=\"msapplication-TileImage\"/><meta content=\"#ffffff\" name=\"theme-color\"/><meta content=\"DrugBank\" name=\"application-name\"/><link as=\"font\" crossorigin=\"\" href=\"/assets/GemeliWeb-Regular-9ccb07b090f3aef673e3b29ba66e2e685ccf3d438e550624d9739f1bd5164cb2.woff2\" rel=\"preload\" type=\"font/woff2\"/><link as=\"font\" crossorigin=\"\" href=\"/assets/GemeliWeb-Bold-f344ff98a063f8cb6ac490b132bda4035ecc8984358dfa8d9bd8621fa38744e2.woff2\" rel=\"preload\" type=\"font/woff2\"/><link as=\"font\" crossorigin=\"\" href=\"/assets/GemeliWeb-Light-8227f53ee1957ae57cc0c81d1cfecb59238e3fd9d32b1e792432e1f8c81784a1.woff2\" rel=\"preload\" type=\"font/woff2\"/><link as=\"style\" data-turbolinks-track=\"true\" href=\"/assets/public_preload-7bb75340a5ff537e87bf7e9a8383724bc35f25c2f2b5d8e411fdd2a4a657bac3.css\" media=\"all\" onload=\"this.onload=null;this.rel='stylesheet'\" rel=\"preload\"/><noscript><link href=\"/assets/public_preload-7bb75340a5ff537e87bf7e9a8383724bc35f25c2f2b5d8e411fdd2a4a657bac3.css\" media=\"all\" rel=\"stylesheet\"/></noscript><link data-turbolinks-track=\"true\" href=\"/assets/public-7ce82bb78ae55836a7f2a53437b0f77072d3139afdc068f210e726c7d69ac96a.css\" media=\"all\" rel=\"stylesheet\"/><script data-turbolinks-track=\"true\" defer=\"defer\" media=\"all\" src=\"/assets/public-de346f4079123b7b086ddbb3dacbeacd104b373dfb9a9b48e26fc885e64a13ac.js\"></script><script>(function(c,l,a,r,i,t,y){\n",
       "    c[a]=c[a]||function(){(c[a].q=c[a].q||[]).push(arguments)};\n",
       "    t=l.createElement(r);t.async=1;t.src=\"https://www.clarity.ms/tag/\"+i;\n",
       "    y=l.getElementsByTagName(r)[0];y.parentNode.insertBefore(t,y);\n",
       "})(window, document, \"clarity\", \"script\", \"5600r08mxy\");</script><meta content=\"authenticity_token\" name=\"csrf-param\"/>\n",
       "<meta content=\"Y3OChPSpga9W3gs_zzzg5b8rvvowN9qWO1hUVduADvNfVmHxHFOURrTbjGyhsT7Lj6c_pJ8b8i24qW1vqxmB1A\" name=\"csrf-token\"/></head><body class=\"bio-entities-c show-a has-banner\"><header><nav class=\"navbar fixed-top navbar-expand-custom navbar-light\" id=\"main-nav\" style=\"background-color: #ff00b8;\"><a class=\"navbar-brand\" href=\"/\"><img src=\"/assets/logo-white-dd185d748ee0164b8ee8f88df29235cd8cfc7936a3c974589262c667e9294219.svg\" style=\"width: 178px; height: 20px;\"/><div class=\"online\">Online</div></a><button aria-controls=\"navbar\" aria-expanded=\"false\" aria-label=\"Toggle navigation\" class=\"navbar-toggler navbar-toggler-right\" data-target=\"#navbar\" data-toggle=\"collapse\" type=\"button\"><span class=\"navbar-toggler-icon\"></span></button><div class=\"collapse navbar-collapse\" id=\"navbar\"><ul class=\"navbar-nav ml-auto\"><li class=\"nav-item dropdown\"><a class=\"nav-link dropdown-toggle\" data-toggle=\"dropdown\" href=\"#\">Browse</a><div class=\"dropdown-menu\"><a class=\"dropdown-item\" href=\"/drugs\"><div class=\"icon-circle drugbank-icon icon-drugs\"><svg class=\"icon\" role=\"img\" title=\"drugs\">\n",
       "<use xlink:href=\"/assets/icons-539be351b538129271b9ee92cb0ebbd16efad4fccf6e2fe95aa6234f1e7417fa.svg#drugs\"></use>\n",
       "</svg>\n",
       "</div> Drugs</a><a class=\"dropdown-item\" href=\"/drugs/starred\"><div class=\"icon-circle drugbank-icon icon-star-fill\"><svg class=\"icon\" role=\"img\" title=\"star-fill\">\n",
       "<use xlink:href=\"/assets/icons-539be351b538129271b9ee92cb0ebbd16efad4fccf6e2fe95aa6234f1e7417fa.svg#star-fill\"></use>\n",
       "</svg>\n",
       "</div> Starred Drugs</a><a class=\"dropdown-item\" href=\"/categories\"><div class=\"icon-circle drugbank-icon icon-categories\"><svg class=\"icon\" role=\"img\" title=\"categories\">\n",
       "<use xlink:href=\"/assets/icons-539be351b538129271b9ee92cb0ebbd16efad4fccf6e2fe95aa6234f1e7417fa.svg#categories\"></use>\n",
       "</svg>\n",
       "</div> Categories</a><a class=\"dropdown-item\" href=\"/pathways\"><div class=\"icon-circle drugbank-icon icon-pathways\"><svg class=\"icon\" role=\"img\" title=\"pathways\">\n",
       "<use xlink:href=\"/assets/icons-539be351b538129271b9ee92cb0ebbd16efad4fccf6e2fe95aa6234f1e7417fa.svg#pathways\"></use>\n",
       "</svg>\n",
       "</div> Pathways</a><a class=\"dropdown-item\" href=\"/reactions\"><div class=\"icon-circle drugbank-icon icon-reactions\"><svg class=\"icon\" role=\"img\" title=\"reactions\">\n",
       "<use xlink:href=\"/assets/icons-539be351b538129271b9ee92cb0ebbd16efad4fccf6e2fe95aa6234f1e7417fa.svg#reactions\"></use>\n",
       "</svg>\n",
       "</div> Drug Reactions</a><a class=\"dropdown-item\" href=\"/classyfication\"><div class=\"icon-circle drugbank-icon icon-classifications\"><svg class=\"icon\" role=\"img\" title=\"classifications\">\n",
       "<use xlink:href=\"/assets/icons-539be351b538129271b9ee92cb0ebbd16efad4fccf6e2fe95aa6234f1e7417fa.svg#classifications\"></use>\n",
       "</svg>\n",
       "</div> Drug Classification</a><a class=\"dropdown-item\" href=\"/targets\"><div class=\"icon-circle drugbank-icon icon-targets\"><svg class=\"icon\" role=\"img\" title=\"targets\">\n",
       "<use xlink:href=\"/assets/icons-539be351b538129271b9ee92cb0ebbd16efad4fccf6e2fe95aa6234f1e7417fa.svg#targets\"></use>\n",
       "</svg>\n",
       "</div> Drug Targets</a><div class=\"dropdown-divider\"></div><a class=\"dropdown-item\" href=\"/pharmaco/genomics\"><div class=\"icon-circle drugbank-icon icon-geno-browse\"><svg class=\"icon\" role=\"img\" title=\"geno-browse\">\n",
       "<use xlink:href=\"/assets/icons-539be351b538129271b9ee92cb0ebbd16efad4fccf6e2fe95aa6234f1e7417fa.svg#geno-browse\"></use>\n",
       "</svg>\n",
       "</div> Pharmaco-genomics</a><a class=\"dropdown-item\" href=\"/pharmaco/metabolomics\"><div class=\"icon-circle drugbank-icon icon-chemquery\"><svg class=\"icon\" role=\"img\" title=\"chemquery\">\n",
       "<use xlink:href=\"/assets/icons-539be351b538129271b9ee92cb0ebbd16efad4fccf6e2fe95aa6234f1e7417fa.svg#chemquery\"></use>\n",
       "</svg>\n",
       "</div> Pharmaco-metabolomics</a><a class=\"dropdown-item\" href=\"/pharmaco/transcriptomics\"><div class=\"icon-circle drugbank-icon icon-interax\"><svg class=\"icon\" role=\"img\" title=\"interax\">\n",
       "<use xlink:href=\"/assets/icons-539be351b538129271b9ee92cb0ebbd16efad4fccf6e2fe95aa6234f1e7417fa.svg#interax\"></use>\n",
       "</svg>\n",
       "</div> Pharmaco-transcriptomics</a><a class=\"dropdown-item\" href=\"/pharmaco/proteomics\"><div class=\"icon-circle drugbank-icon icon-interax\"><svg class=\"icon\" role=\"img\" title=\"interax\">\n",
       "<use xlink:href=\"/assets/icons-539be351b538129271b9ee92cb0ebbd16efad4fccf6e2fe95aa6234f1e7417fa.svg#interax\"></use>\n",
       "</svg>\n",
       "</div> Pharmaco-proteomics</a></div></li><li class=\"nav-item dropdown\"><a class=\"nav-link dropdown-toggle\" data-toggle=\"dropdown\" href=\"#\">COVID-19</a><div class=\"dropdown-menu\"><a class=\"dropdown-item\" href=\"/covid-19\"><div class=\"icon-circle drugbank-icon icon-covid-overview\"><svg class=\"icon\" role=\"img\" title=\"covid-overview\">\n",
       "<use xlink:href=\"/assets/icons-539be351b538129271b9ee92cb0ebbd16efad4fccf6e2fe95aa6234f1e7417fa.svg#covid-overview\"></use>\n",
       "</svg>\n",
       "</div> Overview</a><a class=\"dropdown-item\" href=\"/covid-19-vaccination\"><div class=\"icon-circle drugbank-icon icon-covid-vaccination\"><svg class=\"icon\" role=\"img\" title=\"covid-vaccination\">\n",
       "<use xlink:href=\"/assets/icons-539be351b538129271b9ee92cb0ebbd16efad4fccf6e2fe95aa6234f1e7417fa.svg#covid-vaccination\"></use>\n",
       "</svg>\n",
       "</div> Vaccine Side Effects</a></div></li><li class=\"nav-item dropdown\"><a class=\"nav-link dropdown-toggle\" data-toggle=\"dropdown\" href=\"#\">Search</a><div class=\"dropdown-menu\"><a class=\"dropdown-item\" data-no-turbolink=\"true\" href=\"/structures/search/small_molecule_drugs/structure\"><div class=\"icon-circle drugbank-icon icon-chemquery\"><svg class=\"icon\" role=\"img\" title=\"chemquery\">\n",
       "<use xlink:href=\"/assets/icons-539be351b538129271b9ee92cb0ebbd16efad4fccf6e2fe95aa6234f1e7417fa.svg#chemquery\"></use>\n",
       "</svg>\n",
       "</div> Chemical Structure</a><a class=\"dropdown-item\" data-no-turbolink=\"true\" href=\"/structures/search/small_molecule_drugs/mass\"><div class=\"icon-circle drugbank-icon icon-molecular-weight\"><svg class=\"icon\" role=\"img\" title=\"molecular-weight\">\n",
       "<use xlink:href=\"/assets/icons-539be351b538129271b9ee92cb0ebbd16efad4fccf6e2fe95aa6234f1e7417fa.svg#molecular-weight\"></use>\n",
       "</svg>\n",
       "</div> Molecular Weight</a><a class=\"dropdown-item\" href=\"/drug-interaction-checker\"><div class=\"icon-circle drugbank-icon icon-interax\"><svg class=\"icon\" role=\"img\" title=\"interax\">\n",
       "<use xlink:href=\"/assets/icons-539be351b538129271b9ee92cb0ebbd16efad4fccf6e2fe95aa6234f1e7417fa.svg#interax\"></use>\n",
       "</svg>\n",
       "</div> Drug &amp; Food Interactions</a><a class=\"dropdown-item\" data-no-turbolink=\"true\" href=\"/structures/search/bonds/sequence\"><div class=\"icon-circle drugbank-icon icon-sequence\"><svg class=\"icon\" role=\"img\" title=\"sequence\">\n",
       "<use xlink:href=\"/assets/icons-539be351b538129271b9ee92cb0ebbd16efad4fccf6e2fe95aa6234f1e7417fa.svg#sequence\"></use>\n",
       "</svg>\n",
       "</div> Target Sequences</a><a class=\"dropdown-item\" data-no-turbolink=\"true\" href=\"/pharmaco/search\"><div class=\"icon-circle drugbank-icon icon-pathways\"><svg class=\"icon\" role=\"img\" title=\"pathways\">\n",
       "<use xlink:href=\"/assets/icons-539be351b538129271b9ee92cb0ebbd16efad4fccf6e2fe95aa6234f1e7417fa.svg#pathways\"></use>\n",
       "</svg>\n",
       "</div> Pharmaco-omics</a><a class=\"dropdown-item\" href=\"/unearth/advanced/drugs\"><div class=\"icon-circle drugbank-icon icon-advanced\"><svg class=\"icon\" role=\"img\" title=\"advanced\">\n",
       "<use xlink:href=\"/assets/icons-539be351b538129271b9ee92cb0ebbd16efad4fccf6e2fe95aa6234f1e7417fa.svg#advanced\"></use>\n",
       "</svg>\n",
       "</div> Advanced Search</a><div class=\"dropdown-divider\"></div><a class=\"dropdown-item\" href=\"/spectra/ms/search\"><div class=\"icon-circle drugbank-icon icon-ms\"><svg class=\"icon\" role=\"img\" title=\"ms\">\n",
       "<use xlink:href=\"/assets/icons-539be351b538129271b9ee92cb0ebbd16efad4fccf6e2fe95aa6234f1e7417fa.svg#ms\"></use>\n",
       "</svg>\n",
       "</div> MS Search</a><a class=\"dropdown-item\" href=\"/spectra/ms_ms/search\"><div class=\"icon-circle drugbank-icon icon-msms\"><svg class=\"icon\" role=\"img\" title=\"msms\">\n",
       "<use xlink:href=\"/assets/icons-539be351b538129271b9ee92cb0ebbd16efad4fccf6e2fe95aa6234f1e7417fa.svg#msms\"></use>\n",
       "</svg>\n",
       "</div> MS/MS Search</a><a class=\"dropdown-item\" href=\"/spectra/c_ms/search\"><div class=\"icon-circle drugbank-icon icon-gcms\"><svg class=\"icon\" role=\"img\" title=\"gcms\">\n",
       "<use xlink:href=\"/assets/icons-539be351b538129271b9ee92cb0ebbd16efad4fccf6e2fe95aa6234f1e7417fa.svg#gcms\"></use>\n",
       "</svg>\n",
       "</div> GC/MS Search</a><a class=\"dropdown-item\" href=\"/spectra/nmr_one_d/search\"><div class=\"icon-circle drugbank-icon icon-nmr-1d\"><svg class=\"icon\" role=\"img\" title=\"nmr-1d\">\n",
       "<use xlink:href=\"/assets/icons-539be351b538129271b9ee92cb0ebbd16efad4fccf6e2fe95aa6234f1e7417fa.svg#nmr-1d\"></use>\n",
       "</svg>\n",
       "</div> 1D NMR Search</a><a class=\"dropdown-item\" href=\"/spectra/nmr_two_d/search\"><div class=\"icon-circle drugbank-icon icon-nmr-2d\"><svg class=\"icon\" role=\"img\" title=\"nmr-2d\">\n",
       "<use xlink:href=\"/assets/icons-539be351b538129271b9ee92cb0ebbd16efad4fccf6e2fe95aa6234f1e7417fa.svg#nmr-2d\"></use>\n",
       "</svg>\n",
       "</div> 2D NMR Search</a></div></li><li class=\"nav-item\"><a class=\"nav-link\" href=\"/drug-interaction-checker\">Interaction Checker</a></li><li class=\"nav-item\"><a class=\"nav-link\" href=\"/releases/latest\">Downloads</a></li><li class=\"nav-item dropdown\" role=\"presentation\"><a class=\"nav-link dropdown-toggle\" data-toggle=\"dropdown\" href=\"#\">Solutions</a><div class=\"dropdown-menu\"><div class=\"link-header dropdown-item\">Products</div><div class=\"link-header dropdown-item blue-header\">Commercial Research</div><a class=\"dropdown-item dropdown-item-last\" href=\"https://www.drugbank.com/datasets\" target=\"_blank\"><div class=\"icon-pink product-icon drugbank-icon icon-scientific\"><svg class=\"icon\" role=\"img\" title=\"scientific\"> <use xlink:href=\"/assets/plus/icons-3af0be760cdb744eb6fd55a4d4e5ddfbe70059f381e99a13dcfb2dd8c487cc4b.svg#scientific\"> </use></svg></div> Drug Datasets</a><div class=\"link-header dropdown-item blue-header\">Academic Research</div><a class=\"dropdown-item dropdown-item-last\" href=\"https://www.drugbank.com/academic_research\" target=\"_blank\"><div class=\"icon-pink product-icon drugbank-icon icon-academic\"><svg class=\"icon\" role=\"img\" title=\"academic\"> <use xlink:href=\"/assets/plus/icons-3af0be760cdb744eb6fd55a4d4e5ddfbe70059f381e99a13dcfb2dd8c487cc4b.svg#academic\"> </use></svg></div> Drug Datasets</a><div class=\"dropdown-divider\"></div><a class=\"dropdown-item dropdown-item-extra-padding\" href=\"https://www.drugbank.com/clinical\" target=\"_blank\"><div class=\"icon-pink product-icon drugbank-icon icon-clinical\"><svg class=\"icon\" role=\"img\" title=\"clinical\"> <use xlink:href=\"/assets/plus/icons-3af0be760cdb744eb6fd55a4d4e5ddfbe70059f381e99a13dcfb2dd8c487cc4b.svg#clinical\"> </use></svg></div> Clinical API</a><div class=\"link-header dropdown-item\">Use Cases</div><a class=\"dropdown-item\" href=\"https://www.drugbank.com/use_cases/ml-drug-discovery-repurposing\" target=\"_blank\">Drug Discovery &amp; Repurposing</a><a class=\"dropdown-item\" href=\"https://www.drugbank.com/use_cases/in-silico-testing\" target=\"_blank\"><i>In Silico </i>Testing</a><a class=\"dropdown-item\" href=\"https://www.drugbank.com/use_cases/precision_medicine\" target=\"_blank\">Precision Medicine</a><a class=\"dropdown-item\" href=\"https://www.drugbank.com/use_cases/telehealth\" target=\"_blank\">Telehealth</a><a class=\"dropdown-item dropdown-item-last\" href=\"https://www.drugbank.com/use_cases/electronic_medical_records\" target=\"_blank\">Electronic Medical Records</a><div class=\"link-header dropdown-item\">Resources</div><a class=\"dropdown-item\" href=\"https://www.drugbank.com/downloads\" target=\"_blank\">White Papers</a></div></li><li class=\"nav-item dropdown\"><a class=\"nav-link dropdown-toggle\" data-toggle=\"dropdown\" href=\"#\">About</a><div class=\"dropdown-menu right-menu\"><div class=\"col-menu\"><div class=\"menu-col\"><div class=\"link-header dropdown-item\"><a href=\"https://dev.drugbank.com/guides/index\" target=\"_blank\"><div class=\"drugbank-icon icon-help_center\"><svg class=\"icon\" role=\"img\" title=\"help_center\"> <use xlink:href=\"/assets/plus/icons-3af0be760cdb744eb6fd55a4d4e5ddfbe70059f381e99a13dcfb2dd8c487cc4b.svg#help_center\"> </use></svg></div> Help Center</a></div><a class=\"dropdown-item\" href=\"https://dev.drugbank.com/guides/drugbank/citing\" target=\"_blank\"><div class=\"icon-circle drugbank-icon icon-citing\"><svg class=\"icon\" role=\"img\" title=\"citing\">\n",
       "<use xlink:href=\"/assets/icons-539be351b538129271b9ee92cb0ebbd16efad4fccf6e2fe95aa6234f1e7417fa.svg#citing\"></use>\n",
       "</svg>\n",
       "</div> Citing DrugBank</a><a class=\"dropdown-item\" href=\"https://dev.drugbank.com/guides/faqs\" target=\"_blank\"><div class=\"icon-circle drugbank-icon icon-faq\"><svg class=\"icon\" role=\"img\" title=\"faq\">\n",
       "<use xlink:href=\"/assets/icons-539be351b538129271b9ee92cb0ebbd16efad4fccf6e2fe95aa6234f1e7417fa.svg#faq\"></use>\n",
       "</svg>\n",
       "</div> DrugBank Online FAQs</a><a class=\"dropdown-item\" href=\"https://dev.drugbank.com/guides/drugbank/searching\" target=\"_blank\"><div class=\"icon-circle drugbank-icon icon-search\"><svg class=\"icon\" role=\"img\" title=\"search\">\n",
       "<use xlink:href=\"/assets/icons-539be351b538129271b9ee92cb0ebbd16efad4fccf6e2fe95aa6234f1e7417fa.svg#search\"></use>\n",
       "</svg>\n",
       "</div> Searching DrugBank</a><a class=\"dropdown-item\" href=\"https://dev.drugbank.com/guides/drugbank/other_databases\" target=\"_blank\"><div class=\"icon-circle drugbank-icon icon-database\"><svg class=\"icon\" role=\"img\" title=\"database\">\n",
       "<use xlink:href=\"/assets/icons-539be351b538129271b9ee92cb0ebbd16efad4fccf6e2fe95aa6234f1e7417fa.svg#database\"></use>\n",
       "</svg>\n",
       "</div> Other Databases</a><a class=\"dropdown-item\" href=\"https://dev.drugbank.com/guides/fields/drugs\" target=\"_blank\"><div class=\"icon-circle drugbank-icon icon-data-sources\"><svg class=\"icon\" role=\"img\" title=\"data-sources\">\n",
       "<use xlink:href=\"/assets/icons-539be351b538129271b9ee92cb0ebbd16efad4fccf6e2fe95aa6234f1e7417fa.svg#data-sources\"></use>\n",
       "</svg>\n",
       "</div> Data Sources</a></div><div class=\"menu-col\"><div class=\"link-header dropdown-item\"><div class=\"drugbank-icon icon-quick_link\"><svg class=\"icon\" role=\"img\" title=\"quick_link\"> <use xlink:href=\"/assets/plus/icons-3af0be760cdb744eb6fd55a4d4e5ddfbe70059f381e99a13dcfb2dd8c487cc4b.svg#quick_link\"> </use></svg></div> About</div><a class=\"dropdown-item\" href=\"/about\"><div class=\"icon-circle drugbank-icon icon-drugbank\"><svg class=\"icon\" role=\"img\" title=\"drugbank\">\n",
       "<use xlink:href=\"/assets/icons-539be351b538129271b9ee92cb0ebbd16efad4fccf6e2fe95aa6234f1e7417fa.svg#drugbank\"></use>\n",
       "</svg>\n",
       "</div> About DrugBank Online</a><a class=\"dropdown-item\" href=\"https://dev.drugbank.com/publications\" target=\"_blank\"><div class=\"icon-circle drugbank-icon icon-search\"><svg class=\"icon\" role=\"img\" title=\"search\">\n",
       "<use xlink:href=\"/assets/icons-539be351b538129271b9ee92cb0ebbd16efad4fccf6e2fe95aa6234f1e7417fa.svg#search\"></use>\n",
       "</svg>\n",
       "</div> DrugBank in Research</a><a class=\"dropdown-item\" href=\"/stats\"><div class=\"icon-circle drugbank-icon icon-statistics\"><svg class=\"icon\" role=\"img\" title=\"statistics\">\n",
       "<use xlink:href=\"/assets/icons-539be351b538129271b9ee92cb0ebbd16efad4fccf6e2fe95aa6234f1e7417fa.svg#statistics\"></use>\n",
       "</svg>\n",
       "</div> Statistics</a><a class=\"dropdown-item\" href=\"https://blog.drugbank.com/\" rel=\"noopener\" target=\"_blank\"><div class=\"icon-circle drugbank-icon icon-news\"><svg class=\"icon\" role=\"img\" title=\"news\">\n",
       "<use xlink:href=\"/assets/icons-539be351b538129271b9ee92cb0ebbd16efad4fccf6e2fe95aa6234f1e7417fa.svg#news\"></use>\n",
       "</svg>\n",
       "</div> Blog</a><a class=\"dropdown-item\" href=\"http://www.wishartlab.com\" rel=\"noopener\" target=\"_blank\"><div class=\"icon-circle drugbank-icon icon-wishart\"><svg class=\"icon\" role=\"img\" title=\"wishart\">\n",
       "<use xlink:href=\"/assets/icons-539be351b538129271b9ee92cb0ebbd16efad4fccf6e2fe95aa6234f1e7417fa.svg#wishart\"></use>\n",
       "</svg>\n",
       "</div> Wishart Research Group</a><a class=\"dropdown-item\" href=\"/contact\"><div class=\"small-icon icon-circle drugbank-icon icon-paper-plane\"><svg class=\"icon\" role=\"img\" title=\"paper-plane\">\n",
       "<use xlink:href=\"/assets/icons-539be351b538129271b9ee92cb0ebbd16efad4fccf6e2fe95aa6234f1e7417fa.svg#paper-plane\"></use>\n",
       "</svg>\n",
       "</div> Contact Us</a></div></div></div></li></ul></div></nav><nav class=\"navbar fixed-top navbar-expand search-bar justify-content-center justify-content-sm-end d-flex\"><div class=\"form-container\"><form accept-charset=\"UTF-8\" action=\"/unearth/q\" class=\"form-inline\" method=\"get\"><div class=\"search-group d-none d-sm-block\" style=\"margin-right: 0.5rem;\"><select class=\"form-control input-md\" id=\"searcher\" name=\"searcher\"><option value=\"drugs\">Drugs</option>\n",
       "<option value=\"bio_entities\">Targets</option>\n",
       "<option value=\"pathways\">Pathways</option>\n",
       "<option value=\"indications\">Indications</option></select> <div class=\"drugbank-icon icon-arrow-down\"><svg class=\"icon\" role=\"img\" title=\"arrow-down\">\n",
       "<use xlink:href=\"/assets/icons-539be351b538129271b9ee92cb0ebbd16efad4fccf6e2fe95aa6234f1e7417fa.svg#arrow-down\"></use>\n",
       "</svg>\n",
       "</div> </div><div class=\"search-group\"><input class=\"search-query\" id=\"query\" name=\"query\" type=\"text\"/> <div class=\"drugbank-icon icon-search\"><svg class=\"icon\" role=\"img\" title=\"search\">\n",
       "<use xlink:href=\"/assets/icons-539be351b538129271b9ee92cb0ebbd16efad4fccf6e2fe95aa6234f1e7417fa.svg#search\"></use>\n",
       "</svg>\n",
       "</div> </div></form></div><div class=\"mini-banner banner-holder\"><a href=\"https://surveys.hotjar.com/39dbad6d-3b28-4871-980f-5d75bb36c6b5\" target=\"_blank\"><div class=\"banner-text\"><span class=\"mr-3\">Interested in a <strong>DrugBank Referral Program?</strong>\n",
       "</span><span class=\"banner-link\"><span>Take Short Survey</span><div class=\"icon-circle drugbank-icon icon-arrow-right\"><svg class=\"icon\" role=\"img\" title=\"arrow-right\">\n",
       "<use xlink:href=\"/assets/icons-539be351b538129271b9ee92cb0ebbd16efad4fccf6e2fe95aa6234f1e7417fa.svg#arrow-right\"></use>\n",
       "</svg>\n",
       "</div></span></div></a><div class=\"close-banner\"><div class=\"drugbank-icon icon-cross\"><svg class=\"icon\" role=\"img\" title=\"cross\">\n",
       "<use xlink:href=\"/assets/icons-539be351b538129271b9ee92cb0ebbd16efad4fccf6e2fe95aa6234f1e7417fa.svg#cross\"></use>\n",
       "</svg>\n",
       "</div></div></div></nav></header><main role=\"main\"><div class=\"content-container\"><div class=\"content-header d-sm-flex align-items-center\"><h1 class=\"align-self-center mr-auto\">Peroxisome proliferator-activated receptor gamma</h1></div><div class=\"card-content px-md-4 px-sm-2 pb-md-4 pb-sm-2\"><h2 class=\"section-header\" id=\"details-header\">Details</h2><dl><dt class=\"col-xl-2 col-md-3 col-sm-4\" id=\"name\">Name</dt><dd class=\"col-xl-10 col-md-9 col-sm-8\">Peroxisome proliferator-activated receptor gamma</dd><dt class=\"col-xl-2 col-md-3 col-sm-4\" id=\"kind\">Kind</dt><dd class=\"col-xl-10 col-md-9 col-sm-8\">protein</dd><dt class=\"col-xl-2 col-md-3 col-sm-4\" id=\"organism\">Organism</dt><dd class=\"col-xl-10 col-md-9 col-sm-8\">Humans</dd><dt class=\"col-xl-2 col-md-3 col-sm-4\" id=\"protein\">Protein</dt><dd class=\"col-xl-10 col-md-9 col-sm-8\"><table class=\"table table-sm table-bordered\" style=\"width: auto\"><thead><tr><th>Name</th><th>UniProt ID</th><th></th></tr></thead><tbody><tr><td>Peroxisome proliferator-activated receptor gamma</td><td><a href=\"http://www.uniprot.org/uniprot/P37231\" rel=\"noopener\" target=\"_blank\">P37231</a></td><td><a href=\"/polypeptides/P37231\">Details</a></td></tr></tbody></table></dd></dl><h2 class=\"section-header\" id=\"drug-relations-header\">Drug Relations</h2><dl><dt class=\"col-xl-2 col-md-3 col-sm-4\" id=\"drug-relations\">Drug Relations</dt><dd class=\"col-xl-10 col-md-9 col-sm-8\"><table class=\"table table-sm table-bordered datatable dt-responsive\" id=\"target-relations\" style=\"width: 100%\"><thead><tr><th>DrugBank ID</th><th>Name</th><th>Drug group</th><th>Pharmacological action?</th><th>Actions</th><th>Details</th></tr></thead><tbody><tr><td><a href=\"/drugs/DB00197\">DB00197</a></td><td><strong>Troglitazone</strong></td><td>approved, investigational, withdrawn</td><td><strong class=\"badge badge-yes\">yes</strong></td><td><strong class=\"badge badge-secondary\">agonist</strong><strong class=\"badge badge-secondary\">regulator</strong></td><td class=\"text-sm-center\"><a class=\"btn btn-sm btn-outline-secondary\" href=\"/drugs/DB00197#BE0000215\">Details</a></td></tr><tr><td><a href=\"/drugs/DB00412\">DB00412</a></td><td><strong>Rosiglitazone</strong></td><td>approved, investigational</td><td><strong class=\"badge badge-yes\">yes</strong></td><td><strong class=\"badge badge-secondary\">agonist</strong></td><td class=\"text-sm-center\"><a class=\"btn btn-sm btn-outline-secondary\" href=\"/drugs/DB00412#BE0000215\">Details</a></td></tr><tr><td><a href=\"/drugs/DB01132\">DB01132</a></td><td><strong>Pioglitazone</strong></td><td>approved, investigational</td><td><strong class=\"badge badge-yes\">yes</strong></td><td><strong class=\"badge badge-secondary\">agonist</strong></td><td class=\"text-sm-center\"><a class=\"btn btn-sm btn-outline-secondary\" href=\"/drugs/DB01132#BE0000215\">Details</a></td></tr><tr><td><a href=\"/drugs/DB00159\">DB00159</a></td><td><strong>Icosapent</strong></td><td>approved, nutraceutical</td><td><strong class=\"badge badge-yes\">yes</strong></td><td><strong class=\"badge badge-secondary\">agonist</strong><strong class=\"badge badge-secondary\">regulator</strong></td><td class=\"text-sm-center\"><a class=\"btn btn-sm btn-outline-secondary\" href=\"/drugs/DB00159#BE0000215\">Details</a></td></tr><tr><td><a href=\"/drugs/DB04971\">DB04971</a></td><td><strong>Reglitazar</strong></td><td>investigational</td><td><strong class=\"badge badge-unknown\">unknown</strong></td><td></td><td class=\"text-sm-center\"><a class=\"btn btn-sm btn-outline-secondary\" href=\"/drugs/DB04971#BE0000215\">Details</a></td></tr><tr><td><a href=\"/drugs/DB04689\">DB04689</a></td><td><strong>2-{5-[3-(6-BENZOYL-1-PROPYLNAPHTHALEN-2-YLOXY)PROPOXY]INDOL-1-YL}ETHANOIC ACID</strong></td><td>experimental</td><td><strong class=\"badge badge-unknown\">unknown</strong></td><td></td><td class=\"text-sm-center\"><a class=\"btn btn-sm btn-outline-secondary\" href=\"/drugs/DB04689#BE0000215\">Details</a></td></tr><tr><td><a href=\"/drugs/DB05187\">DB05187</a></td><td><strong>Elafibranor</strong></td><td>investigational</td><td><strong class=\"badge badge-unknown\">unknown</strong></td><td></td><td class=\"text-sm-center\"><a class=\"btn btn-sm btn-outline-secondary\" href=\"/drugs/DB05187#BE0000215\">Details</a></td></tr><tr><td><a href=\"/drugs/DB05490\">DB05490</a></td><td><strong>AMG-131</strong></td><td>investigational</td><td><strong class=\"badge badge-yes\">yes</strong></td><td><strong class=\"badge badge-secondary\">partial agonist</strong></td><td class=\"text-sm-center\"><a class=\"btn btn-sm btn-outline-secondary\" href=\"/drugs/DB05490#BE0000215\">Details</a></td></tr><tr><td><a href=\"/drugs/DB05854\">DB05854</a></td><td><strong>CLX-0921</strong></td><td>investigational</td><td><strong class=\"badge badge-unknown\">unknown</strong></td><td></td><td class=\"text-sm-center\"><a class=\"btn btn-sm btn-outline-secondary\" href=\"/drugs/DB05854#BE0000215\">Details</a></td></tr><tr><td><a href=\"/drugs/DB11811\">DB11811</a></td><td><strong>Arhalofenate</strong></td><td>investigational</td><td><strong class=\"badge badge-unknown\">unknown</strong></td><td></td><td class=\"text-sm-center\"><a class=\"btn btn-sm btn-outline-secondary\" href=\"/drugs/DB11811#BE0000215\">Details</a></td></tr><tr><td><a href=\"/drugs/DB12662\">DB12662</a></td><td><strong>Naveglitazar</strong></td><td>investigational</td><td><strong class=\"badge badge-unknown\">unknown</strong></td><td></td><td class=\"text-sm-center\"><a class=\"btn btn-sm btn-outline-secondary\" href=\"/drugs/DB12662#BE0000215\">Details</a></td></tr><tr><td><a href=\"/drugs/DB06510\">DB06510</a></td><td><strong>Muraglitazar</strong></td><td>investigational</td><td><strong class=\"badge badge-unknown\">unknown</strong></td><td></td><td class=\"text-sm-center\"><a class=\"btn btn-sm btn-outline-secondary\" href=\"/drugs/DB06510#BE0000215\">Details</a></td></tr><tr><td><a href=\"/drugs/DB06521\">DB06521</a></td><td><strong>Ertiprotafib</strong></td><td>investigational</td><td><strong class=\"badge badge-unknown\">unknown</strong></td><td></td><td class=\"text-sm-center\"><a class=\"btn btn-sm btn-outline-secondary\" href=\"/drugs/DB06521#BE0000215\">Details</a></td></tr><tr><td><a href=\"/drugs/DB06533\">DB06533</a></td><td><strong>Ragaglitazar</strong></td><td>investigational</td><td><strong class=\"badge badge-unknown\">unknown</strong></td><td></td><td class=\"text-sm-center\"><a class=\"btn btn-sm btn-outline-secondary\" href=\"/drugs/DB06533#BE0000215\">Details</a></td></tr><tr><td><a href=\"/drugs/DB06536\">DB06536</a></td><td><strong>Tesaglitazar</strong></td><td>investigational</td><td><strong class=\"badge badge-unknown\">unknown</strong></td><td></td><td class=\"text-sm-center\"><a class=\"btn btn-sm btn-outline-secondary\" href=\"/drugs/DB06536#BE0000215\">Details</a></td></tr><tr><td><a href=\"/drugs/DB00328\">DB00328</a></td><td><strong>Indomethacin</strong></td><td>approved, investigational</td><td><strong class=\"badge badge-unknown\">unknown</strong></td><td><strong class=\"badge badge-secondary\">activator</strong></td><td class=\"text-sm-center\"><a class=\"btn btn-sm btn-outline-secondary\" href=\"/drugs/DB00328#BE0000215\">Details</a></td></tr><tr><td><a href=\"/drugs/DB00731\">DB00731</a></td><td><strong>Nateglinide</strong></td><td>approved, investigational</td><td><strong class=\"badge badge-unknown\">unknown</strong></td><td><strong class=\"badge badge-secondary\">agonist</strong></td><td class=\"text-sm-center\"><a class=\"btn btn-sm btn-outline-secondary\" href=\"/drugs/DB00731#BE0000215\">Details</a></td></tr><tr><td><a href=\"/drugs/DB00912\">DB00912</a></td><td><strong>Repaglinide</strong></td><td>approved, investigational</td><td><strong class=\"badge badge-unknown\">unknown</strong></td><td><strong class=\"badge badge-secondary\">agonist</strong></td><td class=\"text-sm-center\"><a class=\"btn btn-sm btn-outline-secondary\" href=\"/drugs/DB00912#BE0000215\">Details</a></td></tr><tr><td><a href=\"/drugs/DB01252\">DB01252</a></td><td><strong>Mitiglinide</strong></td><td>investigational</td><td><strong class=\"badge badge-unknown\">unknown</strong></td><td><strong class=\"badge badge-secondary\">agonist</strong></td><td class=\"text-sm-center\"><a class=\"btn btn-sm btn-outline-secondary\" href=\"/drugs/DB01252#BE0000215\">Details</a></td></tr><tr><td><a href=\"/drugs/DB01067\">DB01067</a></td><td><strong>Glipizide</strong></td><td>approved, investigational</td><td><strong class=\"badge badge-unknown\">unknown</strong></td><td><strong class=\"badge badge-secondary\">agonist</strong></td><td class=\"text-sm-center\"><a class=\"btn btn-sm btn-outline-secondary\" href=\"/drugs/DB01067#BE0000215\">Details</a></td></tr><tr><td><a href=\"/drugs/DB00966\">DB00966</a></td><td><strong>Telmisartan</strong></td><td>approved, investigational</td><td><strong class=\"badge badge-yes\">yes</strong></td><td><strong class=\"badge badge-secondary\">partial agonist</strong></td><td class=\"text-sm-center\"><a class=\"btn btn-sm btn-outline-secondary\" href=\"/drugs/DB00966#BE0000215\">Details</a></td></tr><tr><td><a href=\"/drugs/DB01014\">DB01014</a></td><td><strong>Balsalazide</strong></td><td>approved, investigational</td><td><strong class=\"badge badge-yes\">yes</strong></td><td><strong class=\"badge badge-secondary\">agonist</strong></td><td class=\"text-sm-center\"><a class=\"btn btn-sm btn-outline-secondary\" href=\"/drugs/DB01014#BE0000215\">Details</a></td></tr><tr><td><a href=\"/drugs/DB01393\">DB01393</a></td><td><strong>Bezafibrate</strong></td><td>approved, investigational</td><td><strong class=\"badge badge-yes\">yes</strong></td><td><strong class=\"badge badge-secondary\">agonist</strong></td><td class=\"text-sm-center\"><a class=\"btn btn-sm btn-outline-secondary\" href=\"/drugs/DB01393#BE0000215\">Details</a></td></tr><tr><td><a href=\"/drugs/DB06908\">DB06908</a></td><td><strong>(2S)-3-(1-{[2-(2-CHLOROPHENYL)-5-METHYL-1,3-OXAZOL-4-YL]METHYL}-1H-INDOL-5-YL)-2-ETHOXYPROPANOIC ACID</strong></td><td>experimental</td><td><strong class=\"badge badge-unknown\">unknown</strong></td><td></td><td class=\"text-sm-center\"><a class=\"btn btn-sm btn-outline-secondary\" href=\"/drugs/DB06908#BE0000215\">Details</a></td></tr><tr><td><a href=\"/drugs/DB06926\">DB06926</a></td><td><strong>(9Z,11E,13S)-13-hydroxyoctadeca-9,11-dienoic acid</strong></td><td>experimental</td><td><strong class=\"badge badge-unknown\">unknown</strong></td><td></td><td class=\"text-sm-center\"><a class=\"btn btn-sm btn-outline-secondary\" href=\"/drugs/DB06926#BE0000215\">Details</a></td></tr><tr><td><a href=\"/drugs/DB07053\">DB07053</a></td><td><strong>2-{5-[3-(7-PROPYL-3-TRIFLUOROMETHYLBENZO[D]ISOXAZOL-6-YLOXY)PROPOXY]INDOL-1-YL}ETHANOIC ACID</strong></td><td>experimental</td><td><strong class=\"badge badge-unknown\">unknown</strong></td><td></td><td class=\"text-sm-center\"><a class=\"btn btn-sm btn-outline-secondary\" href=\"/drugs/DB07053#BE0000215\">Details</a></td></tr><tr><td><a href=\"/drugs/DB07111\">DB07111</a></td><td><strong>(4S,5E,7Z,10Z,13Z,16Z,19Z)-4-hydroxydocosa-5,7,10,13,16,19-hexaenoic acid</strong></td><td>experimental</td><td><strong class=\"badge badge-unknown\">unknown</strong></td><td></td><td class=\"text-sm-center\"><a class=\"btn btn-sm btn-outline-secondary\" href=\"/drugs/DB07111#BE0000215\">Details</a></td></tr><tr><td><a href=\"/drugs/DB07172\">DB07172</a></td><td><strong>(5R,6E,8Z,11Z,14Z,17Z)-5-hydroxyicosa-6,8,11,14,17-pentaenoic acid</strong></td><td>experimental</td><td><strong class=\"badge badge-unknown\">unknown</strong></td><td></td><td class=\"text-sm-center\"><a class=\"btn btn-sm btn-outline-secondary\" href=\"/drugs/DB07172#BE0000215\">Details</a></td></tr><tr><td><a href=\"/drugs/DB07208\">DB07208</a></td><td><strong>(8E,10S,12Z)-10-hydroxy-6-oxooctadeca-8,12-dienoic acid</strong></td><td>experimental</td><td><strong class=\"badge badge-unknown\">unknown</strong></td><td></td><td class=\"text-sm-center\"><a class=\"btn btn-sm btn-outline-secondary\" href=\"/drugs/DB07208#BE0000215\">Details</a></td></tr><tr><td><a href=\"/drugs/DB07209\">DB07209</a></td><td><strong>(8R,9Z,12Z)-8-hydroxy-6-oxooctadeca-9,12-dienoic acid</strong></td><td>experimental</td><td><strong class=\"badge badge-unknown\">unknown</strong></td><td></td><td class=\"text-sm-center\"><a class=\"btn btn-sm btn-outline-secondary\" href=\"/drugs/DB07209#BE0000215\">Details</a></td></tr><tr><td><a href=\"/drugs/DB07302\">DB07302</a></td><td><strong>9(S)-HODE</strong></td><td>experimental</td><td><strong class=\"badge badge-unknown\">unknown</strong></td><td></td><td class=\"text-sm-center\"><a class=\"btn btn-sm btn-outline-secondary\" href=\"/drugs/DB07302#BE0000215\">Details</a></td></tr><tr><td><a href=\"/drugs/DB07509\">DB07509</a></td><td><strong>difluoro(5-{2-[(5-octyl-1H-pyrrol-2-yl-kappaN)methylidene]-2H-pyrrol-5-yl-kappaN}pentanoato)boron</strong></td><td>experimental</td><td><strong class=\"badge badge-unknown\">unknown</strong></td><td></td><td class=\"text-sm-center\"><a class=\"btn btn-sm btn-outline-secondary\" href=\"/drugs/DB07509#BE0000215\">Details</a></td></tr><tr><td><a href=\"/drugs/DB07675\">DB07675</a></td><td><strong>(2S)-2-ETHOXY-3-{4-[2-(10H-PHENOXAZIN-10-YL)ETHOXY]PHENYL}PROPANOIC ACID</strong></td><td>experimental</td><td><strong class=\"badge badge-unknown\">unknown</strong></td><td></td><td class=\"text-sm-center\"><a class=\"btn btn-sm btn-outline-secondary\" href=\"/drugs/DB07675#BE0000215\">Details</a></td></tr><tr><td><a href=\"/drugs/DB07723\">DB07723</a></td><td><strong>3-(5-methoxy-1H-indol-3-yl)propanoic acid</strong></td><td>experimental</td><td><strong class=\"badge badge-unknown\">unknown</strong></td><td></td><td class=\"text-sm-center\"><a class=\"btn btn-sm btn-outline-secondary\" href=\"/drugs/DB07723#BE0000215\">Details</a></td></tr><tr><td><a href=\"/drugs/DB07724\">DB07724</a></td><td><strong>Indeglitazar</strong></td><td>experimental</td><td><strong class=\"badge badge-unknown\">unknown</strong></td><td></td><td class=\"text-sm-center\"><a class=\"btn btn-sm btn-outline-secondary\" href=\"/drugs/DB07724#BE0000215\">Details</a></td></tr><tr><td><a href=\"/drugs/DB07842\">DB07842</a></td><td><strong>(2S)-2-(4-ethylphenoxy)-3-phenylpropanoic acid</strong></td><td>experimental</td><td><strong class=\"badge badge-unknown\">unknown</strong></td><td></td><td class=\"text-sm-center\"><a class=\"btn btn-sm btn-outline-secondary\" href=\"/drugs/DB07842#BE0000215\">Details</a></td></tr><tr><td><a href=\"/drugs/DB07863\">DB07863</a></td><td><strong>2-chloro-5-nitro-N-phenylbenzamide</strong></td><td>experimental</td><td><strong class=\"badge badge-unknown\">unknown</strong></td><td></td><td class=\"text-sm-center\"><a class=\"btn btn-sm btn-outline-secondary\" href=\"/drugs/DB07863#BE0000215\">Details</a></td></tr><tr><td><a href=\"/drugs/DB08121\">DB08121</a></td><td><strong>(2S)-2-(biphenyl-4-yloxy)-3-phenylpropanoic acid</strong></td><td>experimental</td><td><strong class=\"badge badge-unknown\">unknown</strong></td><td></td><td class=\"text-sm-center\"><a class=\"btn btn-sm btn-outline-secondary\" href=\"/drugs/DB08121#BE0000215\">Details</a></td></tr><tr><td><a href=\"/drugs/DB08302\">DB08302</a></td><td><strong>3-[5-(2-nitropent-1-en-1-yl)furan-2-yl]benzoic acid</strong></td><td>experimental</td><td><strong class=\"badge badge-unknown\">unknown</strong></td><td></td><td class=\"text-sm-center\"><a class=\"btn btn-sm btn-outline-secondary\" href=\"/drugs/DB08302#BE0000215\">Details</a></td></tr><tr><td><a href=\"/drugs/DB08402\">DB08402</a></td><td><strong>2-[(2,4-DICHLOROBENZOYL)AMINO]-5-(PYRIMIDIN-2-YLOXY)BENZOIC ACID</strong></td><td>experimental</td><td><strong class=\"badge badge-unknown\">unknown</strong></td><td></td><td class=\"text-sm-center\"><a class=\"btn btn-sm btn-outline-secondary\" href=\"/drugs/DB08402#BE0000215\">Details</a></td></tr><tr><td><a href=\"/drugs/DB08435\">DB08435</a></td><td><strong>(5E,14E)-11-oxoprosta-5,9,12,14-tetraen-1-oic acid</strong></td><td>experimental</td><td><strong class=\"badge badge-unknown\">unknown</strong></td><td></td><td class=\"text-sm-center\"><a class=\"btn btn-sm btn-outline-secondary\" href=\"/drugs/DB08435#BE0000215\">Details</a></td></tr><tr><td><a href=\"/drugs/DB08560\">DB08560</a></td><td><strong>3-FLUORO-N-[1-(4-FLUOROPHENYL)-3-(2-THIENYL)-1H-PYRAZOL-5-YL]BENZENESULFONAMIDE</strong></td><td>experimental</td><td><strong class=\"badge badge-unknown\">unknown</strong></td><td></td><td class=\"text-sm-center\"><a class=\"btn btn-sm btn-outline-secondary\" href=\"/drugs/DB08560#BE0000215\">Details</a></td></tr><tr><td><a href=\"/drugs/DB04270\">DB04270</a></td><td><strong>(S)-3-(4-(2-Carbazol-9-Yl-Ethoxy)-Phenyl)-2-Ethoxy-Propionic Acid</strong></td><td>experimental</td><td><strong class=\"badge badge-unknown\">unknown</strong></td><td></td><td class=\"text-sm-center\"><a class=\"btn btn-sm btn-outline-secondary\" href=\"/drugs/DB04270#BE0000215\">Details</a></td></tr><tr><td><a href=\"/drugs/DB08760\">DB08760</a></td><td><strong>(2S)-2-(4-chlorophenoxy)-3-phenylpropanoic acid</strong></td><td>experimental</td><td><strong class=\"badge badge-unknown\">unknown</strong></td><td></td><td class=\"text-sm-center\"><a class=\"btn btn-sm btn-outline-secondary\" href=\"/drugs/DB08760#BE0000215\">Details</a></td></tr><tr><td><a href=\"/drugs/DB00244\">DB00244</a></td><td><strong>Mesalazine</strong></td><td>approved</td><td><strong class=\"badge badge-yes\">yes</strong></td><td><strong class=\"badge badge-secondary\">agonist</strong></td><td class=\"text-sm-center\"><a class=\"btn btn-sm btn-outline-secondary\" href=\"/drugs/DB00244#BE0000215\">Details</a></td></tr><tr><td><a href=\"/drugs/DB00795\">DB00795</a></td><td><strong>Sulfasalazine</strong></td><td>approved</td><td><strong class=\"badge badge-yes\">yes</strong></td><td><strong class=\"badge badge-secondary\">agonist</strong></td><td class=\"text-sm-center\"><a class=\"btn btn-sm btn-outline-secondary\" href=\"/drugs/DB00795#BE0000215\">Details</a></td></tr><tr><td><a href=\"/drugs/DB01050\">DB01050</a></td><td><strong>Ibuprofen</strong></td><td>approved</td><td><strong class=\"badge badge-unknown\">unknown</strong></td><td><strong class=\"badge badge-secondary\">activator</strong></td><td class=\"text-sm-center\"><a class=\"btn btn-sm btn-outline-secondary\" href=\"/drugs/DB01050#BE0000215\">Details</a></td></tr><tr><td><a href=\"/drugs/DB08915\">DB08915</a></td><td><strong>Aleglitazar</strong></td><td>investigational</td><td><strong class=\"badge badge-yes\">yes</strong></td><td><strong class=\"badge badge-secondary\">agonist</strong></td><td class=\"text-sm-center\"><a class=\"btn btn-sm btn-outline-secondary\" href=\"/drugs/DB08915#BE0000215\">Details</a></td></tr><tr><td><a href=\"/drugs/DB09213\">DB09213</a></td><td><strong>Dexibuprofen</strong></td><td>approved, investigational</td><td><strong class=\"badge badge-unknown\">unknown</strong></td><td><strong class=\"badge badge-secondary\">activator</strong></td><td class=\"text-sm-center\"><a class=\"btn btn-sm btn-outline-secondary\" href=\"/drugs/DB09213#BE0000215\">Details</a></td></tr><tr><td><a href=\"/drugs/DB11133\">DB11133</a></td><td><strong>Omega-3 fatty acids</strong></td><td>approved, nutraceutical</td><td><strong class=\"badge badge-yes\">yes</strong></td><td><strong class=\"badge badge-secondary\">ligand</strong></td><td class=\"text-sm-center\"><a class=\"btn btn-sm btn-outline-secondary\" href=\"/drugs/DB11133#BE0000215\">Details</a></td></tr><tr><td><a href=\"/drugs/DB03756\">DB03756</a></td><td><strong>Doconexent</strong></td><td>approved, investigational</td><td><strong class=\"badge badge-yes\">yes</strong></td><td><strong class=\"badge badge-secondary\">activator</strong></td><td class=\"text-sm-center\"><a class=\"btn btn-sm btn-outline-secondary\" href=\"/drugs/DB03756#BE0000215\">Details</a></td></tr><tr><td><a href=\"/drugs/DB09198\">DB09198</a></td><td><strong>Lobeglitazone</strong></td><td>experimental</td><td><strong class=\"badge badge-yes\">yes</strong></td><td><strong class=\"badge badge-secondary\">activator</strong></td><td class=\"text-sm-center\"><a class=\"btn btn-sm btn-outline-secondary\" href=\"/drugs/DB09198#BE0000215\">Details</a></td></tr><tr><td><a href=\"/drugs/DB09006\">DB09006</a></td><td><strong>Clinofibrate</strong></td><td>experimental</td><td><strong class=\"badge badge-unknown\">unknown</strong></td><td></td><td class=\"text-sm-center\"><a class=\"btn btn-sm btn-outline-secondary\" href=\"/drugs/DB09006#BE0000215\">Details</a></td></tr><tr><td><a href=\"/drugs/DB09201\">DB09201</a></td><td><strong>Ciglitazone</strong></td><td>experimental</td><td><strong class=\"badge badge-yes\">yes</strong></td><td><strong class=\"badge badge-secondary\">agonist</strong></td><td class=\"text-sm-center\"><a class=\"btn btn-sm btn-outline-secondary\" href=\"/drugs/DB09201#BE0000215\">Details</a></td></tr><tr><td><a href=\"/drugs/DB11672\">DB11672</a></td><td><strong>Curcumin</strong></td><td>approved, investigational</td><td><strong class=\"badge badge-unknown\">unknown</strong></td><td></td><td class=\"text-sm-center\"><a class=\"btn btn-sm btn-outline-secondary\" href=\"/drugs/DB11672#BE0000215\">Details</a></td></tr><tr><td><a href=\"/drugs/DB00132\">DB00132</a></td><td><strong>alpha-Linolenic acid</strong></td><td>approved, investigational, nutraceutical</td><td><strong class=\"badge badge-unknown\">unknown</strong></td><td></td><td class=\"text-sm-center\"><a class=\"btn btn-sm btn-outline-secondary\" href=\"/drugs/DB00132#BE0000215\">Details</a></td></tr><tr><td><a href=\"/drugs/DB02746\">DB02746</a></td><td><strong>Phthalic Acid</strong></td><td>experimental</td><td><strong class=\"badge badge-unknown\">unknown</strong></td><td></td><td class=\"text-sm-center\"><a class=\"btn btn-sm btn-outline-secondary\" href=\"/drugs/DB02746#BE0000215\">Details</a></td></tr><tr><td><a href=\"/drugs/DB02709\">DB02709</a></td><td><strong>Resveratrol</strong></td><td>investigational</td><td><strong class=\"badge badge-unknown\">unknown</strong></td><td></td><td class=\"text-sm-center\"><a class=\"btn btn-sm btn-outline-secondary\" href=\"/drugs/DB02709#BE0000215\">Details</a></td></tr><tr><td><a href=\"/drugs/DB01118\">DB01118</a></td><td><strong>Amiodarone</strong></td><td>approved, investigational</td><td><strong class=\"badge badge-unknown\">unknown</strong></td><td><strong class=\"badge badge-secondary\">agonist</strong></td><td class=\"text-sm-center\"><a class=\"btn btn-sm btn-outline-secondary\" href=\"/drugs/DB01118#BE0000215\">Details</a></td></tr><tr><td><a href=\"/drugs/DB00313\">DB00313</a></td><td><strong>Valproic acid</strong></td><td>approved, investigational</td><td><strong class=\"badge badge-unknown\">unknown</strong></td><td></td><td class=\"text-sm-center\"><a class=\"btn btn-sm btn-outline-secondary\" href=\"/drugs/DB00313#BE0000215\">Details</a></td></tr><tr><td><a href=\"/drugs/DB03600\">DB03600</a></td><td><strong>Capric acid</strong></td><td>experimental</td><td><strong class=\"badge badge-unknown\">unknown</strong></td><td><strong class=\"badge badge-secondary\">ligand</strong></td><td class=\"text-sm-center\"><a class=\"btn btn-sm btn-outline-secondary\" href=\"/drugs/DB03600#BE0000215\">Details</a></td></tr><tr><td><a href=\"/drugs/DB04224\">DB04224</a></td><td><strong>Oleic Acid</strong></td><td>approved, investigational, vet_approved</td><td><strong class=\"badge badge-unknown\">unknown</strong></td><td><strong class=\"badge badge-secondary\">ligand</strong></td><td class=\"text-sm-center\"><a class=\"btn btn-sm btn-outline-secondary\" href=\"/drugs/DB04224#BE0000215\">Details</a></td></tr><tr><td><a href=\"/drugs/DB08604\">DB08604</a></td><td><strong>Triclosan</strong></td><td>approved, investigational</td><td><strong class=\"badge badge-unknown\">unknown</strong></td><td></td><td class=\"text-sm-center\"><a class=\"btn btn-sm btn-outline-secondary\" href=\"/drugs/DB08604#BE0000215\">Details</a></td></tr><tr><td><a href=\"/drugs/DB00573\">DB00573</a></td><td><strong>Fenoprofen</strong></td><td>approved</td><td><strong class=\"badge badge-unknown\">unknown</strong></td><td></td><td class=\"text-sm-center\"><a class=\"btn btn-sm btn-outline-secondary\" href=\"/drugs/DB00573#BE0000215\">Details</a></td></tr><tr><td><a href=\"/drugs/DB02266\">DB02266</a></td><td><strong>Flufenamic acid</strong></td><td>approved</td><td><strong class=\"badge badge-unknown\">unknown</strong></td><td><strong class=\"badge badge-secondary\">agonist</strong></td><td class=\"text-sm-center\"><a class=\"btn btn-sm btn-outline-secondary\" href=\"/drugs/DB02266#BE0000215\">Details</a></td></tr><tr><td><a href=\"/drugs/DB09061\">DB09061</a></td><td><strong>Cannabidiol</strong></td><td>approved, investigational</td><td><strong class=\"badge badge-unknown\">unknown</strong></td><td><strong class=\"badge badge-secondary\">activator</strong></td><td class=\"text-sm-center\"><a class=\"btn btn-sm btn-outline-secondary\" href=\"/drugs/DB09061#BE0000215\">Details</a></td></tr><tr><td><a href=\"/drugs/DB13873\">DB13873</a></td><td><strong>Fenofibric acid</strong></td><td>approved</td><td><strong class=\"badge badge-unknown\">unknown</strong></td><td></td><td class=\"text-sm-center\"><a class=\"btn btn-sm btn-outline-secondary\" href=\"/drugs/DB13873#BE0000215\">Details</a></td></tr><tr><td><a href=\"/drugs/DB14011\">DB14011</a></td><td><strong>Nabiximols</strong></td><td>investigational</td><td><strong class=\"badge badge-unknown\">unknown</strong></td><td></td><td class=\"text-sm-center\"><a class=\"btn btn-sm btn-outline-secondary\" href=\"/drugs/DB14011#BE0000215\">Details</a></td></tr><tr><td><a href=\"/drugs/DB14009\">DB14009</a></td><td><strong>Medical Cannabis</strong></td><td>experimental, investigational</td><td><strong class=\"badge badge-unknown\">unknown</strong></td><td></td><td class=\"text-sm-center\"><a class=\"btn btn-sm btn-outline-secondary\" href=\"/drugs/DB14009#BE0000215\">Details</a></td></tr><tr><td><a href=\"/drugs/DB13961\">DB13961</a></td><td><strong>Fish oil</strong></td><td>approved, nutraceutical</td><td><strong class=\"badge badge-unknown\">unknown</strong></td><td></td><td class=\"text-sm-center\"><a class=\"btn btn-sm btn-outline-secondary\" href=\"/drugs/DB13961#BE0000215\">Details</a></td></tr><tr><td><a href=\"/drugs/DB14034\">DB14034</a></td><td><strong>Darglitazone</strong></td><td>experimental</td><td><strong class=\"badge badge-unknown\">unknown</strong></td><td><strong class=\"badge badge-secondary\">agonist</strong></td><td class=\"text-sm-center\"><a class=\"btn btn-sm btn-outline-secondary\" href=\"/drugs/DB14034#BE0000215\">Details</a></td></tr><tr><td><a href=\"/drugs/DB12007\">DB12007</a></td><td><strong>Isoflavone</strong></td><td>experimental</td><td><strong class=\"badge badge-unknown\">unknown</strong></td><td><strong class=\"badge badge-secondary\">agonist</strong></td><td class=\"text-sm-center\"><a class=\"btn btn-sm btn-outline-secondary\" href=\"/drugs/DB12007#BE0000215\">Details</a></td></tr><tr><td><a href=\"/drugs/DB14635\">DB14635</a></td><td><strong>Curcumin sulfate</strong></td><td>experimental</td><td><strong class=\"badge badge-unknown\">unknown</strong></td><td></td><td class=\"text-sm-center\"><a class=\"btn btn-sm btn-outline-secondary\" href=\"/drugs/DB14635#BE0000215\">Details</a></td></tr><tr><td><a href=\"/drugs/DB00845\">DB00845</a></td><td><strong>Clofazimine</strong></td><td>approved, investigational</td><td><strong class=\"badge badge-unknown\">unknown</strong></td><td><strong class=\"badge badge-secondary\">modulator</strong></td><td class=\"text-sm-center\"><a class=\"btn btn-sm btn-outline-secondary\" href=\"/drugs/DB00845#BE0000215\">Details</a></td></tr></tbody></table></dd></dl></div></div></main><footer><div class=\"row p-3 p-sm-4 m-0\"><div class=\"col-md-5 footer-content\"><div class=\"footer-item footer-commercial\"><img src=\"/assets/plus/Data_Pink-68da9b7525141f098e2e0ebcbd888ce950fe6032fd0da3a227c22117cedd7062.png\" style=\"width: 130px; height: 100px;\"/><h2>Interested in using DrugBank in a <strong>commercial product</strong> or <strong>application?</strong></h2><a class=\"btn btn-pink-filled\" href=\"https://www.drugbank.com/\" target=\"_blank\">Visit DrugBank.com <div class=\"drugbank-icon icon-see_more\"><svg class=\"icon\" role=\"img\" title=\"see_more\"> <use xlink:href=\"/assets/plus/icons-3af0be760cdb744eb6fd55a4d4e5ddfbe70059f381e99a13dcfb2dd8c487cc4b.svg#see_more\"> </use></svg></div></a></div><div class=\"footer-item footer-newsletter hidden\" id=\"newsletter-1\"><div class=\"newsletter-header\"><img src=\"/assets/plus/Article_Dark_Pink-17ef3dc892e28e001abbb0ae6bfc47fca8a64cd76af37ec2a80dbce89fe3bc72.png\" style=\"width: 131px; height: 100px;\"/><h2>Stay up-to-date with the <br/><strong>latest from DrugBank!</strong></h2></div><form action=\"https://dev.drugbank.com/contacts\" class=\"form\" id=\"newsletter-form\" method=\"post\"><input class=\"form-control hidden\" id=\"contact_name\" name=\"contact[name]\" type=\"hidden\" value=\"New Subscriber\"/><input class=\"form-control hidden\" id=\"contact_mailing_list\" name=\"contact[mailing_list]\" type=\"hidden\" value=\"yes\"/><input class=\"form-control hidden\" id=\"data_type\" name=\"data_type\" type=\"hidden\" value=\"json\"/><input class=\"form-control hidden\" id=\"contact_address\" name=\"contact[address]\" type=\"hidden\"/><input class=\"form-control hidden\" name=\"contact[return_url]\" type=\"hidden\" value=\"https://go.drugbank.com/#newsletter-3\"/><input class=\"form-control hidden\" name=\"contact[form_url]\" type=\"hidden\" value=\"https://go.drugbank.com/\"/><input class=\"form-control hidden\" id=\"referer\" name=\"contact[referer]\" type=\"hidden\" value=\"\"/><input class=\"form-control hidden\" id=\"type\" name=\"contact[type]\" type=\"hidden\" value=\"newsletter\"/><input class=\"form-control hidden\" id=\"ga_client_id\" name=\"contact[ga_client_id]\" type=\"hidden\"/><div class=\"input-group\"><input class=\"form-control\" id=\"contact_email\" name=\"contact[email]\" placeholder=\"Enter your email\" required=\"\" type=\"text\"/><span class=\"input-group-btn\"><button class=\"btn btn-pink-filled\" id=\"subscribe\" type=\"submit\">Subscribe</button></span></div><div class=\"help-block with-errors\"></div></form></div><div class=\"footer-item footer-newsletter hidden\" id=\"newsletter-3\"><div class=\"newsletter-header\"><img src=\"/assets/plus/Article_Dark_Pink-17ef3dc892e28e001abbb0ae6bfc47fca8a64cd76af37ec2a80dbce89fe3bc72.png\" style=\"width: 131px; height: 100px;\"/><h2><strong>Thank you</strong> <br/>for subscribing!</h2></div></div></div><div class=\"col-md-7 footer-links\"><div class=\"container\"><div class=\"row footer-row\"><div class=\"col-sm-4 footer-col\"><div class=\"footer-header\">About</div><div class=\"footer-list\"><ul class=\"list-unstyled\"><li><a href=\"/about\">About DrugBank Online</a></li><li><a href=\"https://blog.drugbank.com/\" target=\"_blank\">Blog</a></li><li><a href=\"http://www.wishartlab.com\" target=\"_blank\">Wishart Research Group</a></li><li><a href=\"https://www.drugbank.com/about/careers\">Careers</a></li><li><a href=\"/legal/terms_of_use\">Terms of Use</a></li><li><a href=\"/legal/privacy_policy\">Privacy Policy</a></li></ul></div></div><div class=\"col-sm-4 footer-col\"><div class=\"footer-header\">Support</div><div class=\"footer-list\"><ul class=\"list-unstyled\"><li><a href=\"https://dev.drugbank.com/guides/index\" target=\"_blank\">Help Center</a></li><li><a href=\"https://dev.drugbank.com/guides/faqs\" target=\"_blank\">DrugBank Online FAQs</a></li><li><a href=\"/contact\">Contact Support</a></li></ul></div></div><div class=\"col-sm-4 footer-col\"><div class=\"footer-header\"><a href=\"https://www.drugbank.com/\">Products</a></div><div class=\"footer-list\"><ul class=\"list-unstyled\"><li><a href=\"https://www.drugbank.com/datasets\" target=\"_blank\">Commercial Drug Datasets</a></li><li><a href=\"https://www.drugbank.com/academic_research\" target=\"_blank\">Academic Drug Datasets</a></li><li><a href=\"https://www.drugbank.com/clinical\" target=\"_blank\">Clinical API</a></li><li><a href=\"https://www.drugbank.com/contact/sales\" target=\"_blank\">Contact Sales</a></li></ul></div></div></div><div class=\"row footer-row\"><div class=\"col-sm-12\"><div class=\"social-media\"><a class=\"social-media-link\" href=\"https://www.linkedin.com/company/drugbank/\"><div class=\"drugbank-icon icon-linkedin\"><svg class=\"icon\" role=\"img\" title=\"linkedin\">\n",
       "<use xlink:href=\"/assets/icons-539be351b538129271b9ee92cb0ebbd16efad4fccf6e2fe95aa6234f1e7417fa.svg#linkedin\"></use>\n",
       "</svg>\n",
       "</div></a><a class=\"social-media-link\" href=\"https://twitter.com/DrugBankDB\"><div class=\"drugbank-icon icon-twitter\"><svg class=\"icon\" role=\"img\" title=\"twitter\">\n",
       "<use xlink:href=\"/assets/icons-539be351b538129271b9ee92cb0ebbd16efad4fccf6e2fe95aa6234f1e7417fa.svg#twitter\"></use>\n",
       "</svg>\n",
       "</div></a><a class=\"social-media-link\" href=\"https://www.facebook.com/DrugBankDatabase\"><div class=\"drugbank-icon icon-facebook\"><svg class=\"icon\" role=\"img\" title=\"facebook\">\n",
       "<use xlink:href=\"/assets/icons-539be351b538129271b9ee92cb0ebbd16efad4fccf6e2fe95aa6234f1e7417fa.svg#facebook\"></use>\n",
       "</svg>\n",
       "</div></a></div><h6>Website design by Educe Design &amp; Innovation Inc.</h6></div></div></div></div></div></footer><script crossorigin=\"anonymous\" data-cf-beacon='{\"rayId\":\"718021c6182c91a5\",\"token\":\"e28ec36f07f74c1ca13c169ca4430981\",\"version\":\"2021.12.0\",\"si\":100}' defer=\"\" integrity=\"sha512-Gi7xpJR8tSkrpF7aordPZQlW2DLtzUlZcumS8dMQjwDHEnw9I7ZLyiOj/6tZStRBGtGgN6ceN6cMH8z7etPGlw==\" src=\"https://static.cloudflareinsights.com/beacon.min.js/v652eace1692a40cfa3763df669d7439c1639079717194\"></script>\n",
       "</body><script data-turbolinks-track=\"true\" media=\"all\" src=\"/assets/analytics-1b5960c76af2e5f1a83c45e21ee367baf13121e0a2d42380a71abadf0edaa402.js\"></script><script async=\"\" defer=\"\" id=\"hs-script-loader\" src=\"//js.hs-scripts.com/2224137.js\" type=\"text/javascript\"></script></html>"
      ]
     },
     "execution_count": 58,
     "metadata": {},
     "output_type": "execute_result"
    }
   ],
   "source": [
    "soup_baru = BeautifulSoup(data_baru,\"html.parser\")\n",
    "soup_baru"
   ]
  },
  {
   "cell_type": "code",
   "execution_count": null,
   "id": "31e8a174",
   "metadata": {},
   "outputs": [],
   "source": [
    "href=\"https://pubchem.ncbi.nlm.nih.gov/summary/summary.cgi?cid=5280934\""
   ]
  },
  {
   "cell_type": "code",
   "execution_count": 53,
   "id": "fe32db62",
   "metadata": {},
   "outputs": [
    {
     "data": {
      "text/plain": [
       "[]"
      ]
     },
     "execution_count": 53,
     "metadata": {},
     "output_type": "execute_result"
    }
   ],
   "source": [
    "soup_baru.find_all(href=re.compile(\"https://pubchem.ncbi.nlm.nih.gov/summary/summary\"))"
   ]
  },
  {
   "cell_type": "code",
   "execution_count": 54,
   "id": "af9773ec",
   "metadata": {},
   "outputs": [
    {
     "ename": "SyntaxError",
     "evalue": "invalid syntax (447201694.py, line 1)",
     "output_type": "error",
     "traceback": [
      "\u001b[0;36m  Input \u001b[0;32mIn [54]\u001b[0;36m\u001b[0m\n\u001b[0;31m    a href=\"/drugs/DB00132\">DB00132<\u001b[0m\n\u001b[0m      ^\u001b[0m\n\u001b[0;31mSyntaxError\u001b[0m\u001b[0;31m:\u001b[0m invalid syntax\n"
     ]
    }
   ],
   "source": [
    "a href=\"/drugs/DB00132\">DB00132<"
   ]
  },
  {
   "cell_type": "code",
   "execution_count": null,
   "id": "3f97262b",
   "metadata": {},
   "outputs": [],
   "source": []
  },
  {
   "cell_type": "code",
   "execution_count": null,
   "id": "295a9eb5",
   "metadata": {},
   "outputs": [],
   "source": []
  },
  {
   "cell_type": "code",
   "execution_count": null,
   "id": "bde94657",
   "metadata": {},
   "outputs": [],
   "source": []
  }
 ],
 "metadata": {
  "kernelspec": {
   "display_name": "Python 3 (ipykernel)",
   "language": "python",
   "name": "python3"
  },
  "language_info": {
   "codemirror_mode": {
    "name": "ipython",
    "version": 3
   },
   "file_extension": ".py",
   "mimetype": "text/x-python",
   "name": "python",
   "nbconvert_exporter": "python",
   "pygments_lexer": "ipython3",
   "version": "3.9.12"
  }
 },
 "nbformat": 4,
 "nbformat_minor": 5
}
