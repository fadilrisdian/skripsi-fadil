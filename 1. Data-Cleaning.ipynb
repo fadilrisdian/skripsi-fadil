{
 "cells": [
  {
   "cell_type": "code",
   "execution_count": 2,
   "id": "815b9f85",
   "metadata": {},
   "outputs": [],
   "source": [
    "import pandas as pd"
   ]
  },
  {
   "cell_type": "markdown",
   "id": "5e61ab7a",
   "metadata": {},
   "source": [
    "# Pubchem"
   ]
  },
  {
   "cell_type": "code",
   "execution_count": 29,
   "id": "9952048f",
   "metadata": {},
   "outputs": [],
   "source": [
    "#fungsi pra proses data interaksi senyawa protein dari pubchem\n",
    "def read_file_pc(filename):\n",
    "    df = pd.read_csv(filename)\n",
    "    \n",
    "    jumlah_sebelum = 0\n",
    "    jumlah_sapien_saja = 0\n",
    "    jumlah_sesudah = 0\n",
    "    \n",
    "    jumlah_sebelum = jumlah_sebelum + df.shape[0]\n",
    "    \n",
    "    #ambil baris yang berkaitan dengan Homo sapiens(manusia) saja\n",
    "    df = df[df['taxname'] == 'Homo sapiens']\n",
    "    jumlah_sapien_saja = jumlah_sapien_saja + df.shape[0]\n",
    "    #ambil kolom 'cid' dan 'genessymbol'\n",
    "    df = df[['cid', 'genesymbol']]\n",
    "    #ubah nama untuk standarisasi\n",
    "    df = df.rename(columns={'cid': 'PubChem CID'})\n",
    "    df = df.rename(columns={'genesymbol': 'Protein Target'})\n",
    "    #hapus duplikasi data\n",
    "    df = df.drop_duplicates(keep='first')\n",
    "    \n",
    "    jumlah_sesudah = jumlah_sesudah + df.shape[0]\n",
    "\n",
    "    \n",
    "    return [df, jumlah_sebelum, jumlah_sesudah, jumlah_sapien_saja]"
   ]
  },
  {
   "cell_type": "code",
   "execution_count": 58,
   "id": "df99e0f9",
   "metadata": {},
   "outputs": [
    {
     "name": "stdout",
     "output_type": "stream",
     "text": [
      "Data INS berhasil dibuat! \n",
      "Jumlah data INS sebelum diproses: 826\n",
      "Jumlah data INS setelah memilih sapiens: 430\n",
      "Jumlah data INS selesai diproses: 244\n",
      "--------------------------------------------------------\n",
      "Data PPARG berhasil dibuat! \n",
      "Jumlah data PPARG sebelum diproses: 2473\n",
      "Jumlah data PPARG setelah memilih sapiens: 1022\n",
      "Jumlah data PPARG selesai diproses: 512\n",
      "--------------------------------------------------------\n",
      "Data PPARGC1A berhasil dibuat! \n",
      "Jumlah data PPARGC1A sebelum diproses: 793\n",
      "Jumlah data PPARGC1A setelah memilih sapiens: 254\n",
      "Jumlah data PPARGC1A selesai diproses: 186\n",
      "--------------------------------------------------------\n",
      "Data LEP berhasil dibuat! \n",
      "Jumlah data LEP sebelum diproses: 645\n",
      "Jumlah data LEP setelah memilih sapiens: 160\n",
      "Jumlah data LEP selesai diproses: 121\n",
      "--------------------------------------------------------\n",
      "Data LPL berhasil dibuat! \n",
      "Jumlah data LPL sebelum diproses: 617\n",
      "Jumlah data LPL setelah memilih sapiens: 161\n",
      "Jumlah data LPL selesai diproses: 101\n",
      "--------------------------------------------------------\n",
      "Data EP300 berhasil dibuat! \n",
      "Jumlah data EP300 sebelum diproses: 289\n",
      "Jumlah data EP300 setelah memilih sapiens: 157\n",
      "Jumlah data EP300 selesai diproses: 111\n",
      "--------------------------------------------------------\n",
      "Data B3GNTL1 berhasil dibuat! \n",
      "Jumlah data B3GNTL1 sebelum diproses: 58\n",
      "Jumlah data B3GNTL1 setelah memilih sapiens: 25\n",
      "Jumlah data B3GNTL1 selesai diproses: 20\n",
      "--------------------------------------------------------\n",
      "Jumlah total data pubchem sebelum: 5701\n",
      "Jumlah total data pubchem memilih sapiens: 2209\n",
      "Jumlah total data pubchem sesudah: 1295\n"
     ]
    }
   ],
   "source": [
    "#daftar protein signifikan\n",
    "protein = ['INS', 'PPARG', 'PPARGC1A', 'LEP', 'LPL', 'EP300', 'B3GNTL1']\n",
    "\n",
    "total_PC_sebelum = 0\n",
    "total_PC_sapiens = 0\n",
    "total_PC_sesudah = 0\n",
    "\n",
    "for x in protein:\n",
    "    location = 'dataset/pubchem/' + x +'_PC.csv'\n",
    "    \n",
    "    #fungsi praproses\n",
    "    result = read_file_pc(location)\n",
    "    \n",
    "    total_PC_sebelum = total_PC_sebelum + result[1]\n",
    "    total_PC_sapiens = total_PC_sapiens + result[3]\n",
    "    total_PC_sesudah = total_PC_sesudah + result[2]\n",
    "    \n",
    "    \n",
    "    result[0].to_csv('dataset/pubchem/'+ x + '_PC_cleaned.csv', index=False)\n",
    "    print(\"Data \"+ x + \" berhasil dibuat! \")\n",
    "    print(\"Jumlah data \"+ x + \" sebelum diproses: \" + str(result[1]))\n",
    "    print(\"Jumlah data \"+ x + \" setelah memilih sapiens: \" + str(result[3]))\n",
    "    print(\"Jumlah data \"+ x + \" selesai diproses: \" + str(result[2]))\n",
    "    print(\"--------------------------------------------------------\")\n",
    "    \n",
    "print(\"Jumlah total data pubchem sebelum: \" + str(total_PC_sebelum))\n",
    "print(\"Jumlah total data pubchem memilih sapiens: \" + str(total_PC_sapiens))\n",
    "print(\"Jumlah total data pubchem sesudah: \" + str(total_PC_sesudah))"
   ]
  },
  {
   "cell_type": "markdown",
   "id": "1589d05c",
   "metadata": {},
   "source": [
    "# BindingDB"
   ]
  },
  {
   "cell_type": "code",
   "execution_count": 46,
   "id": "0d69a9ef",
   "metadata": {},
   "outputs": [
    {
     "name": "stdout",
     "output_type": "stream",
     "text": [
      "Jumlah baris sebelum : 6890\n",
      "Jumlah baris sesudah : 4477\n"
     ]
    }
   ],
   "source": [
    "#PPARG\n",
    "df_PPARG = pd.read_table('dataset/BindingDB/PPARG.tsv')\n",
    "data_PPARG_sebelum = df_PPARG.shape[0]\n",
    "print('Jumlah baris sebelum : ' + str(data_PPARG_sebelum))\n",
    "\n",
    "df_PPARG = df_PPARG[['PubChem CID', 'UniProt (SwissProt) Recommended Name of Target Chain']]\n",
    "df_PPARG = df_PPARG.rename(columns={'UniProt (SwissProt) Recommended Name of Target Chain': 'Protein Target'})\n",
    "#change value \n",
    "df_PPARG['Protein Target'] = df_PPARG['Protein Target'].replace(['Peroxisome proliferator-activated receptor gamma'],'PPARG')\n",
    "# Remove all duplicate rows \n",
    "df_PPARG = df_PPARG.drop_duplicates(keep='first')\n",
    "data_PPARG_sesudah = df_PPARG.shape[0]\n",
    "print('Jumlah baris sesudah : ' + str(data_PPARG_sesudah))"
   ]
  },
  {
   "cell_type": "code",
   "execution_count": 47,
   "id": "16df2c29",
   "metadata": {},
   "outputs": [
    {
     "name": "stdout",
     "output_type": "stream",
     "text": [
      "Jumlah baris sebelum : 549\n",
      "Jumlah baris sesudah : 319\n"
     ]
    }
   ],
   "source": [
    "#EP300\n",
    "df_EP300 = pd.read_table('dataset/BindingDB/EP300.tsv')\n",
    "data_EP300_sebelum = df_EP300.shape[0]\n",
    "print('Jumlah baris sebelum : ' + str(data_EP300_sebelum))\n",
    "\n",
    "df_EP300 = df_EP300[['PubChem CID', 'UniProt (SwissProt) Entry Name of Target Chain']]\n",
    "df_EP300 = df_EP300.rename(columns={'UniProt (SwissProt) Entry Name of Target Chain': 'Protein Target'})\n",
    "df_EP300['Protein Target'] = df_EP300['Protein Target'].replace(['EP300_HUMAN'],'EP300')\n",
    "# selecting rows based which is contains EP300_HUMAN\n",
    "df_EP300 = df_EP300.loc[df_EP300['Protein Target'].isin(['EP300'])]\n",
    "# Remove all duplicate rows \n",
    "df_EP300 = df_EP300.drop_duplicates(keep='first')\n",
    "\n",
    "data_EP300_sesudah = df_EP300.shape[0]\n",
    "print('Jumlah baris sesudah : ' + str(data_EP300_sesudah))\n"
   ]
  },
  {
   "cell_type": "code",
   "execution_count": 48,
   "id": "00ae56b9",
   "metadata": {},
   "outputs": [
    {
     "name": "stdout",
     "output_type": "stream",
     "text": [
      "Jumlah baris sebelum : 75\n",
      "Jumlah baris sebelum : 51\n"
     ]
    }
   ],
   "source": [
    "#LPL\n",
    "df_LPL = pd.read_table('dataset/BindingDB/LPL.tsv')\n",
    "data_LPL_sebelum = df_LPL.shape[0]\n",
    "print('Jumlah baris sebelum : ' + str(data_LPL_sebelum))\n",
    "\n",
    "df_LPL = df_LPL[['PubChem CID', 'UniProt (SwissProt) Recommended Name of Target Chain']]\n",
    "df_LPL = df_LPL.rename(columns={'UniProt (SwissProt) Recommended Name of Target Chain': 'Protein Target'})\n",
    "#change value \n",
    "df_LPL['Protein Target'] = df_LPL['Protein Target'].replace(['Lipoprotein lipase'],'LPL')\n",
    "# Remove all duplicate rows \n",
    "df_LPL = df_LPL.drop_duplicates(keep='first')\n",
    "\n",
    "data_LPL_sesudah = df_LPL.shape[0]\n",
    "print('Jumlah baris sebelum : ' + str(data_LPL_sesudah))"
   ]
  },
  {
   "cell_type": "code",
   "execution_count": 49,
   "id": "98f497d5",
   "metadata": {},
   "outputs": [
    {
     "name": "stdout",
     "output_type": "stream",
     "text": [
      "Jumlah total data BindingDB sebelum: 7514\n",
      "Jumlah total data BindingDB sesudah: 4847\n"
     ]
    }
   ],
   "source": [
    "total_BDB_sebelum = data_PPARG_sebelum + data_EP300_sebelum + data_LPL_sebelum\n",
    "total_BDB_sesudah = data_PPARG_sesudah + data_EP300_sesudah + data_LPL_sesudah\n",
    "\n",
    "print(\"Jumlah total data BindingDB sebelum: \" + str(total_BDB_sebelum))\n",
    "print(\"Jumlah total data BindingDB sesudah: \" + str(total_BDB_sesudah))"
   ]
  },
  {
   "cell_type": "code",
   "execution_count": 50,
   "id": "2a42a013",
   "metadata": {},
   "outputs": [],
   "source": [
    "#export\n",
    "protein_db = ['PPARG', 'EP300', 'LPL']\n",
    "\n",
    "df_PPARG.to_csv('dataset/BindingDB/'+ protein_db[0] + '_BD_cleaned.csv', index=False)\n",
    "df_EP300.to_csv('dataset/BindingDB/'+ protein_db[1] + '_BD_cleaned.csv', index=False)\n",
    "df_LPL.to_csv('dataset/BindingDB/'+ protein_db[2] + '_BD_cleaned.csv', index=False)"
   ]
  },
  {
   "cell_type": "markdown",
   "id": "6176a2d4",
   "metadata": {},
   "source": [
    "# Merge Dataframe"
   ]
  },
  {
   "cell_type": "code",
   "execution_count": 51,
   "id": "371da985",
   "metadata": {},
   "outputs": [],
   "source": [
    "#load pubchem data\n",
    "df_PPARG_PC= pd.read_csv('dataset/pubchem/PPARG_PC_cleaned.csv')\n",
    "df_EP300_PC= pd.read_csv('dataset/pubchem/EP300_PC_cleaned.csv')\n",
    "df_LPL_PC= pd.read_csv('dataset/pubchem/LPL_PC_cleaned.csv')\n",
    "\n",
    "df_PPARGC1A_PC= pd.read_csv('dataset/pubchem/PPARGC1A_PC_cleaned.csv')\n",
    "df_INS_PC= pd.read_csv('dataset/pubchem/INS_PC_cleaned.csv')\n",
    "df_LEP_PC= pd.read_csv('dataset/pubchem/LEP_PC_cleaned.csv')\n",
    "df_B3GNTL1_PC= pd.read_csv('dataset/pubchem/B3GNTL1_PC_cleaned.csv')\n",
    "\n",
    "#load bindingDB data\n",
    "df_PPARG_DB = pd.read_csv('dataset/BindingDB/PPARG_BD_cleaned.csv')\n",
    "df_EP300_DB = pd.read_csv('dataset/BindingDB/EP300_BD_cleaned.csv')\n",
    "df_LPL_DB = pd.read_csv('dataset/BindingDB/LPL_BD_cleaned.csv')"
   ]
  },
  {
   "cell_type": "code",
   "execution_count": 52,
   "id": "2ccdf700",
   "metadata": {},
   "outputs": [
    {
     "name": "stdout",
     "output_type": "stream",
     "text": [
      "Jumlah baris sebelum : 4989\n",
      "Jumlah baris sesudah : 4942\n"
     ]
    }
   ],
   "source": [
    "#gabung yang sama PPARG & hapus duplikasi\n",
    "df_PPARG_final = pd.concat([df_PPARG_PC, df_PPARG_DB], axis=0)\n",
    "print('Jumlah baris sebelum : ' + str(df_PPARG_final.shape[0]))\n",
    "df_PPARG_final = df_PPARG_final.drop_duplicates(keep='first')\n",
    "print('Jumlah baris sesudah : ' + str(df_PPARG_final.shape[0]))\n"
   ]
  },
  {
   "cell_type": "code",
   "execution_count": 53,
   "id": "cfb6d8bb",
   "metadata": {},
   "outputs": [
    {
     "name": "stdout",
     "output_type": "stream",
     "text": [
      "Jumlah baris sebelum : 430\n",
      "Jumlah baris sesudah : 428\n"
     ]
    }
   ],
   "source": [
    "#gabung yang sama EP300 & hapus duplikasi\n",
    "df_EP300_final = pd.concat([df_EP300_PC, df_EP300_DB], axis=0)\n",
    "print('Jumlah baris sebelum : ' + str(df_EP300_final.shape[0]))\n",
    "df_EP300_final = df_EP300_final.drop_duplicates(keep='first')\n",
    "print('Jumlah baris sesudah : ' + str(df_EP300_final.shape[0]))\n"
   ]
  },
  {
   "cell_type": "code",
   "execution_count": 54,
   "id": "de27ce73",
   "metadata": {},
   "outputs": [
    {
     "name": "stdout",
     "output_type": "stream",
     "text": [
      "Jumlah baris sebelum : 152\n",
      "Jumlah baris sesudah : 151\n"
     ]
    }
   ],
   "source": [
    "#gabung yang sama LPL & hapus duplikasi\n",
    "df_LPL_final = pd.concat([df_LPL_PC, df_LPL_DB], axis=0)\n",
    "print('Jumlah baris sebelum : ' + str(df_LPL_final.shape[0]))\n",
    "df_LPL_final = df_LPL_final.drop_duplicates(keep='first')\n",
    "print('Jumlah baris sesudah : ' + str(df_LPL_final.shape[0]))\n"
   ]
  },
  {
   "cell_type": "code",
   "execution_count": 55,
   "id": "3e0b59d7",
   "metadata": {
    "collapsed": true
   },
   "outputs": [
    {
     "data": {
      "text/html": [
       "<div>\n",
       "<style scoped>\n",
       "    .dataframe tbody tr th:only-of-type {\n",
       "        vertical-align: middle;\n",
       "    }\n",
       "\n",
       "    .dataframe tbody tr th {\n",
       "        vertical-align: top;\n",
       "    }\n",
       "\n",
       "    .dataframe thead th {\n",
       "        text-align: right;\n",
       "    }\n",
       "</style>\n",
       "<table border=\"1\" class=\"dataframe\">\n",
       "  <thead>\n",
       "    <tr style=\"text-align: right;\">\n",
       "      <th></th>\n",
       "      <th>PubChem CID</th>\n",
       "      <th>Protein Target</th>\n",
       "    </tr>\n",
       "  </thead>\n",
       "  <tbody>\n",
       "    <tr>\n",
       "      <th>0</th>\n",
       "      <td>261</td>\n",
       "      <td>PPARGC1A</td>\n",
       "    </tr>\n",
       "    <tr>\n",
       "      <th>1</th>\n",
       "      <td>263</td>\n",
       "      <td>PPARGC1A</td>\n",
       "    </tr>\n",
       "    <tr>\n",
       "      <th>2</th>\n",
       "      <td>305</td>\n",
       "      <td>PPARGC1A</td>\n",
       "    </tr>\n",
       "    <tr>\n",
       "      <th>3</th>\n",
       "      <td>525</td>\n",
       "      <td>PPARGC1A</td>\n",
       "    </tr>\n",
       "    <tr>\n",
       "      <th>4</th>\n",
       "      <td>586</td>\n",
       "      <td>PPARGC1A</td>\n",
       "    </tr>\n",
       "    <tr>\n",
       "      <th>...</th>\n",
       "      <td>...</td>\n",
       "      <td>...</td>\n",
       "    </tr>\n",
       "    <tr>\n",
       "      <th>45</th>\n",
       "      <td>62709758</td>\n",
       "      <td>LPL</td>\n",
       "    </tr>\n",
       "    <tr>\n",
       "      <th>46</th>\n",
       "      <td>71744953</td>\n",
       "      <td>LPL</td>\n",
       "    </tr>\n",
       "    <tr>\n",
       "      <th>47</th>\n",
       "      <td>54704622</td>\n",
       "      <td>LPL</td>\n",
       "    </tr>\n",
       "    <tr>\n",
       "      <th>48</th>\n",
       "      <td>90342616</td>\n",
       "      <td>LPL</td>\n",
       "    </tr>\n",
       "    <tr>\n",
       "      <th>50</th>\n",
       "      <td>89922162</td>\n",
       "      <td>LPL</td>\n",
       "    </tr>\n",
       "  </tbody>\n",
       "</table>\n",
       "<p>6092 rows × 2 columns</p>\n",
       "</div>"
      ],
      "text/plain": [
       "    PubChem CID Protein Target\n",
       "0           261       PPARGC1A\n",
       "1           263       PPARGC1A\n",
       "2           305       PPARGC1A\n",
       "3           525       PPARGC1A\n",
       "4           586       PPARGC1A\n",
       "..          ...            ...\n",
       "45     62709758            LPL\n",
       "46     71744953            LPL\n",
       "47     54704622            LPL\n",
       "48     90342616            LPL\n",
       "50     89922162            LPL\n",
       "\n",
       "[6092 rows x 2 columns]"
      ]
     },
     "execution_count": 55,
     "metadata": {},
     "output_type": "execute_result"
    }
   ],
   "source": [
    "#gabung semua data\n",
    "merge = [df_PPARGC1A_PC, df_INS_PC, df_LEP_PC, df_B3GNTL1_PC, df_PPARG_final, df_EP300_final, df_LPL_final]\n",
    "df = pd.concat(merge, axis=0)\n",
    "df"
   ]
  },
  {
   "cell_type": "code",
   "execution_count": 56,
   "id": "51bcec0c",
   "metadata": {},
   "outputs": [
    {
     "name": "stdout",
     "output_type": "stream",
     "text": [
      "6092\n"
     ]
    }
   ],
   "source": [
    "print(df.shape[0])"
   ]
  },
  {
   "cell_type": "code",
   "execution_count": 128,
   "id": "f9495905",
   "metadata": {},
   "outputs": [
    {
     "data": {
      "text/plain": [
       "5650"
      ]
     },
     "execution_count": 128,
     "metadata": {},
     "output_type": "execute_result"
    }
   ],
   "source": [
    "len(df['PubChem CID'].unique())\n",
    "#hasil menunjukkan bahwa terdapat protein yang berkaitan lebih dari 1 senyawa \n",
    "#dari 6092 ke 5650"
   ]
  },
  {
   "cell_type": "code",
   "execution_count": 129,
   "id": "0aa072bc",
   "metadata": {},
   "outputs": [],
   "source": [
    "#export data final\n",
    "df.to_csv('dataset/df_final.csv', index=False)"
   ]
  }
 ],
 "metadata": {
  "kernelspec": {
   "display_name": "Python 3 (ipykernel)",
   "language": "python",
   "name": "python3"
  },
  "language_info": {
   "codemirror_mode": {
    "name": "ipython",
    "version": 3
   },
   "file_extension": ".py",
   "mimetype": "text/x-python",
   "name": "python",
   "nbconvert_exporter": "python",
   "pygments_lexer": "ipython3",
   "version": "3.10.4"
  }
 },
 "nbformat": 4,
 "nbformat_minor": 5
}
