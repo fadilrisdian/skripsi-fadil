{
 "cells": [
  {
   "cell_type": "code",
   "execution_count": 4,
   "id": "815b9f85",
   "metadata": {},
   "outputs": [],
   "source": [
    "import pandas as pd\n",
    "import numpy as np\n",
    "import pubchempy as pc\n",
    "import time"
   ]
  },
  {
   "cell_type": "markdown",
   "id": "5e61ab7a",
   "metadata": {},
   "source": [
    "# Pubchem"
   ]
  },
  {
   "cell_type": "code",
   "execution_count": 96,
   "id": "9952048f",
   "metadata": {},
   "outputs": [],
   "source": [
    "def read_file_pc(filename):\n",
    "    df = pd.read_csv(filename)\n",
    "    #ambil baris yang berkaitan dengan Homo sapiens(manusia) saja\n",
    "    df = df[df['taxname'] == 'Homo sapiens']\n",
    "    #ambil kolom 'cid' dan 'genessymbol'\n",
    "    df = df[['cid', 'genesymbol']]\n",
    "    #ubah nama untuk standarisasi\n",
    "    df = df.rename(columns={'cid': 'PubChem CID'})\n",
    "    df = df.rename(columns={'genesymbol': 'Protein Target'})\n",
    "    #hapus duplikasi data\n",
    "    df = df.drop_duplicates(keep='first')\n",
    "    \n",
    "    return df"
   ]
  },
  {
   "cell_type": "code",
   "execution_count": 97,
   "id": "123e6503",
   "metadata": {},
   "outputs": [
    {
     "name": "stdout",
     "output_type": "stream",
     "text": [
      "data INS berhasil dibuat\n",
      "data PPARG berhasil dibuat\n",
      "data PPARGC1A berhasil dibuat\n",
      "data LEP berhasil dibuat\n",
      "data LPL berhasil dibuat\n",
      "data EP300 berhasil dibuat\n",
      "data B3GNTL1 berhasil dibuat\n"
     ]
    }
   ],
   "source": [
    "protein = ['INS', 'PPARG', 'PPARGC1A', 'LEP', 'LPL', 'EP300', 'B3GNTL1']\n",
    "\n",
    "for x in protein:\n",
    "    location = 'dataset/pubchem/' + x +'_PC.csv'\n",
    "    result = read_file_pc(location)\n",
    "    result.to_csv('dataset/pubchem/'+ x + '_PC_final.csv', index=False)\n",
    "    print(\"data \"+ x + \" berhasil dibuat\")"
   ]
  },
  {
   "cell_type": "markdown",
   "id": "9ba5a1c8",
   "metadata": {},
   "source": [
    "# BindingDB"
   ]
  },
  {
   "cell_type": "code",
   "execution_count": null,
   "id": "fbe9fd4a",
   "metadata": {},
   "outputs": [],
   "source": [
    "#PPARG\n",
    "df_PPARG = pd.read_table('dataset/BindingDB/PPARG.tsv')\n",
    "df_PPARG = df_PPARG[['PubChem CID', 'UniProt (SwissProt) Recommended Name of Target Chain']]\n",
    "df_PPARG = df_PPARG.rename(columns={'UniProt (SwissProt) Recommended Name of Target Chain': 'Protein Target'})\n",
    "#change value \n",
    "df_PPARG['Protein Target'] = df_PPARG['Protein Target'].replace(['Peroxisome proliferator-activated receptor gamma'],'PPARG')\n",
    "# Remove all duplicate rows \n",
    "df_PPARG = df_PPARG.drop_duplicates(keep='first')\n",
    "df_PPARG"
   ]
  },
  {
   "cell_type": "code",
   "execution_count": null,
   "id": "ed968dfa",
   "metadata": {},
   "outputs": [],
   "source": [
    "#EP300\n",
    "df_EP300 = pd.read_table('dataset/BindingDB/EP300.tsv')\n",
    "df_EP300 = df_EP300[['PubChem CID', 'UniProt (SwissProt) Entry Name of Target Chain']]\n",
    "df_EP300 = df_EP300.rename(columns={'UniProt (SwissProt) Entry Name of Target Chain': 'Protein Target'})\n",
    "# selecting rows based which is contains EP300_HUMAN\n",
    "df_EP300 = df_EP300.loc[df_EP300['Protein Target'].isin(['EP300_HUMAN'])]\n",
    "# Remove all duplicate rows \n",
    "df_EP300 = df_EP300.drop_duplicates(keep='first')\n",
    "#change value \n",
    "df_EP300['Protein Target'] = df_EP300['Protein Target'].replace(['EP300_HUMAN'],'EP300')\n",
    "df_EP300"
   ]
  },
  {
   "cell_type": "code",
   "execution_count": null,
   "id": "aeb9e87e",
   "metadata": {},
   "outputs": [],
   "source": [
    "#LP:\n",
    "df_LPL = pd.read_table('dataset/BindingDB/LEP.tsv')\n",
    "df_LPL = df_LPL[['PubChem CID', 'UniProt (SwissProt) Recommended Name of Target Chain']]\n",
    "df_LPL = df_LPL.rename(columns={'UniProt (SwissProt) Recommended Name of Target Chain': 'Protein Target'})\n",
    "#change value \n",
    "df_LPL['Protein Target'] = df_LPL['Protein Target'].replace(['Lipoprotein lipase'],'LPL')\n",
    "# Remove all duplicate rows \n",
    "df_LPL = df_LPL.drop_duplicates(keep='first')\n",
    "df_LPL"
   ]
  },
  {
   "cell_type": "code",
   "execution_count": null,
   "id": "fb0caf48",
   "metadata": {},
   "outputs": [],
   "source": [
    "# df_LPL['PubChem CID'].value_counts()"
   ]
  },
  {
   "cell_type": "code",
   "execution_count": 88,
   "id": "f18b1519",
   "metadata": {},
   "outputs": [],
   "source": [
    "#export\n",
    "protein_db = ['PPARG', 'EP300', 'LPL']\n",
    "\n",
    "df_PPARG.to_csv('dataset/BindingDB/'+ protein_db[0] + '_BD_final.csv', index=False)\n",
    "df_EP300.to_csv('dataset/BindingDB/'+ protein_db[1] + '_BD_final.csv', index=False)\n",
    "df_LPL.to_csv('dataset/BindingDB/'+ protein_db[2] + '_BD_final.csv', index=False)"
   ]
  },
  {
   "cell_type": "markdown",
   "id": "02259152",
   "metadata": {},
   "source": [
    "# Merge Dataframe"
   ]
  },
  {
   "cell_type": "code",
   "execution_count": 100,
   "id": "94c5539c",
   "metadata": {},
   "outputs": [],
   "source": [
    "#load pubchem data\n",
    "df_PPARG_PC= pd.read_csv('dataset/pubchem/PPARG_PC_final.csv')\n",
    "df_EP300_PC= pd.read_csv('dataset/pubchem/EP300_PC_final.csv')\n",
    "df_LPL_PC= pd.read_csv('dataset/pubchem/LPL_PC_final.csv')\n",
    "\n",
    "df_PPARGC1A_PC= pd.read_csv('dataset/pubchem/PPARGC1A_PC_final.csv')\n",
    "df_INS_PC= pd.read_csv('dataset/pubchem/INS_PC_final.csv')\n",
    "df_LEP_PC= pd.read_csv('dataset/pubchem/LEP_PC_final.csv')\n",
    "df_B3GNTL1_PC= pd.read_csv('dataset/pubchem/B3GNTL1_PC_final.csv')\n",
    "\n",
    "#load bindingDB data\n",
    "df_PPARG_DB = pd.read_csv('dataset/BindingDB/PPARG_BD_final.csv')\n",
    "df_EP300_DB = pd.read_csv('dataset/BindingDB/EP300_BD_final.csv')\n",
    "df_LPL_DB = pd.read_csv('dataset/BindingDB/LPL_BD_final.csv')"
   ]
  },
  {
   "cell_type": "code",
   "execution_count": 121,
   "id": "f78c5b34",
   "metadata": {},
   "outputs": [
    {
     "name": "stdout",
     "output_type": "stream",
     "text": [
      "Jumlah baris sebelum : 4989\n",
      "Jumlah baris sesudah : 4942\n"
     ]
    }
   ],
   "source": [
    "#gabung yang sama PPARG\n",
    "df_PPARG_final = pd.concat([df_PPARG_PC, df_PPARG_DB], axis=0)\n",
    "print('Jumlah baris sebelum : ' + str(df_PPARG_final.shape[0]))\n",
    "df_PPARG_final = df_PPARG_final.drop_duplicates(keep='first')\n",
    "print('Jumlah baris sesudah : ' + str(df_PPARG_final.shape[0]))\n"
   ]
  },
  {
   "cell_type": "code",
   "execution_count": 122,
   "id": "1b9d53d3",
   "metadata": {},
   "outputs": [
    {
     "name": "stdout",
     "output_type": "stream",
     "text": [
      "Jumlah baris sebelum : 430\n",
      "Jumlah baris sesudah : 428\n"
     ]
    }
   ],
   "source": [
    "#gabung yang sama EP300\n",
    "df_EP300_final = pd.concat([df_EP300_PC, df_EP300_DB], axis=0)\n",
    "print('Jumlah baris sebelum : ' + str(df_EP300_final.shape[0]))\n",
    "df_EP300_final = df_EP300_final.drop_duplicates(keep='first')\n",
    "print('Jumlah baris sesudah : ' + str(df_EP300_final.shape[0]))\n"
   ]
  },
  {
   "cell_type": "code",
   "execution_count": 123,
   "id": "0dd6519e",
   "metadata": {},
   "outputs": [
    {
     "name": "stdout",
     "output_type": "stream",
     "text": [
      "Jumlah baris sebelum : 152\n",
      "Jumlah baris sesudah : 151\n"
     ]
    }
   ],
   "source": [
    "#gabung yang sama LPL\n",
    "df_LPL_final = pd.concat([df_LPL_PC, df_LPL_DB], axis=0)\n",
    "print('Jumlah baris sebelum : ' + str(df_LPL_final.shape[0]))\n",
    "df_LPL_final = df_LPL_final.drop_duplicates(keep='first')\n",
    "print('Jumlah baris sesudah : ' + str(df_LPL_final.shape[0]))\n"
   ]
  },
  {
   "cell_type": "code",
   "execution_count": 126,
   "id": "1a83bf7f",
   "metadata": {},
   "outputs": [
    {
     "data": {
      "text/html": [
       "<div>\n",
       "<style scoped>\n",
       "    .dataframe tbody tr th:only-of-type {\n",
       "        vertical-align: middle;\n",
       "    }\n",
       "\n",
       "    .dataframe tbody tr th {\n",
       "        vertical-align: top;\n",
       "    }\n",
       "\n",
       "    .dataframe thead th {\n",
       "        text-align: right;\n",
       "    }\n",
       "</style>\n",
       "<table border=\"1\" class=\"dataframe\">\n",
       "  <thead>\n",
       "    <tr style=\"text-align: right;\">\n",
       "      <th></th>\n",
       "      <th>PubChem CID</th>\n",
       "      <th>Protein Target</th>\n",
       "    </tr>\n",
       "  </thead>\n",
       "  <tbody>\n",
       "    <tr>\n",
       "      <th>0</th>\n",
       "      <td>261</td>\n",
       "      <td>PPARGC1A</td>\n",
       "    </tr>\n",
       "    <tr>\n",
       "      <th>1</th>\n",
       "      <td>263</td>\n",
       "      <td>PPARGC1A</td>\n",
       "    </tr>\n",
       "    <tr>\n",
       "      <th>2</th>\n",
       "      <td>305</td>\n",
       "      <td>PPARGC1A</td>\n",
       "    </tr>\n",
       "    <tr>\n",
       "      <th>3</th>\n",
       "      <td>525</td>\n",
       "      <td>PPARGC1A</td>\n",
       "    </tr>\n",
       "    <tr>\n",
       "      <th>4</th>\n",
       "      <td>586</td>\n",
       "      <td>PPARGC1A</td>\n",
       "    </tr>\n",
       "    <tr>\n",
       "      <th>...</th>\n",
       "      <td>...</td>\n",
       "      <td>...</td>\n",
       "    </tr>\n",
       "    <tr>\n",
       "      <th>45</th>\n",
       "      <td>62709758</td>\n",
       "      <td>LPL</td>\n",
       "    </tr>\n",
       "    <tr>\n",
       "      <th>46</th>\n",
       "      <td>71744953</td>\n",
       "      <td>LPL</td>\n",
       "    </tr>\n",
       "    <tr>\n",
       "      <th>47</th>\n",
       "      <td>54704622</td>\n",
       "      <td>LPL</td>\n",
       "    </tr>\n",
       "    <tr>\n",
       "      <th>48</th>\n",
       "      <td>90342616</td>\n",
       "      <td>LPL</td>\n",
       "    </tr>\n",
       "    <tr>\n",
       "      <th>50</th>\n",
       "      <td>89922162</td>\n",
       "      <td>LPL</td>\n",
       "    </tr>\n",
       "  </tbody>\n",
       "</table>\n",
       "<p>6092 rows × 2 columns</p>\n",
       "</div>"
      ],
      "text/plain": [
       "    PubChem CID Protein Target\n",
       "0           261       PPARGC1A\n",
       "1           263       PPARGC1A\n",
       "2           305       PPARGC1A\n",
       "3           525       PPARGC1A\n",
       "4           586       PPARGC1A\n",
       "..          ...            ...\n",
       "45     62709758            LPL\n",
       "46     71744953            LPL\n",
       "47     54704622            LPL\n",
       "48     90342616            LPL\n",
       "50     89922162            LPL\n",
       "\n",
       "[6092 rows x 2 columns]"
      ]
     },
     "execution_count": 126,
     "metadata": {},
     "output_type": "execute_result"
    }
   ],
   "source": [
    "merge = [df_PPARGC1A_PC, df_INS_PC, df_LEP_PC, df_B3GNTL1_PC, df_PPARG_final, df_EP300_final, df_LPL_final]\n",
    "\n",
    "df = pd.concat(merge, axis=0)\n",
    "df"
   ]
  }
 ],
 "metadata": {
  "kernelspec": {
   "display_name": "Python 3 (ipykernel)",
   "language": "python",
   "name": "python3"
  },
  "language_info": {
   "codemirror_mode": {
    "name": "ipython",
    "version": 3
   },
   "file_extension": ".py",
   "mimetype": "text/x-python",
   "name": "python",
   "nbconvert_exporter": "python",
   "pygments_lexer": "ipython3",
   "version": "3.7.13"
  }
 },
 "nbformat": 4,
 "nbformat_minor": 5
}
