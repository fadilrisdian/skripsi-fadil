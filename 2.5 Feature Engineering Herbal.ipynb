{
 "cells": [
  {
   "cell_type": "code",
   "execution_count": null,
   "id": "836b0e29",
   "metadata": {},
   "outputs": [],
   "source": [
    "import pandas as pd\n",
    "import numpy as np\n",
    "import pubchempy as pc\n",
    "import time"
   ]
  },
  {
   "cell_type": "code",
   "execution_count": null,
   "id": "5b1cfb99",
   "metadata": {},
   "outputs": [],
   "source": [
    "#load df_merge\n",
    "df = pd.read_csv('dataset/testing/Dataherbaltest_with_cid.csv')\n",
    "df"
   ]
  },
  {
   "cell_type": "code",
   "execution_count": null,
   "id": "a587b0eb",
   "metadata": {},
   "outputs": [],
   "source": [
    "df_hebal = df[[\"Senyawa\", \"CID\"]]\n",
    "df_hebal['CID'] = df.loc[:,'CID'].astype(int)\n",
    "df_hebal.to_csv(\"data_herbal_siap.csv\", index= False)"
   ]
  },
  {
   "cell_type": "code",
   "execution_count": null,
   "id": "b418fd8d",
   "metadata": {},
   "outputs": [],
   "source": [
    "#load\n",
    "\n",
    "df = pd.read_csv('dataset/testing/data_herbal_siap.csv')\n",
    "list_cid_unik = df['CID'].unique()\n",
    "df = df.drop_duplicates(subset='CID', keep=\"first\")"
   ]
  },
  {
   "cell_type": "code",
   "execution_count": null,
   "id": "181b241b",
   "metadata": {},
   "outputs": [],
   "source": [
    "compound_smiles = []\n",
    "compound_fingerprint=[]\n",
    "j=0\n",
    "for i in list_cid_unik:\n",
    "    print(\"senyawa ke\", j) \n",
    "    print(\"cid\",i)\n",
    "    t0 = time.time()\n",
    "    #Smiles\n",
    "    compound_smiles.append((i,pc.Compound.from_cid(str(i)).canonical_smiles))\n",
    "    \n",
    "    t1 = time.time()\n",
    "    print(\"waktu proses\", t1-t0)\n",
    "    j=j+1\n",
    "com_smiles_herbal = pd.DataFrame(compound_smiles, columns = [\"CID_senyawa\", \"smiles\"])"
   ]
  },
  {
   "cell_type": "code",
   "execution_count": null,
   "id": "79328f20",
   "metadata": {},
   "outputs": [],
   "source": [
    "com_smiles_herbal.to_csv('com_smiles_herbal.csv', index= False)"
   ]
  },
  {
   "cell_type": "code",
   "execution_count": null,
   "id": "c2daa767",
   "metadata": {},
   "outputs": [],
   "source": [
    "#load\n",
    "\n",
    "com_smiles = pd.read_csv('dataset/testing/com_smiles_herbal.csv')"
   ]
  },
  {
   "cell_type": "code",
   "execution_count": null,
   "id": "924eff37",
   "metadata": {},
   "outputs": [],
   "source": [
    "#fingerprint library\n",
    "from PyFingerprint.fingerprint import get_fingerprint\n",
    "\n",
    "#fingerprint and it's size\n",
    "list_fp = ['pubchem' ,'klekota-roth','maccs']\n",
    "size_fp = [881, 4860, 166]"
   ]
  },
  {
   "cell_type": "code",
   "execution_count": null,
   "id": "40babc7b",
   "metadata": {},
   "outputs": [],
   "source": [
    "# feature engineering\n",
    "\n",
    "for i in range(len(list_fp)):\n",
    "    print('Processing for FP:', list_fp[i])\n",
    "    com_fingerprint_fp = pd.DataFrame(np.zeros((len(com_smiles), size_fp[i])))\n",
    "    \n",
    "    #create column names\n",
    "    #berguna untuk penggabungan pandas\n",
    "    column_names = []\n",
    "    for num in range(size_fp[i]):\n",
    "        column_names.append(num)\n",
    "      \n",
    "    j=0\n",
    "    tracknumber = 0\n",
    "    for k in com_smiles['smiles']:\n",
    "        print(\"CID senyawa\", com_smiles.iloc[j,0])\n",
    "        print(\"jumlah senyawa\", tracknumber)\n",
    "        fps = get_fingerprint(k, fp_type=list_fp[i])\n",
    "        fps = fps.to_numpy()\n",
    "        fps = fps.tolist()\n",
    "        com_fingerprint_fp.loc[j,column_names] = fps\n",
    "        j=j+1\n",
    "        tracknumber=tracknumber+1\n",
    "    print(com_fingerprint_fp)\n",
    "    \n",
    "    com_fingerprint_fp.to_csv('dataset/testing/com_fp_'+list_fp[i] +'.csv', index=False)"
   ]
  },
  {
   "cell_type": "code",
   "execution_count": null,
   "id": "62768b09",
   "metadata": {},
   "outputs": [],
   "source": []
  }
 ],
 "metadata": {
  "kernelspec": {
   "display_name": "Python 3 (ipykernel)",
   "language": "python",
   "name": "python3"
  },
  "language_info": {
   "codemirror_mode": {
    "name": "ipython",
    "version": 3
   },
   "file_extension": ".py",
   "mimetype": "text/x-python",
   "name": "python",
   "nbconvert_exporter": "python",
   "pygments_lexer": "ipython3",
   "version": "3.9.12"
  }
 },
 "nbformat": 4,
 "nbformat_minor": 5
}
